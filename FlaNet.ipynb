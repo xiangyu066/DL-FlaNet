{
  "nbformat": 4,
  "nbformat_minor": 0,
  "metadata": {
    "colab": {
      "name": "FlaNet.ipynb",
      "provenance": [],
      "collapsed_sections": [],
      "include_colab_link": true
    },
    "kernelspec": {
      "name": "python3",
      "display_name": "Python 3"
    },
    "accelerator": "GPU"
  },
  "cells": [
    {
      "cell_type": "markdown",
      "metadata": {
        "id": "view-in-github",
        "colab_type": "text"
      },
      "source": [
        "<a href=\"https://colab.research.google.com/github/xiangyu066/DL-FlaNet/blob/master/FlaNet.ipynb\" target=\"_parent\"><img src=\"https://colab.research.google.com/assets/colab-badge.svg\" alt=\"Open In Colab\"/></a>"
      ]
    },
    {
      "cell_type": "code",
      "metadata": {
        "id": "A1jZejSOyjYM",
        "colab_type": "code",
        "outputId": "50c0e4f8-ed1a-45d4-c02e-e5010ec37b73",
        "colab": {
          "base_uri": "https://localhost:8080/",
          "height": 302
        }
      },
      "source": [
        "!/opt/bin/nvidia-smi"
      ],
      "execution_count": 1,
      "outputs": [
        {
          "output_type": "stream",
          "text": [
            "Mon Nov 11 14:41:14 2019       \n",
            "+-----------------------------------------------------------------------------+\n",
            "| NVIDIA-SMI 418.67       Driver Version: 418.67       CUDA Version: 10.1     |\n",
            "|-------------------------------+----------------------+----------------------+\n",
            "| GPU  Name        Persistence-M| Bus-Id        Disp.A | Volatile Uncorr. ECC |\n",
            "| Fan  Temp  Perf  Pwr:Usage/Cap|         Memory-Usage | GPU-Util  Compute M. |\n",
            "|===============================+======================+======================|\n",
            "|   0  Tesla P100-PCIE...  Off  | 00000000:00:04.0 Off |                    0 |\n",
            "| N/A   63C    P0    37W / 250W |      0MiB / 16280MiB |      0%      Default |\n",
            "+-------------------------------+----------------------+----------------------+\n",
            "                                                                               \n",
            "+-----------------------------------------------------------------------------+\n",
            "| Processes:                                                       GPU Memory |\n",
            "|  GPU       PID   Type   Process name                             Usage      |\n",
            "|=============================================================================|\n",
            "|  No running processes found                                                 |\n",
            "+-----------------------------------------------------------------------------+\n"
          ],
          "name": "stdout"
        }
      ]
    },
    {
      "cell_type": "markdown",
      "metadata": {
        "id": "pwifFB-PYbAa",
        "colab_type": "text"
      },
      "source": [
        "# **Acess to Google drive**"
      ]
    },
    {
      "cell_type": "code",
      "metadata": {
        "id": "e3Pg_IKDcRew",
        "colab_type": "code",
        "outputId": "6869f754-ff64-4ed7-ec04-79a68b96ac0b",
        "colab": {
          "base_uri": "https://localhost:8080/",
          "height": 34
        }
      },
      "source": [
        "from google.colab import drive\n",
        "drive.mount('/content/gdrive')"
      ],
      "execution_count": 2,
      "outputs": [
        {
          "output_type": "stream",
          "text": [
            "Drive already mounted at /content/gdrive; to attempt to forcibly remount, call drive.mount(\"/content/gdrive\", force_remount=True).\n"
          ],
          "name": "stdout"
        }
      ]
    },
    {
      "cell_type": "code",
      "metadata": {
        "id": "Ui2cN-8vaCdj",
        "colab_type": "code",
        "outputId": "e875dcb8-aaf1-464d-e412-a692551b453c",
        "colab": {
          "base_uri": "https://localhost:8080/",
          "height": 79
        }
      },
      "source": [
        "import keras\n",
        "from keras import models, layers, regularizers, optimizers\n",
        "from keras.layers import Dropout, LeakyReLU\n",
        "from keras.callbacks import LearningRateScheduler\n",
        "import math\n",
        "import numpy as np\n",
        "import matplotlib.pyplot as plt\n",
        "import seaborn as sns; sns.set()\n",
        "from sklearn.metrics import confusion_matrix"
      ],
      "execution_count": 3,
      "outputs": [
        {
          "output_type": "stream",
          "text": [
            "Using TensorFlow backend.\n"
          ],
          "name": "stderr"
        },
        {
          "output_type": "display_data",
          "data": {
            "text/html": [
              "<p style=\"color: red;\">\n",
              "The default version of TensorFlow in Colab will soon switch to TensorFlow 2.x.<br>\n",
              "We recommend you <a href=\"https://www.tensorflow.org/guide/migrate\" target=\"_blank\">upgrade</a> now \n",
              "or ensure your notebook will continue to use TensorFlow 1.x via the <code>%tensorflow_version 1.x</code> magic:\n",
              "<a href=\"https://colab.research.google.com/notebooks/tensorflow_version.ipynb\" target=\"_blank\">more info</a>.</p>\n"
            ],
            "text/plain": [
              "<IPython.core.display.HTML object>"
            ]
          },
          "metadata": {
            "tags": []
          }
        }
      ]
    },
    {
      "cell_type": "markdown",
      "metadata": {
        "id": "UhgJyT3HYljy",
        "colab_type": "text"
      },
      "source": [
        "# **Importing datasets**"
      ]
    },
    {
      "cell_type": "code",
      "metadata": {
        "id": "vhyae1COdUlw",
        "colab_type": "code",
        "outputId": "ad5c4abb-5512-4e1d-b45d-61abfc604f66",
        "colab": {
          "base_uri": "https://localhost:8080/",
          "height": 34
        }
      },
      "source": [
        "cd /content/gdrive/My Drive/Colab Notebooks/FlaNet/trainingDatasets/trainingImages_npy/"
      ],
      "execution_count": 4,
      "outputs": [
        {
          "output_type": "stream",
          "text": [
            "/content/gdrive/My Drive/Colab Notebooks/FlaNet/trainingDatasets/trainingImages_npy\n"
          ],
          "name": "stdout"
        }
      ]
    },
    {
      "cell_type": "code",
      "metadata": {
        "id": "t73lMF6TWife",
        "colab_type": "code",
        "colab": {}
      },
      "source": [
        "trainingImages = []\n",
        "trainingLabels = []\n",
        "\n",
        "trainingImages_Flagellated = np.load('Flagellated_images.npy')\n",
        "trainingImages = trainingImages_Flagellated\n",
        "trainingLabels_Flagellated = np.load('Flagellated_labels_hot.npy')\n",
        "trainingLabels = trainingLabels_Flagellated\n",
        "\n",
        "trainingImages_nonFlagellated = np.load('nonFlagellated_images.npy')\n",
        "trainingImages = np.append(trainingImages,trainingImages_nonFlagellated,axis=0)\n",
        "trainLabels_nonFlagellated = np.load('nonFlagellated_labels_hot.npy')\n",
        "trainingLabels = np.append(trainingLabels,trainLabels_nonFlagellated,axis=0)\n",
        "\n",
        "# z-zero normalization\n",
        "trainingImages = trainingImages.astype('float32')\n",
        "mean_train = np.mean(trainingImages,axis=(0,1,2,3))\n",
        "std_train = np.std(trainingImages,axis=(0,1,2,3))\n",
        "trainingImages = (trainingImages-mean_train)/(std_train+1e-7)\n",
        "\n",
        "# manual shuffle\n",
        "idx = np.random.permutation(len(trainingLabels))\n",
        "trainingLabels=trainingLabels[idx]\n",
        "trainingImages=trainingImages[idx,]"
      ],
      "execution_count": 0,
      "outputs": []
    },
    {
      "cell_type": "code",
      "metadata": {
        "id": "kzCNLbByXSHH",
        "colab_type": "code",
        "outputId": "88132a1c-412e-4f29-d928-13ef344b4819",
        "colab": {
          "base_uri": "https://localhost:8080/",
          "height": 34
        }
      },
      "source": [
        "cd /content/gdrive/My Drive/Colab Notebooks/FlaNet/trainingDatasets/testImages_npy/"
      ],
      "execution_count": 6,
      "outputs": [
        {
          "output_type": "stream",
          "text": [
            "/content/gdrive/My Drive/Colab Notebooks/FlaNet/trainingDatasets/testImages_npy\n"
          ],
          "name": "stdout"
        }
      ]
    },
    {
      "cell_type": "code",
      "metadata": {
        "id": "dcw53u5HXVHO",
        "colab_type": "code",
        "colab": {}
      },
      "source": [
        "testImages = []\n",
        "testLabels = []\n",
        "\n",
        "testImages_Flagellated = np.load('Flagellated_images.npy')\n",
        "testImages = testImages_Flagellated\n",
        "testLabels_Flagellated = np.load('Flagellated_labels_hot.npy')\n",
        "testLabels = testLabels_Flagellated\n",
        "\n",
        "testImages_nonFlagellated = np.load('nonFlagellated_images.npy')\n",
        "testImages = np.append(testImages,testImages_nonFlagellated,axis=0)\n",
        "testLabels_nonFlagellated = np.load('nonFlagellated_labels_hot.npy')\n",
        "testLabels = np.append(testLabels,testLabels_nonFlagellated,axis=0)\n",
        "\n",
        "# z-zero normalization\n",
        "testImages = testImages.astype('float32')\n",
        "mean_test = np.mean(testImages,axis=(0,1,2,3))\n",
        "std_test = np.std(testImages,axis=(0,1,2,3))\n",
        "testImages = (testImages-mean_test)/(std_test+1e-7)"
      ],
      "execution_count": 0,
      "outputs": []
    },
    {
      "cell_type": "code",
      "metadata": {
        "id": "wD4sW3hMlVgE",
        "colab_type": "code",
        "outputId": "c57b2bb0-d944-4dcb-e826-8d9d51725dcb",
        "colab": {
          "base_uri": "https://localhost:8080/",
          "height": 84
        }
      },
      "source": [
        "print('The size of trainingImages:', trainingImages.shape)\n",
        "print('The size of testImages:', testImages.shape)\n",
        "print(trainingImages.shape[0], 'train samples')\n",
        "print(testImages.shape[0], 'test samples')"
      ],
      "execution_count": 8,
      "outputs": [
        {
          "output_type": "stream",
          "text": [
            "The size of trainingImages: (19072, 128, 128, 1)\n",
            "The size of testImages: (4768, 128, 128, 1)\n",
            "19072 train samples\n",
            "4768 test samples\n"
          ],
          "name": "stdout"
        }
      ]
    },
    {
      "cell_type": "markdown",
      "metadata": {
        "id": "-xNEbbj4YvGd",
        "colab_type": "text"
      },
      "source": [
        "# **Training a neural network**"
      ]
    },
    {
      "cell_type": "code",
      "metadata": {
        "id": "QZ2vwc2Wcba0",
        "colab_type": "code",
        "outputId": "f0b104cc-67c3-4f1a-9476-672493c0971c",
        "colab": {
          "base_uri": "https://localhost:8080/",
          "height": 1000
        }
      },
      "source": [
        "FlaNet = models.Sequential()\n",
        "FlaNet.add(layers.Conv2D(32, (5, 5), input_shape=(128, 128, 1), padding='same'))\n",
        "FlaNet.add(LeakyReLU(alpha=0.1))\n",
        "FlaNet.add(layers.Conv2D(32, (5, 5), padding='same'))\n",
        "FlaNet.add(LeakyReLU(alpha=0.1))\n",
        "FlaNet.add(layers.MaxPooling2D((2, 2)))\n",
        "\n",
        "FlaNet.add(layers.Conv2D(64, (5, 5), padding='same'))\n",
        "FlaNet.add(LeakyReLU(alpha=0.1))\n",
        "FlaNet.add(layers.Conv2D(64, (5, 5), padding='same'))\n",
        "FlaNet.add(LeakyReLU(alpha=0.1))\n",
        "FlaNet.add(layers.MaxPooling2D((2, 2)))\n",
        "FlaNet.add(Dropout(0.3))\n",
        "\n",
        "FlaNet.add(layers.Conv2D(128, (5, 5), padding='same'))\n",
        "FlaNet.add(LeakyReLU(alpha=0.1))\n",
        "FlaNet.add(layers.Conv2D(128, (5, 5), padding='same'))\n",
        "FlaNet.add(LeakyReLU(alpha=0.1))\n",
        "FlaNet.add(layers.MaxPooling2D((2, 2)))\n",
        "FlaNet.add(Dropout(0.4))\n",
        "\n",
        "FlaNet.add(layers.Flatten())\n",
        "FlaNet.add(layers.Dense(128, activation='relu'))\n",
        "FlaNet.add(Dropout(0.5))\n",
        "FlaNet.add(layers.Dense(1, activation='sigmoid')) \n",
        "\n",
        "FlaNet.summary()"
      ],
      "execution_count": 9,
      "outputs": [
        {
          "output_type": "stream",
          "text": [
            "WARNING:tensorflow:From /usr/local/lib/python3.6/dist-packages/keras/backend/tensorflow_backend.py:66: The name tf.get_default_graph is deprecated. Please use tf.compat.v1.get_default_graph instead.\n",
            "\n",
            "WARNING:tensorflow:From /usr/local/lib/python3.6/dist-packages/keras/backend/tensorflow_backend.py:541: The name tf.placeholder is deprecated. Please use tf.compat.v1.placeholder instead.\n",
            "\n",
            "WARNING:tensorflow:From /usr/local/lib/python3.6/dist-packages/keras/backend/tensorflow_backend.py:4432: The name tf.random_uniform is deprecated. Please use tf.random.uniform instead.\n",
            "\n",
            "WARNING:tensorflow:From /usr/local/lib/python3.6/dist-packages/keras/backend/tensorflow_backend.py:4267: The name tf.nn.max_pool is deprecated. Please use tf.nn.max_pool2d instead.\n",
            "\n",
            "WARNING:tensorflow:From /usr/local/lib/python3.6/dist-packages/keras/backend/tensorflow_backend.py:148: The name tf.placeholder_with_default is deprecated. Please use tf.compat.v1.placeholder_with_default instead.\n",
            "\n",
            "WARNING:tensorflow:From /usr/local/lib/python3.6/dist-packages/keras/backend/tensorflow_backend.py:3733: calling dropout (from tensorflow.python.ops.nn_ops) with keep_prob is deprecated and will be removed in a future version.\n",
            "Instructions for updating:\n",
            "Please use `rate` instead of `keep_prob`. Rate should be set to `rate = 1 - keep_prob`.\n",
            "Model: \"sequential_1\"\n",
            "_________________________________________________________________\n",
            "Layer (type)                 Output Shape              Param #   \n",
            "=================================================================\n",
            "conv2d_1 (Conv2D)            (None, 128, 128, 32)      832       \n",
            "_________________________________________________________________\n",
            "leaky_re_lu_1 (LeakyReLU)    (None, 128, 128, 32)      0         \n",
            "_________________________________________________________________\n",
            "conv2d_2 (Conv2D)            (None, 128, 128, 32)      25632     \n",
            "_________________________________________________________________\n",
            "leaky_re_lu_2 (LeakyReLU)    (None, 128, 128, 32)      0         \n",
            "_________________________________________________________________\n",
            "max_pooling2d_1 (MaxPooling2 (None, 64, 64, 32)        0         \n",
            "_________________________________________________________________\n",
            "conv2d_3 (Conv2D)            (None, 64, 64, 64)        51264     \n",
            "_________________________________________________________________\n",
            "leaky_re_lu_3 (LeakyReLU)    (None, 64, 64, 64)        0         \n",
            "_________________________________________________________________\n",
            "conv2d_4 (Conv2D)            (None, 64, 64, 64)        102464    \n",
            "_________________________________________________________________\n",
            "leaky_re_lu_4 (LeakyReLU)    (None, 64, 64, 64)        0         \n",
            "_________________________________________________________________\n",
            "max_pooling2d_2 (MaxPooling2 (None, 32, 32, 64)        0         \n",
            "_________________________________________________________________\n",
            "dropout_1 (Dropout)          (None, 32, 32, 64)        0         \n",
            "_________________________________________________________________\n",
            "conv2d_5 (Conv2D)            (None, 32, 32, 128)       204928    \n",
            "_________________________________________________________________\n",
            "leaky_re_lu_5 (LeakyReLU)    (None, 32, 32, 128)       0         \n",
            "_________________________________________________________________\n",
            "conv2d_6 (Conv2D)            (None, 32, 32, 128)       409728    \n",
            "_________________________________________________________________\n",
            "leaky_re_lu_6 (LeakyReLU)    (None, 32, 32, 128)       0         \n",
            "_________________________________________________________________\n",
            "max_pooling2d_3 (MaxPooling2 (None, 16, 16, 128)       0         \n",
            "_________________________________________________________________\n",
            "dropout_2 (Dropout)          (None, 16, 16, 128)       0         \n",
            "_________________________________________________________________\n",
            "flatten_1 (Flatten)          (None, 32768)             0         \n",
            "_________________________________________________________________\n",
            "dense_1 (Dense)              (None, 128)               4194432   \n",
            "_________________________________________________________________\n",
            "dropout_3 (Dropout)          (None, 128)               0         \n",
            "_________________________________________________________________\n",
            "dense_2 (Dense)              (None, 1)                 129       \n",
            "=================================================================\n",
            "Total params: 4,989,409\n",
            "Trainable params: 4,989,409\n",
            "Non-trainable params: 0\n",
            "_________________________________________________________________\n"
          ],
          "name": "stdout"
        }
      ]
    },
    {
      "cell_type": "code",
      "metadata": {
        "id": "vudplwhEc0wd",
        "colab_type": "code",
        "outputId": "7ad2f1c3-4588-45c7-8d05-f9782b0f3c9d",
        "colab": {
          "base_uri": "https://localhost:8080/",
          "height": 154
        }
      },
      "source": [
        "# define a learning schedual\n",
        "def step_decay(epoch):\n",
        "    initial_lrate = 1e-4\n",
        "    drop = 0.5\n",
        "    epochs_drop = 5\n",
        "    lrate = initial_lrate*math.pow(drop,math.floor((1+epoch)/epochs_drop))\n",
        "    return lrate\n",
        "\n",
        "FlaNet.compile(optimizer=optimizers.Adam(),\n",
        "              loss='binary_crossentropy',\n",
        "              metrics=['accuracy'])"
      ],
      "execution_count": 10,
      "outputs": [
        {
          "output_type": "stream",
          "text": [
            "WARNING:tensorflow:From /usr/local/lib/python3.6/dist-packages/keras/optimizers.py:793: The name tf.train.Optimizer is deprecated. Please use tf.compat.v1.train.Optimizer instead.\n",
            "\n",
            "WARNING:tensorflow:From /usr/local/lib/python3.6/dist-packages/keras/backend/tensorflow_backend.py:3657: The name tf.log is deprecated. Please use tf.math.log instead.\n",
            "\n",
            "WARNING:tensorflow:From /usr/local/lib/python3.6/dist-packages/tensorflow_core/python/ops/nn_impl.py:183: where (from tensorflow.python.ops.array_ops) is deprecated and will be removed in a future version.\n",
            "Instructions for updating:\n",
            "Use tf.where in 2.0, which has the same broadcast rule as np.where\n"
          ],
          "name": "stdout"
        }
      ]
    },
    {
      "cell_type": "code",
      "metadata": {
        "id": "Y94rzG58Lolg",
        "colab_type": "code",
        "outputId": "71a305b6-3b7e-4286-d1db-6ad2cc107eeb",
        "colab": {
          "base_uri": "https://localhost:8080/",
          "height": 994
        }
      },
      "source": [
        "history = FlaNet.fit(trainingImages, trainingLabels, \n",
        "                     epochs=20, batch_size=64, \n",
        "                     validation_data=(testImages,testLabels), \n",
        "                     shuffle=True, \n",
        "                     callbacks=[LearningRateScheduler(step_decay)])"
      ],
      "execution_count": 11,
      "outputs": [
        {
          "output_type": "stream",
          "text": [
            "WARNING:tensorflow:From /usr/local/lib/python3.6/dist-packages/keras/backend/tensorflow_backend.py:1033: The name tf.assign_add is deprecated. Please use tf.compat.v1.assign_add instead.\n",
            "\n",
            "WARNING:tensorflow:From /usr/local/lib/python3.6/dist-packages/keras/backend/tensorflow_backend.py:1020: The name tf.assign is deprecated. Please use tf.compat.v1.assign instead.\n",
            "\n",
            "WARNING:tensorflow:From /usr/local/lib/python3.6/dist-packages/keras/backend/tensorflow_backend.py:3005: The name tf.Session is deprecated. Please use tf.compat.v1.Session instead.\n",
            "\n",
            "Train on 19072 samples, validate on 4768 samples\n",
            "Epoch 1/20\n",
            "WARNING:tensorflow:From /usr/local/lib/python3.6/dist-packages/keras/backend/tensorflow_backend.py:190: The name tf.get_default_session is deprecated. Please use tf.compat.v1.get_default_session instead.\n",
            "\n",
            "WARNING:tensorflow:From /usr/local/lib/python3.6/dist-packages/keras/backend/tensorflow_backend.py:197: The name tf.ConfigProto is deprecated. Please use tf.compat.v1.ConfigProto instead.\n",
            "\n",
            "WARNING:tensorflow:From /usr/local/lib/python3.6/dist-packages/keras/backend/tensorflow_backend.py:207: The name tf.global_variables is deprecated. Please use tf.compat.v1.global_variables instead.\n",
            "\n",
            "WARNING:tensorflow:From /usr/local/lib/python3.6/dist-packages/keras/backend/tensorflow_backend.py:216: The name tf.is_variable_initialized is deprecated. Please use tf.compat.v1.is_variable_initialized instead.\n",
            "\n",
            "WARNING:tensorflow:From /usr/local/lib/python3.6/dist-packages/keras/backend/tensorflow_backend.py:223: The name tf.variables_initializer is deprecated. Please use tf.compat.v1.variables_initializer instead.\n",
            "\n",
            "19072/19072 [==============================] - 30s 2ms/step - loss: 0.3831 - acc: 0.8220 - val_loss: 0.1443 - val_acc: 0.9520\n",
            "Epoch 2/20\n",
            "19072/19072 [==============================] - 26s 1ms/step - loss: 0.1350 - acc: 0.9548 - val_loss: 0.0479 - val_acc: 0.9862\n",
            "Epoch 3/20\n",
            "19072/19072 [==============================] - 26s 1ms/step - loss: 0.0725 - acc: 0.9796 - val_loss: 0.1134 - val_acc: 0.9597\n",
            "Epoch 4/20\n",
            "19072/19072 [==============================] - 26s 1ms/step - loss: 0.0576 - acc: 0.9841 - val_loss: 0.0280 - val_acc: 0.9920\n",
            "Epoch 5/20\n",
            "19072/19072 [==============================] - 26s 1ms/step - loss: 0.0402 - acc: 0.9893 - val_loss: 0.0277 - val_acc: 0.9910\n",
            "Epoch 6/20\n",
            "19072/19072 [==============================] - 26s 1ms/step - loss: 0.0339 - acc: 0.9904 - val_loss: 0.0268 - val_acc: 0.9912\n",
            "Epoch 7/20\n",
            "19072/19072 [==============================] - 26s 1ms/step - loss: 0.0308 - acc: 0.9921 - val_loss: 0.0224 - val_acc: 0.9920\n",
            "Epoch 8/20\n",
            "19072/19072 [==============================] - 26s 1ms/step - loss: 0.0297 - acc: 0.9922 - val_loss: 0.0272 - val_acc: 0.9918\n",
            "Epoch 9/20\n",
            "19072/19072 [==============================] - 26s 1ms/step - loss: 0.0264 - acc: 0.9931 - val_loss: 0.0259 - val_acc: 0.9918\n",
            "Epoch 10/20\n",
            "19072/19072 [==============================] - 26s 1ms/step - loss: 0.0226 - acc: 0.9935 - val_loss: 0.0318 - val_acc: 0.9908\n",
            "Epoch 11/20\n",
            "19072/19072 [==============================] - 26s 1ms/step - loss: 0.0214 - acc: 0.9940 - val_loss: 0.0210 - val_acc: 0.9935\n",
            "Epoch 12/20\n",
            "19072/19072 [==============================] - 26s 1ms/step - loss: 0.0198 - acc: 0.9939 - val_loss: 0.0198 - val_acc: 0.9927\n",
            "Epoch 13/20\n",
            "19072/19072 [==============================] - 26s 1ms/step - loss: 0.0203 - acc: 0.9937 - val_loss: 0.0277 - val_acc: 0.9918\n",
            "Epoch 14/20\n",
            "19072/19072 [==============================] - 26s 1ms/step - loss: 0.0178 - acc: 0.9952 - val_loss: 0.0272 - val_acc: 0.9933\n",
            "Epoch 15/20\n",
            "19072/19072 [==============================] - 26s 1ms/step - loss: 0.0145 - acc: 0.9953 - val_loss: 0.0215 - val_acc: 0.9924\n",
            "Epoch 16/20\n",
            "19072/19072 [==============================] - 26s 1ms/step - loss: 0.0146 - acc: 0.9953 - val_loss: 0.0251 - val_acc: 0.9929\n",
            "Epoch 17/20\n",
            "19072/19072 [==============================] - 26s 1ms/step - loss: 0.0133 - acc: 0.9959 - val_loss: 0.0268 - val_acc: 0.9933\n",
            "Epoch 18/20\n",
            "19072/19072 [==============================] - 26s 1ms/step - loss: 0.0132 - acc: 0.9958 - val_loss: 0.0240 - val_acc: 0.9937\n",
            "Epoch 19/20\n",
            "19072/19072 [==============================] - 26s 1ms/step - loss: 0.0122 - acc: 0.9960 - val_loss: 0.0248 - val_acc: 0.9931\n",
            "Epoch 20/20\n",
            "19072/19072 [==============================] - 26s 1ms/step - loss: 0.0119 - acc: 0.9966 - val_loss: 0.0266 - val_acc: 0.9935\n"
          ],
          "name": "stdout"
        }
      ]
    },
    {
      "cell_type": "code",
      "metadata": {
        "id": "KxZsBEiQc4LL",
        "colab_type": "code",
        "outputId": "1d5bf990-f303-4c77-9d15-c564eff8bb6d",
        "colab": {
          "base_uri": "https://localhost:8080/",
          "height": 67
        }
      },
      "source": [
        "test_loss, test_acc = FlaNet.evaluate(testImages, testLabels)\n",
        "print('Test loss:', test_loss)\n",
        "print('Test accuracy:', test_acc)"
      ],
      "execution_count": 12,
      "outputs": [
        {
          "output_type": "stream",
          "text": [
            "4768/4768 [==============================] - 2s 487us/step\n",
            "Test loss: 0.02656648431708894\n",
            "Test accuracy: 0.993498322147651\n"
          ],
          "name": "stdout"
        }
      ]
    },
    {
      "cell_type": "markdown",
      "metadata": {
        "id": "7mHIwC2qs8P9",
        "colab_type": "text"
      },
      "source": [
        "# **Confusion matrix**"
      ]
    },
    {
      "cell_type": "code",
      "metadata": {
        "id": "AjtbTfQaY_sW",
        "colab_type": "code",
        "colab": {}
      },
      "source": [
        "test_predict = FlaNet.predict(testImages)\n",
        "##\n",
        "# binary crossentropy\n",
        "predictLabels = [1 * (test_predict[i]>=0.5) for i in range(len(test_predict))]\n",
        "predictLabels = np.array(predictLabels)\n",
        "\n",
        "# categorical crossentropy\n",
        "#predictLabels = np.array([np.argmax(test_predict[i]) for i in range(len(test_predict))])\n",
        "#testLabels = np.array([np.argmax(testLabels[i]) for i in range(len(test_predict))])"
      ],
      "execution_count": 0,
      "outputs": []
    },
    {
      "cell_type": "code",
      "metadata": {
        "id": "hDskpQnTb4j0",
        "colab_type": "code",
        "outputId": "701d066d-fb51-4145-f318-37ad16e674e3",
        "colab": {
          "base_uri": "https://localhost:8080/",
          "height": 34
        }
      },
      "source": [
        "predictLabels.shape"
      ],
      "execution_count": 14,
      "outputs": [
        {
          "output_type": "execute_result",
          "data": {
            "text/plain": [
              "(4768, 1)"
            ]
          },
          "metadata": {
            "tags": []
          },
          "execution_count": 14
        }
      ]
    },
    {
      "cell_type": "code",
      "metadata": {
        "id": "tuD6uFWVcA5m",
        "colab_type": "code",
        "outputId": "872e5204-53f5-46b6-94b7-a1c7586cdeac",
        "colab": {
          "base_uri": "https://localhost:8080/",
          "height": 34
        }
      },
      "source": [
        "testLabels.shape"
      ],
      "execution_count": 15,
      "outputs": [
        {
          "output_type": "execute_result",
          "data": {
            "text/plain": [
              "(4768,)"
            ]
          },
          "metadata": {
            "tags": []
          },
          "execution_count": 15
        }
      ]
    },
    {
      "cell_type": "code",
      "metadata": {
        "id": "rxyruJbpY3DO",
        "colab_type": "code",
        "outputId": "30c2e69f-940e-411e-ce4d-fd550ab2a165",
        "colab": {
          "base_uri": "https://localhost:8080/",
          "height": 394
        }
      },
      "source": [
        "mat = confusion_matrix(predictLabels, testLabels)\n",
        "\n",
        "plt.figure(figsize=(8,6))\n",
        "ax=sns.heatmap(mat, square=False, annot=True, fmt=\"d\", cbar=True)\n",
        "\n",
        "# !!! There is a bug in matplotlib ver.3.1.1 causing truncated heatmap \n",
        "bottom, top = ax.get_ylim()\n",
        "ax.set_ylim(bottom + 0.5, top - 0.5)\n",
        "# !!!\n",
        "\n",
        "plt.xlabel('predicted value')\n",
        "plt.ylabel('true value')\n",
        "plt.show()"
      ],
      "execution_count": 16,
      "outputs": [
        {
          "output_type": "display_data",
          "data": {
            "image/png": "[encoded data removed]",
            "text/plain": [
              "<Figure size 576x432 with 2 Axes>"
            ]
          },
          "metadata": {
            "tags": []
          }
        }
      ]
    },
    {
      "cell_type": "markdown",
      "metadata": {
        "id": "73LSKAucPIcr",
        "colab_type": "text"
      },
      "source": [
        "# **Inspection of overfitting**"
      ]
    },
    {
      "cell_type": "code",
      "metadata": {
        "id": "roGt1QTD9Z4T",
        "colab_type": "code",
        "colab": {}
      },
      "source": [
        "acc = history.history['acc']\n",
        "val_acc = history.history['val_acc']\n",
        "loss = history.history['loss']\n",
        "val_loss = history.history['val_loss']\n",
        "epochs = range(len(acc))"
      ],
      "execution_count": 0,
      "outputs": []
    },
    {
      "cell_type": "code",
      "metadata": {
        "id": "mz6Is2XDO_0X",
        "colab_type": "code",
        "outputId": "11fa7d43-36e8-4937-8839-3cbb902fab74",
        "colab": {
          "base_uri": "https://localhost:8080/",
          "height": 301
        }
      },
      "source": [
        "plt.figure()\n",
        "plt.plot(epochs, acc, 'r', label='Training acc')\n",
        "plt.plot(epochs, val_acc, 'b', label='Validation acc')\n",
        "plt.title('Training and validation accuracy')\n",
        "plt.xlabel('epochs')\n",
        "plt.ylabel('accuracy')\n",
        "plt.legend()\n",
        "plt.show()"
      ],
      "execution_count": 18,
      "outputs": [
        {
          "output_type": "display_data",
          "data": {
            "image/png": "[encoded data removed]",
            "text/plain": [
              "<Figure size 432x288 with 1 Axes>"
            ]
          },
          "metadata": {
            "tags": []
          }
        }
      ]
    },
    {
      "cell_type": "code",
      "metadata": {
        "id": "Brxz60pyPABz",
        "colab_type": "code",
        "outputId": "ad1ca3f0-1f2f-4b99-8df4-4dc81b1718c1",
        "colab": {
          "base_uri": "https://localhost:8080/",
          "height": 301
        }
      },
      "source": [
        "plt.figure()\n",
        "plt.plot(epochs, loss, 'r', label='Training loss')\n",
        "plt.plot(epochs, val_loss, 'b', label='Validation loss')\n",
        "plt.title('Training and validation loss')\n",
        "plt.xlabel('epochs')\n",
        "plt.ylabel('loss')\n",
        "plt.legend()\n",
        "plt.show()"
      ],
      "execution_count": 19,
      "outputs": [
        {
          "output_type": "display_data",
          "data": {
            "image/png": "[encoded data removed]",
            "text/plain": [
              "<Figure size 432x288 with 1 Axes>"
            ]
          },
          "metadata": {
            "tags": []
          }
        }
      ]
    },
    {
      "cell_type": "markdown",
      "metadata": {
        "id": "5sNC3YEc0IUA",
        "colab_type": "text"
      },
      "source": [
        "#**Save trained network & history**"
      ]
    },
    {
      "cell_type": "code",
      "metadata": {
        "id": "qPBgloYAFNih",
        "colab_type": "code",
        "outputId": "6d83e488-c6ca-48d9-9cb8-bdea9d595066",
        "colab": {
          "base_uri": "https://localhost:8080/",
          "height": 34
        }
      },
      "source": [
        "cd /content/gdrive/My Drive/Colab Notebooks/FlaNet/trainingDatasets/"
      ],
      "execution_count": 20,
      "outputs": [
        {
          "output_type": "stream",
          "text": [
            "/content/gdrive/My Drive/Colab Notebooks/FlaNet/trainingDatasets\n"
          ],
          "name": "stdout"
        }
      ]
    },
    {
      "cell_type": "code",
      "metadata": {
        "id": "JNrafT520WLT",
        "colab_type": "code",
        "colab": {}
      },
      "source": [
        "# save trained network\n",
        "FlaNet.save('FlaNet.h5') "
      ],
      "execution_count": 0,
      "outputs": []
    },
    {
      "cell_type": "code",
      "metadata": {
        "id": "cVZAqV0SAVqw",
        "colab_type": "code",
        "colab": {}
      },
      "source": [
        "# save history\n",
        "import pandas as pd\n",
        "   \n",
        "FlaNet_df = pd.DataFrame(history.history) \n",
        "\n",
        "with open('FlaNet.csv', mode='w') as f:\n",
        "    FlaNet_df.to_csv(f)"
      ],
      "execution_count": 0,
      "outputs": []
    }
  ]
}