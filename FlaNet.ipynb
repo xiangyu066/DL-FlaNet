{
  "nbformat": 4,
  "nbformat_minor": 0,
  "metadata": {
    "colab": {
      "name": "FlaNet.ipynb",
      "provenance": [],
      "collapsed_sections": [],
      "include_colab_link": true
    },
    "kernelspec": {
      "name": "python3",
      "display_name": "Python 3"
    },
    "accelerator": "GPU"
  },
  "cells": [
    {
      "cell_type": "markdown",
      "metadata": {
        "id": "view-in-github",
        "colab_type": "text"
      },
      "source": [
        "<a href=\"https://colab.research.google.com/github/xiangyu066/DL-FlaNet/blob/master/FlaNet.ipynb\" target=\"_parent\"><img src=\"https://colab.research.google.com/assets/colab-badge.svg\" alt=\"Open In Colab\"/></a>"
      ]
    },
    {
      "cell_type": "code",
      "metadata": {
        "id": "A1jZejSOyjYM",
        "colab_type": "code",
        "outputId": "c811d6db-c013-4639-cc5b-07c99030f202",
        "colab": {
          "base_uri": "https://localhost:8080/",
          "height": 302
        }
      },
      "source": [
        "!/opt/bin/nvidia-smi"
      ],
      "execution_count": 1,
      "outputs": [
        {
          "output_type": "stream",
          "text": [
            "Tue Nov  5 15:23:25 2019       \n",
            "+-----------------------------------------------------------------------------+\n",
            "| NVIDIA-SMI 418.67       Driver Version: 418.67       CUDA Version: 10.1     |\n",
            "|-------------------------------+----------------------+----------------------+\n",
            "| GPU  Name        Persistence-M| Bus-Id        Disp.A | Volatile Uncorr. ECC |\n",
            "| Fan  Temp  Perf  Pwr:Usage/Cap|         Memory-Usage | GPU-Util  Compute M. |\n",
            "|===============================+======================+======================|\n",
            "|   0  Tesla K80           Off  | 00000000:00:04.0 Off |                    0 |\n",
            "| N/A   52C    P8    30W / 149W |      0MiB / 11441MiB |      0%      Default |\n",
            "+-------------------------------+----------------------+----------------------+\n",
            "                                                                               \n",
            "+-----------------------------------------------------------------------------+\n",
            "| Processes:                                                       GPU Memory |\n",
            "|  GPU       PID   Type   Process name                             Usage      |\n",
            "|=============================================================================|\n",
            "|  No running processes found                                                 |\n",
            "+-----------------------------------------------------------------------------+\n"
          ],
          "name": "stdout"
        }
      ]
    },
    {
      "cell_type": "markdown",
      "metadata": {
        "id": "pwifFB-PYbAa",
        "colab_type": "text"
      },
      "source": [
        "# **Acess to Google drive**"
      ]
    },
    {
      "cell_type": "code",
      "metadata": {
        "id": "e3Pg_IKDcRew",
        "colab_type": "code",
        "outputId": "28eecdc6-5351-409c-f84c-dcfa3c3b8545",
        "colab": {
          "base_uri": "https://localhost:8080/",
          "height": 34
        }
      },
      "source": [
        "from google.colab import drive\n",
        "drive.mount('/content/gdrive')"
      ],
      "execution_count": 2,
      "outputs": [
        {
          "output_type": "stream",
          "text": [
            "Drive already mounted at /content/gdrive; to attempt to forcibly remount, call drive.mount(\"/content/gdrive\", force_remount=True).\n"
          ],
          "name": "stdout"
        }
      ]
    },
    {
      "cell_type": "markdown",
      "metadata": {
        "id": "UhgJyT3HYljy",
        "colab_type": "text"
      },
      "source": [
        "# **Importing datasets**"
      ]
    },
    {
      "cell_type": "code",
      "metadata": {
        "id": "vhyae1COdUlw",
        "colab_type": "code",
        "outputId": "f0953b51-a09d-4fe3-ec7f-36460537caed",
        "colab": {
          "base_uri": "https://localhost:8080/",
          "height": 34
        }
      },
      "source": [
        "cd /content/gdrive/My Drive/Colab Notebooks/FlaNet/trainingDatasets/trainingImages_npy/"
      ],
      "execution_count": 3,
      "outputs": [
        {
          "output_type": "stream",
          "text": [
            "/content/gdrive/My Drive/Colab Notebooks/FlaNet/trainingDatasets/trainingImages_npy\n"
          ],
          "name": "stdout"
        }
      ]
    },
    {
      "cell_type": "code",
      "metadata": {
        "id": "t73lMF6TWife",
        "colab_type": "code",
        "colab": {}
      },
      "source": [
        "import numpy as np\n",
        "\n",
        "trainingImages = []\n",
        "trainingLabels = []\n",
        "\n",
        "trainingImages_Flagellated = np.load('Flagellated_images.npy')\n",
        "trainingImages = trainingImages_Flagellated\n",
        "trainingLabels_Flagellated = np.load('Flagellated_labels_hot.npy')\n",
        "trainingLabels = trainingLabels_Flagellated\n",
        "\n",
        "trainingImages_nonFlagellated = np.load('nonFlagellated_images.npy')\n",
        "trainingImages = np.append(trainingImages,trainingImages_nonFlagellated,axis=0)\n",
        "trainLabels_nonFlagellated = np.load('nonFlagellated_labels_hot.npy')\n",
        "trainingLabels = np.append(trainingLabels,trainLabels_nonFlagellated,axis=0)\n",
        "\n",
        "#trainingImages = trainingImages.astype('float32') / 255"
      ],
      "execution_count": 0,
      "outputs": []
    },
    {
      "cell_type": "code",
      "metadata": {
        "id": "e_0NAig1X_gn",
        "colab_type": "code",
        "colab": {}
      },
      "source": [
        "# manual shuffle\n",
        "idx = np.random.permutation(len(trainingLabels))\n",
        "trainingLabels=trainingLabels[idx]\n",
        "trainingImages=trainingImages[idx,]"
      ],
      "execution_count": 0,
      "outputs": []
    },
    {
      "cell_type": "code",
      "metadata": {
        "id": "9l1BtNf5kvlG",
        "colab_type": "code",
        "outputId": "59ad6243-c4a9-4450-f38f-d5159259841a",
        "colab": {
          "base_uri": "https://localhost:8080/",
          "height": 34
        }
      },
      "source": [
        "trainingLabels.shape"
      ],
      "execution_count": 6,
      "outputs": [
        {
          "output_type": "execute_result",
          "data": {
            "text/plain": [
              "(9536,)"
            ]
          },
          "metadata": {
            "tags": []
          },
          "execution_count": 6
        }
      ]
    },
    {
      "cell_type": "code",
      "metadata": {
        "id": "ZnZkSsM4lFo5",
        "colab_type": "code",
        "outputId": "69f3a388-5923-4430-8001-ef74cfd6b06c",
        "colab": {
          "base_uri": "https://localhost:8080/",
          "height": 34
        }
      },
      "source": [
        "trainingImages.shape"
      ],
      "execution_count": 7,
      "outputs": [
        {
          "output_type": "execute_result",
          "data": {
            "text/plain": [
              "(9536, 128, 128, 1)"
            ]
          },
          "metadata": {
            "tags": []
          },
          "execution_count": 7
        }
      ]
    },
    {
      "cell_type": "code",
      "metadata": {
        "id": "kzCNLbByXSHH",
        "colab_type": "code",
        "outputId": "0a770cdb-a586-4378-8532-02e8d75355d8",
        "colab": {
          "base_uri": "https://localhost:8080/",
          "height": 34
        }
      },
      "source": [
        "cd /content/gdrive/My Drive/Colab Notebooks/FlaNet/trainingDatasets/testImages_npy/"
      ],
      "execution_count": 8,
      "outputs": [
        {
          "output_type": "stream",
          "text": [
            "/content/gdrive/My Drive/Colab Notebooks/FlaNet/trainingDatasets/testImages_npy\n"
          ],
          "name": "stdout"
        }
      ]
    },
    {
      "cell_type": "code",
      "metadata": {
        "id": "dcw53u5HXVHO",
        "colab_type": "code",
        "colab": {}
      },
      "source": [
        "testImages = []\n",
        "testLabels = []\n",
        "\n",
        "testImages_Flagellated = np.load('Flagellated_images.npy')\n",
        "testImages = testImages_Flagellated\n",
        "testLabels_Flagellated = np.load('Flagellated_labels_hot.npy')\n",
        "testLabels = testLabels_Flagellated\n",
        "\n",
        "testImages_nonFlagellated = np.load('nonFlagellated_images.npy')\n",
        "testImages = np.append(testImages,testImages_nonFlagellated,axis=0)\n",
        "testLabels_nonFlagellated = np.load('nonFlagellated_labels_hot.npy')\n",
        "testLabels = np.append(testLabels,testLabels_nonFlagellated,axis=0)\n",
        "\n",
        "#testImages = testImages.astype('float32') / 255"
      ],
      "execution_count": 0,
      "outputs": []
    },
    {
      "cell_type": "code",
      "metadata": {
        "id": "f3BV7IArln9R",
        "colab_type": "code",
        "outputId": "60807414-5ca6-4248-f43f-995bb2909ca1",
        "colab": {
          "base_uri": "https://localhost:8080/",
          "height": 34
        }
      },
      "source": [
        "testLabels.shape"
      ],
      "execution_count": 10,
      "outputs": [
        {
          "output_type": "execute_result",
          "data": {
            "text/plain": [
              "(2384,)"
            ]
          },
          "metadata": {
            "tags": []
          },
          "execution_count": 10
        }
      ]
    },
    {
      "cell_type": "code",
      "metadata": {
        "id": "wD4sW3hMlVgE",
        "colab_type": "code",
        "outputId": "6a39ed19-1ef6-4dea-b641-3385186d0833",
        "colab": {
          "base_uri": "https://localhost:8080/",
          "height": 34
        }
      },
      "source": [
        "testImages.shape"
      ],
      "execution_count": 11,
      "outputs": [
        {
          "output_type": "execute_result",
          "data": {
            "text/plain": [
              "(2384, 128, 128, 1)"
            ]
          },
          "metadata": {
            "tags": []
          },
          "execution_count": 11
        }
      ]
    },
    {
      "cell_type": "markdown",
      "metadata": {
        "id": "-xNEbbj4YvGd",
        "colab_type": "text"
      },
      "source": [
        "# **Training a neural network**"
      ]
    },
    {
      "cell_type": "code",
      "metadata": {
        "id": "GQ6_wB9vcacT",
        "colab_type": "code",
        "outputId": "e65b3a2f-0905-405a-9e34-6ed78434220d",
        "colab": {
          "base_uri": "https://localhost:8080/",
          "height": 96
        }
      },
      "source": [
        "import keras\n",
        "keras.__version__"
      ],
      "execution_count": 12,
      "outputs": [
        {
          "output_type": "stream",
          "text": [
            "Using TensorFlow backend.\n"
          ],
          "name": "stderr"
        },
        {
          "output_type": "display_data",
          "data": {
            "text/html": [
              "<p style=\"color: red;\">\n",
              "The default version of TensorFlow in Colab will soon switch to TensorFlow 2.x.<br>\n",
              "We recommend you <a href=\"https://www.tensorflow.org/guide/migrate\" target=\"_blank\">upgrade</a> now \n",
              "or ensure your notebook will continue to use TensorFlow 1.x via the <code>%tensorflow_version 1.x</code> magic:\n",
              "<a href=\"https://colab.research.google.com/notebooks/tensorflow_version.ipynb\" target=\"_blank\">more info</a>.</p>\n"
            ],
            "text/plain": [
              "<IPython.core.display.HTML object>"
            ]
          },
          "metadata": {
            "tags": []
          }
        },
        {
          "output_type": "execute_result",
          "data": {
            "text/plain": [
              "'2.2.5'"
            ]
          },
          "metadata": {
            "tags": []
          },
          "execution_count": 12
        }
      ]
    },
    {
      "cell_type": "code",
      "metadata": {
        "id": "QZ2vwc2Wcba0",
        "colab_type": "code",
        "outputId": "40ac8afe-8722-4677-e7ed-aa2bf7ba3196",
        "colab": {
          "base_uri": "https://localhost:8080/",
          "height": 642
        }
      },
      "source": [
        "from keras import layers\n",
        "from keras import models\n",
        "from keras import regularizers\n",
        "\n",
        "FlaNet = models.Sequential()\n",
        "FlaNet.add(layers.Conv2D(64, (5, 5), activation='relu', input_shape=(128, 128, 1), padding='same'))\n",
        "FlaNet.add(layers.MaxPooling2D((3, 3),strides=2))\n",
        "FlaNet.add(layers.Conv2D(128, (5, 5), activation='relu', padding='same'))\n",
        "FlaNet.add(layers.MaxPooling2D((3, 3),strides=2))\n",
        "FlaNet.add(layers.Conv2D(128, (5, 5), activation='relu', padding='same'))\n",
        "FlaNet.add(layers.MaxPooling2D((3, 3),strides=2))\n",
        "FlaNet.add(layers.Flatten())\n",
        "FlaNet.add(layers.Dense(128, kernel_regularizer=regularizers.l2(0.001), activation='relu'))\n",
        "FlaNet.add(layers.Dense(128, kernel_regularizer=regularizers.l2(0.001), activation='relu'))\n",
        "\n",
        "# binary crossentropy\n",
        "FlaNet.add(layers.Dense(1, activation='sigmoid')) \n",
        "\n",
        "# categorical crossentropy\n",
        "#FlaNet.add(layers.Dense(2, activation='softmax')) \n",
        "\n",
        "FlaNet.summary()"
      ],
      "execution_count": 13,
      "outputs": [
        {
          "output_type": "stream",
          "text": [
            "WARNING:tensorflow:From /usr/local/lib/python3.6/dist-packages/keras/backend/tensorflow_backend.py:66: The name tf.get_default_graph is deprecated. Please use tf.compat.v1.get_default_graph instead.\n",
            "\n",
            "WARNING:tensorflow:From /usr/local/lib/python3.6/dist-packages/keras/backend/tensorflow_backend.py:541: The name tf.placeholder is deprecated. Please use tf.compat.v1.placeholder instead.\n",
            "\n",
            "WARNING:tensorflow:From /usr/local/lib/python3.6/dist-packages/keras/backend/tensorflow_backend.py:4432: The name tf.random_uniform is deprecated. Please use tf.random.uniform instead.\n",
            "\n",
            "WARNING:tensorflow:From /usr/local/lib/python3.6/dist-packages/keras/backend/tensorflow_backend.py:4267: The name tf.nn.max_pool is deprecated. Please use tf.nn.max_pool2d instead.\n",
            "\n",
            "Model: \"sequential_1\"\n",
            "_________________________________________________________________\n",
            "Layer (type)                 Output Shape              Param #   \n",
            "=================================================================\n",
            "conv2d_1 (Conv2D)            (None, 128, 128, 64)      1664      \n",
            "_________________________________________________________________\n",
            "max_pooling2d_1 (MaxPooling2 (None, 63, 63, 64)        0         \n",
            "_________________________________________________________________\n",
            "conv2d_2 (Conv2D)            (None, 63, 63, 128)       204928    \n",
            "_________________________________________________________________\n",
            "max_pooling2d_2 (MaxPooling2 (None, 31, 31, 128)       0         \n",
            "_________________________________________________________________\n",
            "conv2d_3 (Conv2D)            (None, 31, 31, 128)       409728    \n",
            "_________________________________________________________________\n",
            "max_pooling2d_3 (MaxPooling2 (None, 15, 15, 128)       0         \n",
            "_________________________________________________________________\n",
            "flatten_1 (Flatten)          (None, 28800)             0         \n",
            "_________________________________________________________________\n",
            "dense_1 (Dense)              (None, 128)               3686528   \n",
            "_________________________________________________________________\n",
            "dense_2 (Dense)              (None, 128)               16512     \n",
            "_________________________________________________________________\n",
            "dense_3 (Dense)              (None, 1)                 129       \n",
            "=================================================================\n",
            "Total params: 4,319,489\n",
            "Trainable params: 4,319,489\n",
            "Non-trainable params: 0\n",
            "_________________________________________________________________\n"
          ],
          "name": "stdout"
        }
      ]
    },
    {
      "cell_type": "code",
      "metadata": {
        "id": "vudplwhEc0wd",
        "colab_type": "code",
        "outputId": "1728e943-ccbf-4f2e-c2ac-75016520427e",
        "colab": {
          "base_uri": "https://localhost:8080/",
          "height": 154
        }
      },
      "source": [
        "from keras import optimizers\n",
        "\n",
        "# binary crossentropy\n",
        "FlaNet.compile(optimizer=optimizers.RMSprop(lr=1e-4),\n",
        "              loss='binary_crossentropy',\n",
        "              metrics=['accuracy'])\n",
        "\n",
        "# categorical crossentropy\n",
        "#from keras.utils import to_categorical\n",
        "#trainingLabels = to_categorical(trainingLabels)\n",
        "#testLabels = to_categorical(testLabels)\n",
        "#FlaNet.compile(optimizer=optimizers.RMSprop(lr=1e-5),\n",
        "#              loss='categorical_crossentropy',\n",
        "#              metrics=['accuracy'])"
      ],
      "execution_count": 14,
      "outputs": [
        {
          "output_type": "stream",
          "text": [
            "WARNING:tensorflow:From /usr/local/lib/python3.6/dist-packages/keras/optimizers.py:793: The name tf.train.Optimizer is deprecated. Please use tf.compat.v1.train.Optimizer instead.\n",
            "\n",
            "WARNING:tensorflow:From /usr/local/lib/python3.6/dist-packages/keras/backend/tensorflow_backend.py:3657: The name tf.log is deprecated. Please use tf.math.log instead.\n",
            "\n",
            "WARNING:tensorflow:From /usr/local/lib/python3.6/dist-packages/tensorflow_core/python/ops/nn_impl.py:183: where (from tensorflow.python.ops.array_ops) is deprecated and will be removed in a future version.\n",
            "Instructions for updating:\n",
            "Use tf.where in 2.0, which has the same broadcast rule as np.where\n"
          ],
          "name": "stdout"
        }
      ]
    },
    {
      "cell_type": "code",
      "metadata": {
        "id": "Y94rzG58Lolg",
        "colab_type": "code",
        "outputId": "3f102688-328d-4a0e-f0e7-a691f1b182a5",
        "colab": {
          "base_uri": "https://localhost:8080/",
          "height": 1000
        }
      },
      "source": [
        "history = FlaNet.fit(trainingImages, trainingLabels, epochs=100, batch_size=16, validation_split=0.2)"
      ],
      "execution_count": 15,
      "outputs": [
        {
          "output_type": "stream",
          "text": [
            "WARNING:tensorflow:From /usr/local/lib/python3.6/dist-packages/keras/backend/tensorflow_backend.py:1033: The name tf.assign_add is deprecated. Please use tf.compat.v1.assign_add instead.\n",
            "\n",
            "WARNING:tensorflow:From /usr/local/lib/python3.6/dist-packages/keras/backend/tensorflow_backend.py:1020: The name tf.assign is deprecated. Please use tf.compat.v1.assign instead.\n",
            "\n",
            "WARNING:tensorflow:From /usr/local/lib/python3.6/dist-packages/keras/backend/tensorflow_backend.py:3005: The name tf.Session is deprecated. Please use tf.compat.v1.Session instead.\n",
            "\n",
            "Train on 7628 samples, validate on 1908 samples\n",
            "Epoch 1/100\n",
            "WARNING:tensorflow:From /usr/local/lib/python3.6/dist-packages/keras/backend/tensorflow_backend.py:190: The name tf.get_default_session is deprecated. Please use tf.compat.v1.get_default_session instead.\n",
            "\n",
            "WARNING:tensorflow:From /usr/local/lib/python3.6/dist-packages/keras/backend/tensorflow_backend.py:197: The name tf.ConfigProto is deprecated. Please use tf.compat.v1.ConfigProto instead.\n",
            "\n",
            "WARNING:tensorflow:From /usr/local/lib/python3.6/dist-packages/keras/backend/tensorflow_backend.py:207: The name tf.global_variables is deprecated. Please use tf.compat.v1.global_variables instead.\n",
            "\n",
            "WARNING:tensorflow:From /usr/local/lib/python3.6/dist-packages/keras/backend/tensorflow_backend.py:216: The name tf.is_variable_initialized is deprecated. Please use tf.compat.v1.is_variable_initialized instead.\n",
            "\n",
            "WARNING:tensorflow:From /usr/local/lib/python3.6/dist-packages/keras/backend/tensorflow_backend.py:223: The name tf.variables_initializer is deprecated. Please use tf.compat.v1.variables_initializer instead.\n",
            "\n",
            "7628/7628 [==============================] - 30s 4ms/step - loss: 2.9553 - acc: 0.6749 - val_loss: 0.6401 - val_acc: 0.6693\n",
            "Epoch 2/100\n",
            "7628/7628 [==============================] - 27s 4ms/step - loss: 0.3864 - acc: 0.8730 - val_loss: 0.2514 - val_acc: 0.9308\n",
            "Epoch 3/100\n",
            "7628/7628 [==============================] - 27s 4ms/step - loss: 0.2326 - acc: 0.9300 - val_loss: 0.1599 - val_acc: 0.9560\n",
            "Epoch 4/100\n",
            "7628/7628 [==============================] - 27s 4ms/step - loss: 0.1598 - acc: 0.9562 - val_loss: 0.1375 - val_acc: 0.9670\n",
            "Epoch 5/100\n",
            "7628/7628 [==============================] - 28s 4ms/step - loss: 0.1286 - acc: 0.9705 - val_loss: 0.1364 - val_acc: 0.9623\n",
            "Epoch 6/100\n",
            "7628/7628 [==============================] - 27s 4ms/step - loss: 0.1103 - acc: 0.9756 - val_loss: 0.1739 - val_acc: 0.9591\n",
            "Epoch 7/100\n",
            "7628/7628 [==============================] - 28s 4ms/step - loss: 0.1019 - acc: 0.9781 - val_loss: 0.1255 - val_acc: 0.9696\n",
            "Epoch 8/100\n",
            "7628/7628 [==============================] - 27s 4ms/step - loss: 0.0925 - acc: 0.9790 - val_loss: 0.1173 - val_acc: 0.9691\n",
            "Epoch 9/100\n",
            "7628/7628 [==============================] - 27s 4ms/step - loss: 0.0781 - acc: 0.9843 - val_loss: 0.1075 - val_acc: 0.9717\n",
            "Epoch 10/100\n",
            "7628/7628 [==============================] - 27s 4ms/step - loss: 0.0753 - acc: 0.9831 - val_loss: 0.1198 - val_acc: 0.9733\n",
            "Epoch 11/100\n",
            "7628/7628 [==============================] - 27s 4ms/step - loss: 0.0680 - acc: 0.9862 - val_loss: 0.1392 - val_acc: 0.9680\n",
            "Epoch 12/100\n",
            "7628/7628 [==============================] - 27s 4ms/step - loss: 0.0645 - acc: 0.9879 - val_loss: 0.1082 - val_acc: 0.9712\n",
            "Epoch 13/100\n",
            "7628/7628 [==============================] - 27s 4ms/step - loss: 0.0614 - acc: 0.9878 - val_loss: 0.1031 - val_acc: 0.9785\n",
            "Epoch 14/100\n",
            "7628/7628 [==============================] - 27s 4ms/step - loss: 0.0570 - acc: 0.9891 - val_loss: 0.1426 - val_acc: 0.9670\n",
            "Epoch 15/100\n",
            "7628/7628 [==============================] - 27s 4ms/step - loss: 0.0562 - acc: 0.9902 - val_loss: 0.1142 - val_acc: 0.9759\n",
            "Epoch 16/100\n",
            "7628/7628 [==============================] - 27s 4ms/step - loss: 0.0494 - acc: 0.9912 - val_loss: 0.1391 - val_acc: 0.9623\n",
            "Epoch 17/100\n",
            "7628/7628 [==============================] - 27s 4ms/step - loss: 0.0429 - acc: 0.9931 - val_loss: 0.1195 - val_acc: 0.9743\n",
            "Epoch 18/100\n",
            "7628/7628 [==============================] - 27s 4ms/step - loss: 0.0409 - acc: 0.9933 - val_loss: 0.1401 - val_acc: 0.9701\n",
            "Epoch 19/100\n",
            "7628/7628 [==============================] - 28s 4ms/step - loss: 0.0378 - acc: 0.9937 - val_loss: 0.1104 - val_acc: 0.9775\n",
            "Epoch 20/100\n",
            "7628/7628 [==============================] - 27s 4ms/step - loss: 0.0389 - acc: 0.9929 - val_loss: 0.1073 - val_acc: 0.9738\n",
            "Epoch 21/100\n",
            "7628/7628 [==============================] - 27s 4ms/step - loss: 0.0392 - acc: 0.9932 - val_loss: 0.1303 - val_acc: 0.9680\n",
            "Epoch 22/100\n",
            "7628/7628 [==============================] - 27s 4ms/step - loss: 0.0335 - acc: 0.9955 - val_loss: 0.1869 - val_acc: 0.9471\n",
            "Epoch 23/100\n",
            "7628/7628 [==============================] - 27s 4ms/step - loss: 0.0385 - acc: 0.9928 - val_loss: 0.1444 - val_acc: 0.9675\n",
            "Epoch 24/100\n",
            "7628/7628 [==============================] - 27s 4ms/step - loss: 0.0313 - acc: 0.9949 - val_loss: 0.1216 - val_acc: 0.9759\n",
            "Epoch 25/100\n",
            "7628/7628 [==============================] - 27s 4ms/step - loss: 0.0316 - acc: 0.9948 - val_loss: 0.1137 - val_acc: 0.9743\n",
            "Epoch 26/100\n",
            "7628/7628 [==============================] - 27s 4ms/step - loss: 0.0313 - acc: 0.9955 - val_loss: 0.1166 - val_acc: 0.9754\n",
            "Epoch 27/100\n",
            "7628/7628 [==============================] - 27s 4ms/step - loss: 0.0273 - acc: 0.9954 - val_loss: 0.1330 - val_acc: 0.9748\n",
            "Epoch 28/100\n",
            "7628/7628 [==============================] - 27s 4ms/step - loss: 0.0258 - acc: 0.9953 - val_loss: 0.3381 - val_acc: 0.9298\n",
            "Epoch 29/100\n",
            "7628/7628 [==============================] - 27s 4ms/step - loss: 0.0266 - acc: 0.9959 - val_loss: 0.1014 - val_acc: 0.9775\n",
            "Epoch 30/100\n",
            "7628/7628 [==============================] - 27s 4ms/step - loss: 0.0241 - acc: 0.9963 - val_loss: 0.1257 - val_acc: 0.9706\n",
            "Epoch 31/100\n",
            "7628/7628 [==============================] - 27s 4ms/step - loss: 0.0259 - acc: 0.9962 - val_loss: 0.1214 - val_acc: 0.9722\n",
            "Epoch 32/100\n",
            "7628/7628 [==============================] - 27s 4ms/step - loss: 0.0242 - acc: 0.9970 - val_loss: 0.1248 - val_acc: 0.9743\n",
            "Epoch 33/100\n",
            "7628/7628 [==============================] - 27s 4ms/step - loss: 0.0236 - acc: 0.9967 - val_loss: 0.1324 - val_acc: 0.9727\n",
            "Epoch 34/100\n",
            "7628/7628 [==============================] - 27s 4ms/step - loss: 0.0224 - acc: 0.9963 - val_loss: 0.5295 - val_acc: 0.9015\n",
            "Epoch 35/100\n",
            "7628/7628 [==============================] - 27s 4ms/step - loss: 0.0268 - acc: 0.9951 - val_loss: 0.1252 - val_acc: 0.9722\n",
            "Epoch 36/100\n",
            "7628/7628 [==============================] - 27s 4ms/step - loss: 0.0239 - acc: 0.9958 - val_loss: 0.1349 - val_acc: 0.9764\n",
            "Epoch 37/100\n",
            "7628/7628 [==============================] - 27s 4ms/step - loss: 0.0188 - acc: 0.9966 - val_loss: 0.2521 - val_acc: 0.9591\n",
            "Epoch 38/100\n",
            "7628/7628 [==============================] - 27s 4ms/step - loss: 0.0197 - acc: 0.9963 - val_loss: 0.1090 - val_acc: 0.9738\n",
            "Epoch 39/100\n",
            "7628/7628 [==============================] - 27s 4ms/step - loss: 0.0187 - acc: 0.9975 - val_loss: 0.1062 - val_acc: 0.9780\n",
            "Epoch 40/100\n",
            "7628/7628 [==============================] - 27s 4ms/step - loss: 0.0167 - acc: 0.9969 - val_loss: 0.1446 - val_acc: 0.9696\n",
            "Epoch 41/100\n",
            "7628/7628 [==============================] - 27s 4ms/step - loss: 0.0162 - acc: 0.9971 - val_loss: 0.1710 - val_acc: 0.9617\n",
            "Epoch 42/100\n",
            "7628/7628 [==============================] - 27s 4ms/step - loss: 0.0146 - acc: 0.9975 - val_loss: 0.1166 - val_acc: 0.9717\n",
            "Epoch 43/100\n",
            "7628/7628 [==============================] - 27s 4ms/step - loss: 0.0164 - acc: 0.9969 - val_loss: 0.1207 - val_acc: 0.9769\n",
            "Epoch 44/100\n",
            "7628/7628 [==============================] - 27s 4ms/step - loss: 0.0188 - acc: 0.9958 - val_loss: 0.1264 - val_acc: 0.9738\n",
            "Epoch 45/100\n",
            "7628/7628 [==============================] - 27s 4ms/step - loss: 0.0142 - acc: 0.9975 - val_loss: 0.1061 - val_acc: 0.9780\n",
            "Epoch 46/100\n",
            "7628/7628 [==============================] - 27s 4ms/step - loss: 0.0158 - acc: 0.9971 - val_loss: 0.0948 - val_acc: 0.9754\n",
            "Epoch 47/100\n",
            "7628/7628 [==============================] - 27s 4ms/step - loss: 0.0152 - acc: 0.9970 - val_loss: 0.1115 - val_acc: 0.9738\n",
            "Epoch 48/100\n",
            "7628/7628 [==============================] - 27s 4ms/step - loss: 0.0151 - acc: 0.9965 - val_loss: 0.1351 - val_acc: 0.9743\n",
            "Epoch 49/100\n",
            "7628/7628 [==============================] - 27s 4ms/step - loss: 0.0158 - acc: 0.9970 - val_loss: 0.1051 - val_acc: 0.9769\n",
            "Epoch 50/100\n",
            "7628/7628 [==============================] - 27s 4ms/step - loss: 0.0227 - acc: 0.9959 - val_loss: 0.1309 - val_acc: 0.9722\n",
            "Epoch 51/100\n",
            "7628/7628 [==============================] - 27s 4ms/step - loss: 0.0117 - acc: 0.9982 - val_loss: 0.1294 - val_acc: 0.9743\n",
            "Epoch 52/100\n",
            "7628/7628 [==============================] - 27s 4ms/step - loss: 0.0179 - acc: 0.9957 - val_loss: 0.1138 - val_acc: 0.9790\n",
            "Epoch 53/100\n",
            "7628/7628 [==============================] - 27s 4ms/step - loss: 0.0115 - acc: 0.9976 - val_loss: 0.1293 - val_acc: 0.9743\n",
            "Epoch 54/100\n",
            "7628/7628 [==============================] - 27s 4ms/step - loss: 0.0127 - acc: 0.9974 - val_loss: 0.1359 - val_acc: 0.9743\n",
            "Epoch 55/100\n",
            "7628/7628 [==============================] - 27s 4ms/step - loss: 0.0129 - acc: 0.9975 - val_loss: 0.1592 - val_acc: 0.9712\n",
            "Epoch 56/100\n",
            "7628/7628 [==============================] - 27s 4ms/step - loss: 0.0193 - acc: 0.9957 - val_loss: 0.1366 - val_acc: 0.9785\n",
            "Epoch 57/100\n",
            "7628/7628 [==============================] - 27s 4ms/step - loss: 0.0134 - acc: 0.9971 - val_loss: 0.4761 - val_acc: 0.9313\n",
            "Epoch 58/100\n",
            "7628/7628 [==============================] - 27s 4ms/step - loss: 0.0209 - acc: 0.9957 - val_loss: 0.1154 - val_acc: 0.9769\n",
            "Epoch 59/100\n",
            "7628/7628 [==============================] - 27s 4ms/step - loss: 0.0155 - acc: 0.9972 - val_loss: 0.1298 - val_acc: 0.9748\n",
            "Epoch 60/100\n",
            "7628/7628 [==============================] - 27s 4ms/step - loss: 0.0129 - acc: 0.9976 - val_loss: 0.1302 - val_acc: 0.9727\n",
            "Epoch 61/100\n",
            "7628/7628 [==============================] - 27s 4ms/step - loss: 0.0221 - acc: 0.9958 - val_loss: 0.1242 - val_acc: 0.9748\n",
            "Epoch 62/100\n",
            "7628/7628 [==============================] - 27s 4ms/step - loss: 0.0123 - acc: 0.9978 - val_loss: 0.1534 - val_acc: 0.9748\n",
            "Epoch 63/100\n",
            "7628/7628 [==============================] - 27s 4ms/step - loss: 0.0166 - acc: 0.9971 - val_loss: 0.1364 - val_acc: 0.9701\n",
            "Epoch 64/100\n",
            "7628/7628 [==============================] - 27s 4ms/step - loss: 0.0124 - acc: 0.9979 - val_loss: 0.1400 - val_acc: 0.9743\n",
            "Epoch 65/100\n",
            "7628/7628 [==============================] - 27s 4ms/step - loss: 0.0139 - acc: 0.9969 - val_loss: 0.1577 - val_acc: 0.9686\n",
            "Epoch 66/100\n",
            "7628/7628 [==============================] - 27s 4ms/step - loss: 0.0163 - acc: 0.9963 - val_loss: 0.1173 - val_acc: 0.9780\n",
            "Epoch 67/100\n",
            "7628/7628 [==============================] - 27s 4ms/step - loss: 0.0142 - acc: 0.9970 - val_loss: 0.1255 - val_acc: 0.9769\n",
            "Epoch 68/100\n",
            "7628/7628 [==============================] - 27s 4ms/step - loss: 0.0113 - acc: 0.9969 - val_loss: 0.1519 - val_acc: 0.9743\n",
            "Epoch 69/100\n",
            "7628/7628 [==============================] - 27s 4ms/step - loss: 0.0127 - acc: 0.9975 - val_loss: 0.1423 - val_acc: 0.9717\n",
            "Epoch 70/100\n",
            "7628/7628 [==============================] - 27s 4ms/step - loss: 0.0159 - acc: 0.9966 - val_loss: 0.1334 - val_acc: 0.9801\n",
            "Epoch 71/100\n",
            "7628/7628 [==============================] - 27s 4ms/step - loss: 0.0136 - acc: 0.9978 - val_loss: 0.1169 - val_acc: 0.9796\n",
            "Epoch 72/100\n",
            "7628/7628 [==============================] - 27s 4ms/step - loss: 0.0138 - acc: 0.9972 - val_loss: 0.1644 - val_acc: 0.9748\n",
            "Epoch 73/100\n",
            "7628/7628 [==============================] - 27s 4ms/step - loss: 0.0117 - acc: 0.9970 - val_loss: 0.1394 - val_acc: 0.9738\n",
            "Epoch 74/100\n",
            "7628/7628 [==============================] - 27s 4ms/step - loss: 0.0083 - acc: 0.9979 - val_loss: 0.1725 - val_acc: 0.9649\n",
            "Epoch 75/100\n",
            "7628/7628 [==============================] - 27s 4ms/step - loss: 0.0225 - acc: 0.9948 - val_loss: 0.1480 - val_acc: 0.9743\n",
            "Epoch 76/100\n",
            "7628/7628 [==============================] - 27s 4ms/step - loss: 0.0146 - acc: 0.9974 - val_loss: 0.1388 - val_acc: 0.9727\n",
            "Epoch 77/100\n",
            "7628/7628 [==============================] - 27s 4ms/step - loss: 0.0113 - acc: 0.9970 - val_loss: 0.1371 - val_acc: 0.9748\n",
            "Epoch 78/100\n",
            "7628/7628 [==============================] - 27s 4ms/step - loss: 0.0144 - acc: 0.9969 - val_loss: 0.1413 - val_acc: 0.9764\n",
            "Epoch 79/100\n",
            "7628/7628 [==============================] - 27s 4ms/step - loss: 0.0176 - acc: 0.9966 - val_loss: 0.1898 - val_acc: 0.9727\n",
            "Epoch 80/100\n",
            "7628/7628 [==============================] - 27s 4ms/step - loss: 0.0103 - acc: 0.9974 - val_loss: 0.1898 - val_acc: 0.9717\n",
            "Epoch 81/100\n",
            "7628/7628 [==============================] - 27s 4ms/step - loss: 0.0147 - acc: 0.9966 - val_loss: 0.1281 - val_acc: 0.9769\n",
            "Epoch 82/100\n",
            "7628/7628 [==============================] - 27s 4ms/step - loss: 0.0193 - acc: 0.9965 - val_loss: 0.1377 - val_acc: 0.9712\n",
            "Epoch 83/100\n",
            "7628/7628 [==============================] - 27s 4ms/step - loss: 0.0110 - acc: 0.9978 - val_loss: 0.1216 - val_acc: 0.9775\n",
            "Epoch 84/100\n",
            "7628/7628 [==============================] - 27s 4ms/step - loss: 0.0104 - acc: 0.9974 - val_loss: 0.1383 - val_acc: 0.9764\n",
            "Epoch 85/100\n",
            "7628/7628 [==============================] - 27s 4ms/step - loss: 0.0097 - acc: 0.9982 - val_loss: 0.1347 - val_acc: 0.9769\n",
            "Epoch 86/100\n",
            "7628/7628 [==============================] - 27s 4ms/step - loss: 0.0096 - acc: 0.9978 - val_loss: 0.1319 - val_acc: 0.9769\n",
            "Epoch 87/100\n",
            "7628/7628 [==============================] - 27s 4ms/step - loss: 0.0099 - acc: 0.9978 - val_loss: 0.1461 - val_acc: 0.9738\n",
            "Epoch 88/100\n",
            "7628/7628 [==============================] - 27s 4ms/step - loss: 0.0130 - acc: 0.9967 - val_loss: 0.1496 - val_acc: 0.9717\n",
            "Epoch 89/100\n",
            "7628/7628 [==============================] - 27s 4ms/step - loss: 0.0076 - acc: 0.9982 - val_loss: 0.1375 - val_acc: 0.9686\n",
            "Epoch 90/100\n",
            "7628/7628 [==============================] - 27s 4ms/step - loss: 0.0083 - acc: 0.9978 - val_loss: 0.1409 - val_acc: 0.9759\n",
            "Epoch 91/100\n",
            "7628/7628 [==============================] - 27s 4ms/step - loss: 0.0100 - acc: 0.9972 - val_loss: 0.1241 - val_acc: 0.9801\n",
            "Epoch 92/100\n",
            "7628/7628 [==============================] - 27s 4ms/step - loss: 0.0107 - acc: 0.9975 - val_loss: 0.1286 - val_acc: 0.9759\n",
            "Epoch 93/100\n",
            "7628/7628 [==============================] - 27s 3ms/step - loss: 0.0108 - acc: 0.9975 - val_loss: 0.1595 - val_acc: 0.9706\n",
            "Epoch 94/100\n",
            "7628/7628 [==============================] - 27s 4ms/step - loss: 0.0106 - acc: 0.9975 - val_loss: 0.1249 - val_acc: 0.9764\n",
            "Epoch 95/100\n",
            "7628/7628 [==============================] - 27s 4ms/step - loss: 0.0129 - acc: 0.9972 - val_loss: 0.1580 - val_acc: 0.9717\n",
            "Epoch 96/100\n",
            "7628/7628 [==============================] - 27s 4ms/step - loss: 0.0081 - acc: 0.9980 - val_loss: 0.1718 - val_acc: 0.9743\n",
            "Epoch 97/100\n",
            "7628/7628 [==============================] - 27s 4ms/step - loss: 0.0135 - acc: 0.9972 - val_loss: 0.3280 - val_acc: 0.9455\n",
            "Epoch 98/100\n",
            "7628/7628 [==============================] - 27s 4ms/step - loss: 0.0124 - acc: 0.9963 - val_loss: 0.1601 - val_acc: 0.9706\n",
            "Epoch 99/100\n",
            "7628/7628 [==============================] - 27s 4ms/step - loss: 0.0128 - acc: 0.9974 - val_loss: 0.1966 - val_acc: 0.9675\n",
            "Epoch 100/100\n",
            "7628/7628 [==============================] - 27s 4ms/step - loss: 0.0136 - acc: 0.9976 - val_loss: 0.1790 - val_acc: 0.9654\n"
          ],
          "name": "stdout"
        }
      ]
    },
    {
      "cell_type": "code",
      "metadata": {
        "id": "KxZsBEiQc4LL",
        "colab_type": "code",
        "outputId": "5cfd1b95-3fc9-4ca7-bfe8-821c94fa0a8b",
        "colab": {
          "base_uri": "https://localhost:8080/",
          "height": 50
        }
      },
      "source": [
        "test_loss, test_acc = FlaNet.evaluate(testImages, testLabels)\n",
        "test_acc"
      ],
      "execution_count": 16,
      "outputs": [
        {
          "output_type": "stream",
          "text": [
            "2384/2384 [==============================] - 2s 1ms/step\n"
          ],
          "name": "stdout"
        },
        {
          "output_type": "execute_result",
          "data": {
            "text/plain": [
              "0.986996644295302"
            ]
          },
          "metadata": {
            "tags": []
          },
          "execution_count": 16
        }
      ]
    },
    {
      "cell_type": "code",
      "metadata": {
        "id": "Wr2zfuUJUjAc",
        "colab_type": "code",
        "outputId": "9f2f841f-dffc-45cb-ee52-c5985c0e3935",
        "colab": {
          "base_uri": "https://localhost:8080/",
          "height": 34
        }
      },
      "source": [
        "test_loss"
      ],
      "execution_count": 17,
      "outputs": [
        {
          "output_type": "execute_result",
          "data": {
            "text/plain": [
              "0.07696706024795495"
            ]
          },
          "metadata": {
            "tags": []
          },
          "execution_count": 17
        }
      ]
    },
    {
      "cell_type": "markdown",
      "metadata": {
        "id": "7mHIwC2qs8P9",
        "colab_type": "text"
      },
      "source": [
        "# **Confusion matrix**"
      ]
    },
    {
      "cell_type": "code",
      "metadata": {
        "id": "AjtbTfQaY_sW",
        "colab_type": "code",
        "colab": {}
      },
      "source": [
        "test_predict = FlaNet.predict(testImages)\n",
        "##\n",
        "# binary crossentropy\n",
        "predictLabels = [1 * (test_predict[i]>=0.5) for i in range(len(test_predict))]\n",
        "predictLabels = np.array(predictLabels)\n",
        "\n",
        "# categorical crossentropy\n",
        "#predictLabels = np.array([np.argmax(test_predict[i]) for i in range(len(test_predict))])\n",
        "#testLabels = np.array([np.argmax(testLabels[i]) for i in range(len(test_predict))])"
      ],
      "execution_count": 0,
      "outputs": []
    },
    {
      "cell_type": "code",
      "metadata": {
        "id": "hDskpQnTb4j0",
        "colab_type": "code",
        "outputId": "2a4e0bbd-6021-47ae-bb85-23d96b2cf74e",
        "colab": {
          "base_uri": "https://localhost:8080/",
          "height": 34
        }
      },
      "source": [
        "predictLabels.shape"
      ],
      "execution_count": 19,
      "outputs": [
        {
          "output_type": "execute_result",
          "data": {
            "text/plain": [
              "(2384, 1)"
            ]
          },
          "metadata": {
            "tags": []
          },
          "execution_count": 19
        }
      ]
    },
    {
      "cell_type": "code",
      "metadata": {
        "id": "tuD6uFWVcA5m",
        "colab_type": "code",
        "outputId": "440a4445-4d37-4be6-a227-3b7a8a5ed767",
        "colab": {
          "base_uri": "https://localhost:8080/",
          "height": 34
        }
      },
      "source": [
        "testLabels.shape"
      ],
      "execution_count": 20,
      "outputs": [
        {
          "output_type": "execute_result",
          "data": {
            "text/plain": [
              "(2384,)"
            ]
          },
          "metadata": {
            "tags": []
          },
          "execution_count": 20
        }
      ]
    },
    {
      "cell_type": "code",
      "metadata": {
        "id": "rxyruJbpY3DO",
        "colab_type": "code",
        "outputId": "8d36a778-dc59-4285-bdbe-d92d40fe60ea",
        "colab": {
          "base_uri": "https://localhost:8080/",
          "height": 411
        }
      },
      "source": [
        "import matplotlib.pyplot as plt\n",
        "import seaborn as sns; sns.set()\n",
        "\n",
        "from sklearn.metrics import confusion_matrix\n",
        "\n",
        "mat = confusion_matrix(predictLabels, testLabels)\n",
        "\n",
        "plt.figure(figsize=(8,6))\n",
        "ax=sns.heatmap(mat, square=False, annot=True, fmt=\"d\", cbar=True)\n",
        "\n",
        "# There is a bug in matplotlib 3.1.1 causing truncated heatmap \n",
        "bottom, top = ax.get_ylim()\n",
        "ax.set_ylim(bottom + 0.5, top - 0.5)\n",
        "\n",
        "plt.xlabel('predicted value')\n",
        "plt.ylabel('true value')"
      ],
      "execution_count": 21,
      "outputs": [
        {
          "output_type": "execute_result",
          "data": {
            "text/plain": [
              "Text(48.5, 0.5, 'true value')"
            ]
          },
          "metadata": {
            "tags": []
          },
          "execution_count": 21
        },
        {
          "output_type": "display_data",
          "data": {
            "image/png": "[encoded data removed]",
            "text/plain": [
              "<Figure size 576x432 with 2 Axes>"
            ]
          },
          "metadata": {
            "tags": []
          }
        }
      ]
    },
    {
      "cell_type": "markdown",
      "metadata": {
        "id": "73LSKAucPIcr",
        "colab_type": "text"
      },
      "source": [
        "# **Inspection of overfitting**"
      ]
    },
    {
      "cell_type": "code",
      "metadata": {
        "id": "roGt1QTD9Z4T",
        "colab_type": "code",
        "colab": {}
      },
      "source": [
        "acc = history.history['acc']\n",
        "val_acc = history.history['val_acc']\n",
        "loss = history.history['loss']\n",
        "val_loss = history.history['val_loss']\n",
        "epochs = range(len(acc))"
      ],
      "execution_count": 0,
      "outputs": []
    },
    {
      "cell_type": "code",
      "metadata": {
        "id": "mz6Is2XDO_0X",
        "colab_type": "code",
        "outputId": "789f5775-579b-4c3b-e550-a5d1f9181543",
        "colab": {
          "base_uri": "https://localhost:8080/",
          "height": 301
        }
      },
      "source": [
        "plt.figure()\n",
        "\n",
        "plt.plot(epochs, acc, 'r', label='Training acc')\n",
        "plt.plot(epochs, val_acc, 'b', label='Validation acc')\n",
        "\n",
        "plt.title('Training and validation accuracy')\n",
        "plt.xlabel('epochs')\n",
        "plt.ylabel('accuracy')\n",
        "plt.legend()\n",
        "\n",
        "plt.show()"
      ],
      "execution_count": 23,
      "outputs": [
        {
          "output_type": "display_data",
          "data": {
            "image/png": "[encoded data removed]",
            "text/plain": [
              "<Figure size 432x288 with 1 Axes>"
            ]
          },
          "metadata": {
            "tags": []
          }
        }
      ]
    },
    {
      "cell_type": "code",
      "metadata": {
        "id": "Brxz60pyPABz",
        "colab_type": "code",
        "outputId": "d98acb95-4563-4918-dd8b-3f0eb07ce4ad",
        "colab": {
          "base_uri": "https://localhost:8080/",
          "height": 301
        }
      },
      "source": [
        "plt.figure()\n",
        "\n",
        "plt.plot(epochs, loss, 'r', label='Training loss')\n",
        "plt.plot(epochs, val_loss, 'b', label='Validation loss')\n",
        "plt.title('Training and validation loss')\n",
        "plt.xlabel('epochs')\n",
        "plt.ylabel('loss')\n",
        "plt.legend()\n",
        "\n",
        "plt.show()"
      ],
      "execution_count": 24,
      "outputs": [
        {
          "output_type": "display_data",
          "data": {
            "image/png": "[encoded data removed]",
            "text/plain": [
              "<Figure size 432x288 with 1 Axes>"
            ]
          },
          "metadata": {
            "tags": []
          }
        }
      ]
    },
    {
      "cell_type": "markdown",
      "metadata": {
        "id": "5sNC3YEc0IUA",
        "colab_type": "text"
      },
      "source": [
        "#**Save trained network & history**"
      ]
    },
    {
      "cell_type": "code",
      "metadata": {
        "id": "qPBgloYAFNih",
        "colab_type": "code",
        "outputId": "a6e13929-b550-4620-f2ef-b36cd96ecb0e",
        "colab": {
          "base_uri": "https://localhost:8080/",
          "height": 34
        }
      },
      "source": [
        "cd /content/gdrive/My Drive/Colab Notebooks/FlaNet/trainingDatasets/"
      ],
      "execution_count": 25,
      "outputs": [
        {
          "output_type": "stream",
          "text": [
            "/content/gdrive/My Drive/Colab Notebooks/FlaNet/trainingDatasets\n"
          ],
          "name": "stdout"
        }
      ]
    },
    {
      "cell_type": "code",
      "metadata": {
        "id": "JNrafT520WLT",
        "colab_type": "code",
        "colab": {}
      },
      "source": [
        "# save trained network\n",
        "FlaNet.save('FlaNet.h5') "
      ],
      "execution_count": 0,
      "outputs": []
    },
    {
      "cell_type": "code",
      "metadata": {
        "id": "cVZAqV0SAVqw",
        "colab_type": "code",
        "colab": {}
      },
      "source": [
        "# save history\n",
        "import pandas as pd\n",
        "   \n",
        "FlaNet_df = pd.DataFrame(history.history) \n",
        "\n",
        "with open('FlaNet.csv', mode='w') as f:\n",
        "    FlaNet_df.to_csv(f)"
      ],
      "execution_count": 0,
      "outputs": []
    }
  ]
}