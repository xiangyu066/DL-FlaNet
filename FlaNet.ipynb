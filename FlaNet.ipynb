{
  "nbformat": 4,
  "nbformat_minor": 0,
  "metadata": {
    "colab": {
      "name": "FlaNet.ipynb",
      "provenance": [],
      "collapsed_sections": [],
      "include_colab_link": true
    },
    "kernelspec": {
      "name": "python3",
      "display_name": "Python 3"
    },
    "accelerator": "GPU"
  },
  "cells": [
    {
      "cell_type": "markdown",
      "metadata": {
        "id": "view-in-github",
        "colab_type": "text"
      },
      "source": [
        "<a href=\"https://colab.research.google.com/github/xiangyu066/DL-FlaNet/blob/master/FlaNet.ipynb\" target=\"_parent\"><img src=\"https://colab.research.google.com/assets/colab-badge.svg\" alt=\"Open In Colab\"/></a>"
      ]
    },
    {
      "cell_type": "code",
      "metadata": {
        "id": "A1jZejSOyjYM",
        "colab_type": "code",
        "outputId": "3956288a-7d2c-41fd-bd9e-b01669984a15",
        "colab": {
          "base_uri": "https://localhost:8080/",
          "height": 302
        }
      },
      "source": [
        "!/opt/bin/nvidia-smi"
      ],
      "execution_count": 1,
      "outputs": [
        {
          "output_type": "stream",
          "text": [
            "Wed Nov  6 07:35:10 2019       \n",
            "+-----------------------------------------------------------------------------+\n",
            "| NVIDIA-SMI 418.67       Driver Version: 418.67       CUDA Version: 10.1     |\n",
            "|-------------------------------+----------------------+----------------------+\n",
            "| GPU  Name        Persistence-M| Bus-Id        Disp.A | Volatile Uncorr. ECC |\n",
            "| Fan  Temp  Perf  Pwr:Usage/Cap|         Memory-Usage | GPU-Util  Compute M. |\n",
            "|===============================+======================+======================|\n",
            "|   0  Tesla K80           Off  | 00000000:00:04.0 Off |                    0 |\n",
            "| N/A   72C    P8    36W / 149W |      0MiB / 11441MiB |      0%      Default |\n",
            "+-------------------------------+----------------------+----------------------+\n",
            "                                                                               \n",
            "+-----------------------------------------------------------------------------+\n",
            "| Processes:                                                       GPU Memory |\n",
            "|  GPU       PID   Type   Process name                             Usage      |\n",
            "|=============================================================================|\n",
            "|  No running processes found                                                 |\n",
            "+-----------------------------------------------------------------------------+\n"
          ],
          "name": "stdout"
        }
      ]
    },
    {
      "cell_type": "markdown",
      "metadata": {
        "id": "pwifFB-PYbAa",
        "colab_type": "text"
      },
      "source": [
        "# **Acess to Google drive**"
      ]
    },
    {
      "cell_type": "code",
      "metadata": {
        "id": "e3Pg_IKDcRew",
        "colab_type": "code",
        "outputId": "78a5dad4-fd8d-490c-8be5-c0e852abcd1f",
        "colab": {
          "base_uri": "https://localhost:8080/",
          "height": 34
        }
      },
      "source": [
        "from google.colab import drive\n",
        "drive.mount('/content/gdrive')"
      ],
      "execution_count": 2,
      "outputs": [
        {
          "output_type": "stream",
          "text": [
            "Drive already mounted at /content/gdrive; to attempt to forcibly remount, call drive.mount(\"/content/gdrive\", force_remount=True).\n"
          ],
          "name": "stdout"
        }
      ]
    },
    {
      "cell_type": "markdown",
      "metadata": {
        "id": "UhgJyT3HYljy",
        "colab_type": "text"
      },
      "source": [
        "# **Importing datasets**"
      ]
    },
    {
      "cell_type": "code",
      "metadata": {
        "id": "vhyae1COdUlw",
        "colab_type": "code",
        "outputId": "c886e363-6f72-45b5-c3df-4f46f60fb1bf",
        "colab": {
          "base_uri": "https://localhost:8080/",
          "height": 34
        }
      },
      "source": [
        "cd /content/gdrive/My Drive/Colab Notebooks/FlaNet/trainingDatasets/trainingImages_npy/"
      ],
      "execution_count": 3,
      "outputs": [
        {
          "output_type": "stream",
          "text": [
            "/content/gdrive/My Drive/Colab Notebooks/FlaNet/trainingDatasets/trainingImages_npy\n"
          ],
          "name": "stdout"
        }
      ]
    },
    {
      "cell_type": "code",
      "metadata": {
        "id": "t73lMF6TWife",
        "colab_type": "code",
        "colab": {}
      },
      "source": [
        "import numpy as np\n",
        "\n",
        "trainingImages = []\n",
        "trainingLabels = []\n",
        "\n",
        "trainingImages_Flagellated = np.load('Flagellated_images.npy')\n",
        "trainingImages = trainingImages_Flagellated\n",
        "trainingLabels_Flagellated = np.load('Flagellated_labels_hot.npy')\n",
        "trainingLabels = trainingLabels_Flagellated\n",
        "\n",
        "trainingImages_nonFlagellated = np.load('nonFlagellated_images.npy')\n",
        "trainingImages = np.append(trainingImages,trainingImages_nonFlagellated,axis=0)\n",
        "trainLabels_nonFlagellated = np.load('nonFlagellated_labels_hot.npy')\n",
        "trainingLabels = np.append(trainingLabels,trainLabels_nonFlagellated,axis=0)\n",
        "\n",
        "#trainingImages = trainingImages.astype('float32') / 255"
      ],
      "execution_count": 0,
      "outputs": []
    },
    {
      "cell_type": "code",
      "metadata": {
        "id": "e_0NAig1X_gn",
        "colab_type": "code",
        "colab": {}
      },
      "source": [
        "# manual shuffle\n",
        "idx = np.random.permutation(len(trainingLabels))\n",
        "trainingLabels=trainingLabels[idx]\n",
        "trainingImages=trainingImages[idx,]"
      ],
      "execution_count": 0,
      "outputs": []
    },
    {
      "cell_type": "code",
      "metadata": {
        "id": "9l1BtNf5kvlG",
        "colab_type": "code",
        "outputId": "e4bd61ee-3bec-4397-fc16-848744448247",
        "colab": {
          "base_uri": "https://localhost:8080/",
          "height": 34
        }
      },
      "source": [
        "trainingLabels.shape"
      ],
      "execution_count": 6,
      "outputs": [
        {
          "output_type": "execute_result",
          "data": {
            "text/plain": [
              "(9536,)"
            ]
          },
          "metadata": {
            "tags": []
          },
          "execution_count": 6
        }
      ]
    },
    {
      "cell_type": "code",
      "metadata": {
        "id": "ZnZkSsM4lFo5",
        "colab_type": "code",
        "outputId": "441db46a-179c-438a-c721-4cae550ca02a",
        "colab": {
          "base_uri": "https://localhost:8080/",
          "height": 34
        }
      },
      "source": [
        "trainingImages.shape"
      ],
      "execution_count": 7,
      "outputs": [
        {
          "output_type": "execute_result",
          "data": {
            "text/plain": [
              "(9536, 128, 128, 1)"
            ]
          },
          "metadata": {
            "tags": []
          },
          "execution_count": 7
        }
      ]
    },
    {
      "cell_type": "code",
      "metadata": {
        "id": "kzCNLbByXSHH",
        "colab_type": "code",
        "outputId": "4efd8872-c06a-4c12-a63e-c516ae10e1fc",
        "colab": {
          "base_uri": "https://localhost:8080/",
          "height": 34
        }
      },
      "source": [
        "cd /content/gdrive/My Drive/Colab Notebooks/FlaNet/trainingDatasets/testImages_npy/"
      ],
      "execution_count": 8,
      "outputs": [
        {
          "output_type": "stream",
          "text": [
            "/content/gdrive/My Drive/Colab Notebooks/FlaNet/trainingDatasets/testImages_npy\n"
          ],
          "name": "stdout"
        }
      ]
    },
    {
      "cell_type": "code",
      "metadata": {
        "id": "dcw53u5HXVHO",
        "colab_type": "code",
        "colab": {}
      },
      "source": [
        "testImages = []\n",
        "testLabels = []\n",
        "\n",
        "testImages_Flagellated = np.load('Flagellated_images.npy')\n",
        "testImages = testImages_Flagellated\n",
        "testLabels_Flagellated = np.load('Flagellated_labels_hot.npy')\n",
        "testLabels = testLabels_Flagellated\n",
        "\n",
        "testImages_nonFlagellated = np.load('nonFlagellated_images.npy')\n",
        "testImages = np.append(testImages,testImages_nonFlagellated,axis=0)\n",
        "testLabels_nonFlagellated = np.load('nonFlagellated_labels_hot.npy')\n",
        "testLabels = np.append(testLabels,testLabels_nonFlagellated,axis=0)\n",
        "\n",
        "#testImages = testImages.astype('float32') / 255"
      ],
      "execution_count": 0,
      "outputs": []
    },
    {
      "cell_type": "code",
      "metadata": {
        "id": "f3BV7IArln9R",
        "colab_type": "code",
        "outputId": "73f8a47e-864e-4ee7-b1f7-c5b24e3b16b3",
        "colab": {
          "base_uri": "https://localhost:8080/",
          "height": 34
        }
      },
      "source": [
        "testLabels.shape"
      ],
      "execution_count": 10,
      "outputs": [
        {
          "output_type": "execute_result",
          "data": {
            "text/plain": [
              "(2384,)"
            ]
          },
          "metadata": {
            "tags": []
          },
          "execution_count": 10
        }
      ]
    },
    {
      "cell_type": "code",
      "metadata": {
        "id": "wD4sW3hMlVgE",
        "colab_type": "code",
        "outputId": "1aba6504-0a60-45e7-db4f-0059644d56ca",
        "colab": {
          "base_uri": "https://localhost:8080/",
          "height": 34
        }
      },
      "source": [
        "testImages.shape"
      ],
      "execution_count": 11,
      "outputs": [
        {
          "output_type": "execute_result",
          "data": {
            "text/plain": [
              "(2384, 128, 128, 1)"
            ]
          },
          "metadata": {
            "tags": []
          },
          "execution_count": 11
        }
      ]
    },
    {
      "cell_type": "markdown",
      "metadata": {
        "id": "-xNEbbj4YvGd",
        "colab_type": "text"
      },
      "source": [
        "# **Training a neural network**"
      ]
    },
    {
      "cell_type": "code",
      "metadata": {
        "id": "GQ6_wB9vcacT",
        "colab_type": "code",
        "outputId": "5e8ef0ac-63f3-49f6-8ec5-20f4fed6a87c",
        "colab": {
          "base_uri": "https://localhost:8080/",
          "height": 96
        }
      },
      "source": [
        "import keras\n",
        "keras.__version__"
      ],
      "execution_count": 12,
      "outputs": [
        {
          "output_type": "stream",
          "text": [
            "Using TensorFlow backend.\n"
          ],
          "name": "stderr"
        },
        {
          "output_type": "display_data",
          "data": {
            "text/html": [
              "<p style=\"color: red;\">\n",
              "The default version of TensorFlow in Colab will soon switch to TensorFlow 2.x.<br>\n",
              "We recommend you <a href=\"https://www.tensorflow.org/guide/migrate\" target=\"_blank\">upgrade</a> now \n",
              "or ensure your notebook will continue to use TensorFlow 1.x via the <code>%tensorflow_version 1.x</code> magic:\n",
              "<a href=\"https://colab.research.google.com/notebooks/tensorflow_version.ipynb\" target=\"_blank\">more info</a>.</p>\n"
            ],
            "text/plain": [
              "<IPython.core.display.HTML object>"
            ]
          },
          "metadata": {
            "tags": []
          }
        },
        {
          "output_type": "execute_result",
          "data": {
            "text/plain": [
              "'2.2.5'"
            ]
          },
          "metadata": {
            "tags": []
          },
          "execution_count": 12
        }
      ]
    },
    {
      "cell_type": "code",
      "metadata": {
        "id": "QZ2vwc2Wcba0",
        "colab_type": "code",
        "outputId": "0f9acd3b-8e4c-4ba7-a278-509a55403716",
        "colab": {
          "base_uri": "https://localhost:8080/",
          "height": 642
        }
      },
      "source": [
        "from keras import layers\n",
        "from keras import models\n",
        "from keras import regularizers\n",
        "\n",
        "FlaNet = models.Sequential()\n",
        "FlaNet.add(layers.Conv2D(64, (5, 5), activation='relu', input_shape=(128, 128, 1), padding='same'))\n",
        "FlaNet.add(layers.MaxPooling2D((3, 3),strides=2))\n",
        "FlaNet.add(layers.Conv2D(128, (5, 5), activation='relu', padding='same'))\n",
        "FlaNet.add(layers.MaxPooling2D((3, 3),strides=2))\n",
        "FlaNet.add(layers.Conv2D(128, (5, 5), activation='relu', padding='same'))\n",
        "FlaNet.add(layers.MaxPooling2D((3, 3),strides=2))\n",
        "FlaNet.add(layers.Flatten())\n",
        "FlaNet.add(layers.Dense(128, kernel_regularizer=regularizers.l2(0.001), activation='relu'))\n",
        "FlaNet.add(layers.Dense(128, kernel_regularizer=regularizers.l2(0.001), activation='relu'))\n",
        "\n",
        "# binary crossentropy\n",
        "FlaNet.add(layers.Dense(1, activation='sigmoid')) \n",
        "\n",
        "# categorical crossentropy\n",
        "#FlaNet.add(layers.Dense(2, activation='softmax')) \n",
        "\n",
        "FlaNet.summary()"
      ],
      "execution_count": 13,
      "outputs": [
        {
          "output_type": "stream",
          "text": [
            "WARNING:tensorflow:From /usr/local/lib/python3.6/dist-packages/keras/backend/tensorflow_backend.py:66: The name tf.get_default_graph is deprecated. Please use tf.compat.v1.get_default_graph instead.\n",
            "\n",
            "WARNING:tensorflow:From /usr/local/lib/python3.6/dist-packages/keras/backend/tensorflow_backend.py:541: The name tf.placeholder is deprecated. Please use tf.compat.v1.placeholder instead.\n",
            "\n",
            "WARNING:tensorflow:From /usr/local/lib/python3.6/dist-packages/keras/backend/tensorflow_backend.py:4432: The name tf.random_uniform is deprecated. Please use tf.random.uniform instead.\n",
            "\n",
            "WARNING:tensorflow:From /usr/local/lib/python3.6/dist-packages/keras/backend/tensorflow_backend.py:4267: The name tf.nn.max_pool is deprecated. Please use tf.nn.max_pool2d instead.\n",
            "\n",
            "Model: \"sequential_1\"\n",
            "_________________________________________________________________\n",
            "Layer (type)                 Output Shape              Param #   \n",
            "=================================================================\n",
            "conv2d_1 (Conv2D)            (None, 128, 128, 64)      1664      \n",
            "_________________________________________________________________\n",
            "max_pooling2d_1 (MaxPooling2 (None, 63, 63, 64)        0         \n",
            "_________________________________________________________________\n",
            "conv2d_2 (Conv2D)            (None, 63, 63, 128)       204928    \n",
            "_________________________________________________________________\n",
            "max_pooling2d_2 (MaxPooling2 (None, 31, 31, 128)       0         \n",
            "_________________________________________________________________\n",
            "conv2d_3 (Conv2D)            (None, 31, 31, 128)       409728    \n",
            "_________________________________________________________________\n",
            "max_pooling2d_3 (MaxPooling2 (None, 15, 15, 128)       0         \n",
            "_________________________________________________________________\n",
            "flatten_1 (Flatten)          (None, 28800)             0         \n",
            "_________________________________________________________________\n",
            "dense_1 (Dense)              (None, 128)               3686528   \n",
            "_________________________________________________________________\n",
            "dense_2 (Dense)              (None, 128)               16512     \n",
            "_________________________________________________________________\n",
            "dense_3 (Dense)              (None, 1)                 129       \n",
            "=================================================================\n",
            "Total params: 4,319,489\n",
            "Trainable params: 4,319,489\n",
            "Non-trainable params: 0\n",
            "_________________________________________________________________\n"
          ],
          "name": "stdout"
        }
      ]
    },
    {
      "cell_type": "code",
      "metadata": {
        "id": "vudplwhEc0wd",
        "colab_type": "code",
        "outputId": "01fcb7c4-14d0-461a-cac5-1d99fad6abcc",
        "colab": {
          "base_uri": "https://localhost:8080/",
          "height": 154
        }
      },
      "source": [
        "from keras import optimizers\n",
        "\n",
        "# binary crossentropy\n",
        "FlaNet.compile(optimizer=optimizers.RMSprop(lr=1e-4),\n",
        "              loss='binary_crossentropy',\n",
        "              metrics=['accuracy'])\n",
        "\n",
        "# categorical crossentropy\n",
        "#from keras.utils import to_categorical\n",
        "#trainingLabels = to_categorical(trainingLabels)\n",
        "#testLabels = to_categorical(testLabels)\n",
        "#FlaNet.compile(optimizer=optimizers.RMSprop(lr=1e-5),\n",
        "#              loss='categorical_crossentropy',\n",
        "#              metrics=['accuracy'])"
      ],
      "execution_count": 14,
      "outputs": [
        {
          "output_type": "stream",
          "text": [
            "WARNING:tensorflow:From /usr/local/lib/python3.6/dist-packages/keras/optimizers.py:793: The name tf.train.Optimizer is deprecated. Please use tf.compat.v1.train.Optimizer instead.\n",
            "\n",
            "WARNING:tensorflow:From /usr/local/lib/python3.6/dist-packages/keras/backend/tensorflow_backend.py:3657: The name tf.log is deprecated. Please use tf.math.log instead.\n",
            "\n",
            "WARNING:tensorflow:From /usr/local/lib/python3.6/dist-packages/tensorflow_core/python/ops/nn_impl.py:183: where (from tensorflow.python.ops.array_ops) is deprecated and will be removed in a future version.\n",
            "Instructions for updating:\n",
            "Use tf.where in 2.0, which has the same broadcast rule as np.where\n"
          ],
          "name": "stdout"
        }
      ]
    },
    {
      "cell_type": "code",
      "metadata": {
        "id": "Y94rzG58Lolg",
        "colab_type": "code",
        "outputId": "8a465d0b-1f79-4dea-8e97-2389830ec1d4",
        "colab": {
          "base_uri": "https://localhost:8080/",
          "height": 1000
        }
      },
      "source": [
        "history = FlaNet.fit(trainingImages, trainingLabels, epochs=100, batch_size=16, validation_split=0.2)"
      ],
      "execution_count": 15,
      "outputs": [
        {
          "output_type": "stream",
          "text": [
            "WARNING:tensorflow:From /usr/local/lib/python3.6/dist-packages/keras/backend/tensorflow_backend.py:1033: The name tf.assign_add is deprecated. Please use tf.compat.v1.assign_add instead.\n",
            "\n",
            "WARNING:tensorflow:From /usr/local/lib/python3.6/dist-packages/keras/backend/tensorflow_backend.py:1020: The name tf.assign is deprecated. Please use tf.compat.v1.assign instead.\n",
            "\n",
            "WARNING:tensorflow:From /usr/local/lib/python3.6/dist-packages/keras/backend/tensorflow_backend.py:3005: The name tf.Session is deprecated. Please use tf.compat.v1.Session instead.\n",
            "\n",
            "Train on 7628 samples, validate on 1908 samples\n",
            "Epoch 1/100\n",
            "WARNING:tensorflow:From /usr/local/lib/python3.6/dist-packages/keras/backend/tensorflow_backend.py:190: The name tf.get_default_session is deprecated. Please use tf.compat.v1.get_default_session instead.\n",
            "\n",
            "WARNING:tensorflow:From /usr/local/lib/python3.6/dist-packages/keras/backend/tensorflow_backend.py:197: The name tf.ConfigProto is deprecated. Please use tf.compat.v1.ConfigProto instead.\n",
            "\n",
            "WARNING:tensorflow:From /usr/local/lib/python3.6/dist-packages/keras/backend/tensorflow_backend.py:207: The name tf.global_variables is deprecated. Please use tf.compat.v1.global_variables instead.\n",
            "\n",
            "WARNING:tensorflow:From /usr/local/lib/python3.6/dist-packages/keras/backend/tensorflow_backend.py:216: The name tf.is_variable_initialized is deprecated. Please use tf.compat.v1.is_variable_initialized instead.\n",
            "\n",
            "WARNING:tensorflow:From /usr/local/lib/python3.6/dist-packages/keras/backend/tensorflow_backend.py:223: The name tf.variables_initializer is deprecated. Please use tf.compat.v1.variables_initializer instead.\n",
            "\n",
            "7628/7628 [==============================] - 30s 4ms/step - loss: 3.1825 - acc: 0.6720 - val_loss: 0.5171 - val_acc: 0.7851\n",
            "Epoch 2/100\n",
            "7628/7628 [==============================] - 27s 4ms/step - loss: 0.3852 - acc: 0.8756 - val_loss: 0.2985 - val_acc: 0.9093\n",
            "Epoch 3/100\n",
            "7628/7628 [==============================] - 27s 4ms/step - loss: 0.2308 - acc: 0.9280 - val_loss: 0.1881 - val_acc: 0.9439\n",
            "Epoch 4/100\n",
            "7628/7628 [==============================] - 27s 4ms/step - loss: 0.1642 - acc: 0.9541 - val_loss: 0.1497 - val_acc: 0.9581\n",
            "Epoch 5/100\n",
            "7628/7628 [==============================] - 27s 4ms/step - loss: 0.1287 - acc: 0.9676 - val_loss: 0.1334 - val_acc: 0.9696\n",
            "Epoch 6/100\n",
            "7628/7628 [==============================] - 27s 4ms/step - loss: 0.1158 - acc: 0.9727 - val_loss: 0.1103 - val_acc: 0.9743\n",
            "Epoch 7/100\n",
            "7628/7628 [==============================] - 27s 3ms/step - loss: 0.0985 - acc: 0.9771 - val_loss: 0.1240 - val_acc: 0.9701\n",
            "Epoch 8/100\n",
            "7628/7628 [==============================] - 27s 4ms/step - loss: 0.0956 - acc: 0.9790 - val_loss: 0.1383 - val_acc: 0.9628\n",
            "Epoch 9/100\n",
            "7628/7628 [==============================] - 27s 4ms/step - loss: 0.0807 - acc: 0.9837 - val_loss: 0.1172 - val_acc: 0.9727\n",
            "Epoch 10/100\n",
            "7628/7628 [==============================] - 27s 4ms/step - loss: 0.0775 - acc: 0.9834 - val_loss: 0.1141 - val_acc: 0.9738\n",
            "Epoch 11/100\n",
            "7628/7628 [==============================] - 27s 4ms/step - loss: 0.0706 - acc: 0.9852 - val_loss: 0.1120 - val_acc: 0.9722\n",
            "Epoch 12/100\n",
            "7628/7628 [==============================] - 27s 4ms/step - loss: 0.0644 - acc: 0.9865 - val_loss: 0.1361 - val_acc: 0.9612\n",
            "Epoch 13/100\n",
            "7628/7628 [==============================] - 27s 4ms/step - loss: 0.0597 - acc: 0.9881 - val_loss: 0.1491 - val_acc: 0.9670\n",
            "Epoch 14/100\n",
            "7628/7628 [==============================] - 27s 4ms/step - loss: 0.0591 - acc: 0.9887 - val_loss: 0.1057 - val_acc: 0.9733\n",
            "Epoch 15/100\n",
            "7628/7628 [==============================] - 27s 4ms/step - loss: 0.0499 - acc: 0.9917 - val_loss: 0.1321 - val_acc: 0.9738\n",
            "Epoch 16/100\n",
            "7628/7628 [==============================] - 27s 4ms/step - loss: 0.0510 - acc: 0.9894 - val_loss: 0.1183 - val_acc: 0.9733\n",
            "Epoch 17/100\n",
            "7628/7628 [==============================] - 27s 4ms/step - loss: 0.0456 - acc: 0.9920 - val_loss: 0.1147 - val_acc: 0.9748\n",
            "Epoch 18/100\n",
            "7628/7628 [==============================] - 27s 4ms/step - loss: 0.0428 - acc: 0.9928 - val_loss: 0.1088 - val_acc: 0.9754\n",
            "Epoch 19/100\n",
            "7628/7628 [==============================] - 27s 4ms/step - loss: 0.0477 - acc: 0.9913 - val_loss: 0.0996 - val_acc: 0.9754\n",
            "Epoch 20/100\n",
            "7628/7628 [==============================] - 27s 4ms/step - loss: 0.0349 - acc: 0.9934 - val_loss: 0.1138 - val_acc: 0.9738\n",
            "Epoch 21/100\n",
            "7628/7628 [==============================] - 27s 4ms/step - loss: 0.0365 - acc: 0.9940 - val_loss: 0.1250 - val_acc: 0.9754\n",
            "Epoch 22/100\n",
            "7628/7628 [==============================] - 27s 4ms/step - loss: 0.0337 - acc: 0.9950 - val_loss: 0.1200 - val_acc: 0.9759\n",
            "Epoch 23/100\n",
            "7628/7628 [==============================] - 27s 4ms/step - loss: 0.0327 - acc: 0.9942 - val_loss: 0.1012 - val_acc: 0.9769\n",
            "Epoch 24/100\n",
            "7628/7628 [==============================] - 27s 4ms/step - loss: 0.0305 - acc: 0.9949 - val_loss: 0.1369 - val_acc: 0.9722\n",
            "Epoch 25/100\n",
            "7628/7628 [==============================] - 27s 4ms/step - loss: 0.0259 - acc: 0.9962 - val_loss: 0.1336 - val_acc: 0.9722\n",
            "Epoch 26/100\n",
            "7628/7628 [==============================] - 27s 4ms/step - loss: 0.0287 - acc: 0.9950 - val_loss: 0.1307 - val_acc: 0.9727\n",
            "Epoch 27/100\n",
            "7628/7628 [==============================] - 27s 4ms/step - loss: 0.0236 - acc: 0.9965 - val_loss: 0.1179 - val_acc: 0.9748\n",
            "Epoch 28/100\n",
            "7628/7628 [==============================] - 27s 4ms/step - loss: 0.0233 - acc: 0.9966 - val_loss: 0.1255 - val_acc: 0.9780\n",
            "Epoch 29/100\n",
            "7628/7628 [==============================] - 27s 4ms/step - loss: 0.0225 - acc: 0.9959 - val_loss: 0.1351 - val_acc: 0.9738\n",
            "Epoch 30/100\n",
            "7628/7628 [==============================] - 27s 4ms/step - loss: 0.0282 - acc: 0.9944 - val_loss: 0.1037 - val_acc: 0.9769\n",
            "Epoch 31/100\n",
            "7628/7628 [==============================] - 27s 4ms/step - loss: 0.0221 - acc: 0.9963 - val_loss: 0.1042 - val_acc: 0.9764\n",
            "Epoch 32/100\n",
            "7628/7628 [==============================] - 27s 4ms/step - loss: 0.0228 - acc: 0.9961 - val_loss: 0.1262 - val_acc: 0.9754\n",
            "Epoch 33/100\n",
            "7628/7628 [==============================] - 27s 4ms/step - loss: 0.0233 - acc: 0.9962 - val_loss: 0.1081 - val_acc: 0.9790\n",
            "Epoch 34/100\n",
            "7628/7628 [==============================] - 27s 4ms/step - loss: 0.0224 - acc: 0.9966 - val_loss: 0.1143 - val_acc: 0.9769\n",
            "Epoch 35/100\n",
            "7628/7628 [==============================] - 27s 4ms/step - loss: 0.0190 - acc: 0.9967 - val_loss: 0.2460 - val_acc: 0.9471\n",
            "Epoch 36/100\n",
            "7628/7628 [==============================] - 27s 4ms/step - loss: 0.0189 - acc: 0.9970 - val_loss: 0.1442 - val_acc: 0.9654\n",
            "Epoch 37/100\n",
            "7628/7628 [==============================] - 27s 4ms/step - loss: 0.0212 - acc: 0.9953 - val_loss: 0.1463 - val_acc: 0.9706\n",
            "Epoch 38/100\n",
            "7628/7628 [==============================] - 27s 4ms/step - loss: 0.0188 - acc: 0.9967 - val_loss: 0.1109 - val_acc: 0.9759\n",
            "Epoch 39/100\n",
            "7628/7628 [==============================] - 27s 4ms/step - loss: 0.0196 - acc: 0.9950 - val_loss: 0.1475 - val_acc: 0.9706\n",
            "Epoch 40/100\n",
            "7628/7628 [==============================] - 27s 4ms/step - loss: 0.0201 - acc: 0.9974 - val_loss: 0.1338 - val_acc: 0.9727\n",
            "Epoch 41/100\n",
            "7628/7628 [==============================] - 27s 4ms/step - loss: 0.0173 - acc: 0.9969 - val_loss: 0.1387 - val_acc: 0.9722\n",
            "Epoch 42/100\n",
            "7628/7628 [==============================] - 27s 4ms/step - loss: 0.0172 - acc: 0.9972 - val_loss: 0.1048 - val_acc: 0.9780\n",
            "Epoch 43/100\n",
            "7628/7628 [==============================] - 27s 4ms/step - loss: 0.0170 - acc: 0.9972 - val_loss: 0.1331 - val_acc: 0.9701\n",
            "Epoch 44/100\n",
            "7628/7628 [==============================] - 27s 4ms/step - loss: 0.0150 - acc: 0.9967 - val_loss: 0.0988 - val_acc: 0.9769\n",
            "Epoch 45/100\n",
            "7628/7628 [==============================] - 27s 4ms/step - loss: 0.0151 - acc: 0.9970 - val_loss: 0.1392 - val_acc: 0.9727\n",
            "Epoch 46/100\n",
            "7628/7628 [==============================] - 27s 4ms/step - loss: 0.0145 - acc: 0.9978 - val_loss: 0.1477 - val_acc: 0.9717\n",
            "Epoch 47/100\n",
            "7628/7628 [==============================] - 27s 4ms/step - loss: 0.0222 - acc: 0.9958 - val_loss: 0.1172 - val_acc: 0.9748\n",
            "Epoch 48/100\n",
            "7628/7628 [==============================] - 27s 4ms/step - loss: 0.0157 - acc: 0.9976 - val_loss: 0.1451 - val_acc: 0.9769\n",
            "Epoch 49/100\n",
            "7628/7628 [==============================] - 27s 4ms/step - loss: 0.0156 - acc: 0.9971 - val_loss: 0.1250 - val_acc: 0.9733\n",
            "Epoch 50/100\n",
            "7628/7628 [==============================] - 27s 4ms/step - loss: 0.0178 - acc: 0.9970 - val_loss: 0.1355 - val_acc: 0.9727\n",
            "Epoch 51/100\n",
            "7628/7628 [==============================] - 27s 4ms/step - loss: 0.0130 - acc: 0.9972 - val_loss: 0.1226 - val_acc: 0.9743\n",
            "Epoch 52/100\n",
            "7628/7628 [==============================] - 27s 4ms/step - loss: 0.0134 - acc: 0.9966 - val_loss: 0.1116 - val_acc: 0.9717\n",
            "Epoch 53/100\n",
            "7628/7628 [==============================] - 27s 4ms/step - loss: 0.0131 - acc: 0.9971 - val_loss: 0.1044 - val_acc: 0.9796\n",
            "Epoch 54/100\n",
            "7628/7628 [==============================] - 27s 4ms/step - loss: 0.0118 - acc: 0.9982 - val_loss: 0.1744 - val_acc: 0.9717\n",
            "Epoch 55/100\n",
            "7628/7628 [==============================] - 27s 4ms/step - loss: 0.0178 - acc: 0.9971 - val_loss: 0.1418 - val_acc: 0.9743\n",
            "Epoch 56/100\n",
            "7628/7628 [==============================] - 27s 4ms/step - loss: 0.0101 - acc: 0.9980 - val_loss: 0.1600 - val_acc: 0.9748\n",
            "Epoch 57/100\n",
            "7628/7628 [==============================] - 27s 4ms/step - loss: 0.0159 - acc: 0.9963 - val_loss: 0.1121 - val_acc: 0.9738\n",
            "Epoch 58/100\n",
            "7628/7628 [==============================] - 27s 4ms/step - loss: 0.0173 - acc: 0.9965 - val_loss: 0.1451 - val_acc: 0.9743\n",
            "Epoch 59/100\n",
            "7628/7628 [==============================] - 27s 3ms/step - loss: 0.0123 - acc: 0.9971 - val_loss: 0.1314 - val_acc: 0.9801\n",
            "Epoch 60/100\n",
            "7628/7628 [==============================] - 27s 4ms/step - loss: 0.0130 - acc: 0.9975 - val_loss: 0.0945 - val_acc: 0.9743\n",
            "Epoch 61/100\n",
            "7628/7628 [==============================] - 27s 4ms/step - loss: 0.0101 - acc: 0.9978 - val_loss: 0.1480 - val_acc: 0.9738\n",
            "Epoch 62/100\n",
            "7628/7628 [==============================] - 27s 4ms/step - loss: 0.0136 - acc: 0.9976 - val_loss: 0.1099 - val_acc: 0.9748\n",
            "Epoch 63/100\n",
            "7628/7628 [==============================] - 27s 4ms/step - loss: 0.0141 - acc: 0.9972 - val_loss: 0.1293 - val_acc: 0.9738\n",
            "Epoch 64/100\n",
            "7628/7628 [==============================] - 27s 4ms/step - loss: 0.0145 - acc: 0.9976 - val_loss: 0.1145 - val_acc: 0.9743\n",
            "Epoch 65/100\n",
            "7628/7628 [==============================] - 27s 3ms/step - loss: 0.0117 - acc: 0.9976 - val_loss: 0.1293 - val_acc: 0.9738\n",
            "Epoch 66/100\n",
            "7628/7628 [==============================] - 27s 3ms/step - loss: 0.0113 - acc: 0.9978 - val_loss: 0.1194 - val_acc: 0.9733\n",
            "Epoch 67/100\n",
            "7628/7628 [==============================] - 27s 4ms/step - loss: 0.0221 - acc: 0.9959 - val_loss: 0.1658 - val_acc: 0.9738\n",
            "Epoch 68/100\n",
            "7628/7628 [==============================] - 27s 4ms/step - loss: 0.0110 - acc: 0.9975 - val_loss: 0.1328 - val_acc: 0.9738\n",
            "Epoch 69/100\n",
            "7628/7628 [==============================] - 27s 4ms/step - loss: 0.0151 - acc: 0.9975 - val_loss: 0.1331 - val_acc: 0.9727\n",
            "Epoch 70/100\n",
            "7628/7628 [==============================] - 27s 4ms/step - loss: 0.0122 - acc: 0.9966 - val_loss: 0.1058 - val_acc: 0.9748\n",
            "Epoch 71/100\n",
            "7628/7628 [==============================] - 27s 3ms/step - loss: 0.0119 - acc: 0.9976 - val_loss: 0.1287 - val_acc: 0.9769\n",
            "Epoch 72/100\n",
            "7628/7628 [==============================] - 27s 4ms/step - loss: 0.0149 - acc: 0.9969 - val_loss: 0.1362 - val_acc: 0.9743\n",
            "Epoch 73/100\n",
            "7628/7628 [==============================] - 27s 4ms/step - loss: 0.0121 - acc: 0.9970 - val_loss: 0.1508 - val_acc: 0.9717\n",
            "Epoch 74/100\n",
            "7628/7628 [==============================] - 27s 4ms/step - loss: 0.0105 - acc: 0.9976 - val_loss: 0.1104 - val_acc: 0.9764\n",
            "Epoch 75/100\n",
            "7628/7628 [==============================] - 27s 4ms/step - loss: 0.0128 - acc: 0.9963 - val_loss: 0.1788 - val_acc: 0.9712\n",
            "Epoch 76/100\n",
            "7628/7628 [==============================] - 27s 4ms/step - loss: 0.0084 - acc: 0.9980 - val_loss: 0.1238 - val_acc: 0.9780\n",
            "Epoch 77/100\n",
            "7628/7628 [==============================] - 27s 4ms/step - loss: 0.0149 - acc: 0.9978 - val_loss: 0.1081 - val_acc: 0.9785\n",
            "Epoch 78/100\n",
            "7628/7628 [==============================] - 27s 4ms/step - loss: 0.0138 - acc: 0.9969 - val_loss: 0.2047 - val_acc: 0.9670\n",
            "Epoch 79/100\n",
            "7628/7628 [==============================] - 27s 4ms/step - loss: 0.0161 - acc: 0.9961 - val_loss: 0.2874 - val_acc: 0.9544\n",
            "Epoch 80/100\n",
            "7628/7628 [==============================] - 27s 4ms/step - loss: 0.0181 - acc: 0.9961 - val_loss: 0.0971 - val_acc: 0.9811\n",
            "Epoch 81/100\n",
            "7628/7628 [==============================] - 27s 4ms/step - loss: 0.0162 - acc: 0.9962 - val_loss: 0.1094 - val_acc: 0.9748\n",
            "Epoch 82/100\n",
            "7628/7628 [==============================] - 27s 4ms/step - loss: 0.0099 - acc: 0.9979 - val_loss: 0.2665 - val_acc: 0.9644\n",
            "Epoch 83/100\n",
            "7628/7628 [==============================] - 27s 4ms/step - loss: 0.0108 - acc: 0.9980 - val_loss: 0.1183 - val_acc: 0.9775\n",
            "Epoch 84/100\n",
            "7628/7628 [==============================] - 27s 3ms/step - loss: 0.0091 - acc: 0.9982 - val_loss: 0.0854 - val_acc: 0.9811\n",
            "Epoch 85/100\n",
            "7628/7628 [==============================] - 27s 4ms/step - loss: 0.0111 - acc: 0.9975 - val_loss: 0.0917 - val_acc: 0.9775\n",
            "Epoch 86/100\n",
            "7628/7628 [==============================] - 27s 4ms/step - loss: 0.0083 - acc: 0.9983 - val_loss: 0.0977 - val_acc: 0.9801\n",
            "Epoch 87/100\n",
            "7628/7628 [==============================] - 27s 4ms/step - loss: 0.0115 - acc: 0.9978 - val_loss: 0.1241 - val_acc: 0.9764\n",
            "Epoch 88/100\n",
            "7628/7628 [==============================] - 27s 4ms/step - loss: 0.0090 - acc: 0.9974 - val_loss: 0.1402 - val_acc: 0.9722\n",
            "Epoch 89/100\n",
            "7628/7628 [==============================] - 27s 4ms/step - loss: 0.0168 - acc: 0.9969 - val_loss: 0.1655 - val_acc: 0.9686\n",
            "Epoch 90/100\n",
            "7628/7628 [==============================] - 27s 4ms/step - loss: 0.0106 - acc: 0.9974 - val_loss: 0.1009 - val_acc: 0.9769\n",
            "Epoch 91/100\n",
            "7628/7628 [==============================] - 27s 4ms/step - loss: 0.0110 - acc: 0.9979 - val_loss: 0.0938 - val_acc: 0.9754\n",
            "Epoch 92/100\n",
            "7628/7628 [==============================] - 27s 4ms/step - loss: 0.0107 - acc: 0.9975 - val_loss: 0.1404 - val_acc: 0.9733\n",
            "Epoch 93/100\n",
            "7628/7628 [==============================] - 27s 4ms/step - loss: 0.0051 - acc: 0.9991 - val_loss: 0.1449 - val_acc: 0.9722\n",
            "Epoch 94/100\n",
            "7628/7628 [==============================] - 27s 4ms/step - loss: 0.0116 - acc: 0.9970 - val_loss: 0.2901 - val_acc: 0.9607\n",
            "Epoch 95/100\n",
            "7628/7628 [==============================] - 27s 4ms/step - loss: 0.0089 - acc: 0.9986 - val_loss: 0.1300 - val_acc: 0.9743\n",
            "Epoch 96/100\n",
            "7628/7628 [==============================] - 27s 4ms/step - loss: 0.0105 - acc: 0.9983 - val_loss: 0.1036 - val_acc: 0.9790\n",
            "Epoch 97/100\n",
            "7628/7628 [==============================] - 27s 4ms/step - loss: 0.0071 - acc: 0.9982 - val_loss: 0.1183 - val_acc: 0.9790\n",
            "Epoch 98/100\n",
            "7628/7628 [==============================] - 27s 4ms/step - loss: 0.0094 - acc: 0.9979 - val_loss: 0.1138 - val_acc: 0.9796\n",
            "Epoch 99/100\n",
            "7628/7628 [==============================] - 27s 4ms/step - loss: 0.0194 - acc: 0.9969 - val_loss: 0.1278 - val_acc: 0.9754\n",
            "Epoch 100/100\n",
            "7628/7628 [==============================] - 27s 4ms/step - loss: 0.0102 - acc: 0.9979 - val_loss: 0.1577 - val_acc: 0.9754\n"
          ],
          "name": "stdout"
        }
      ]
    },
    {
      "cell_type": "code",
      "metadata": {
        "id": "KxZsBEiQc4LL",
        "colab_type": "code",
        "outputId": "da3e2011-c45f-4be9-84ca-92b4f649dda1",
        "colab": {
          "base_uri": "https://localhost:8080/",
          "height": 50
        }
      },
      "source": [
        "test_loss, test_acc = FlaNet.evaluate(testImages, testLabels)\n",
        "test_acc"
      ],
      "execution_count": 16,
      "outputs": [
        {
          "output_type": "stream",
          "text": [
            "2384/2384 [==============================] - 3s 1ms/step\n"
          ],
          "name": "stdout"
        },
        {
          "output_type": "execute_result",
          "data": {
            "text/plain": [
              "0.9890939597315436"
            ]
          },
          "metadata": {
            "tags": []
          },
          "execution_count": 16
        }
      ]
    },
    {
      "cell_type": "code",
      "metadata": {
        "id": "Wr2zfuUJUjAc",
        "colab_type": "code",
        "outputId": "db72b792-0f43-4f46-e30e-149e0a25d0dd",
        "colab": {
          "base_uri": "https://localhost:8080/",
          "height": 34
        }
      },
      "source": [
        "test_loss"
      ],
      "execution_count": 17,
      "outputs": [
        {
          "output_type": "execute_result",
          "data": {
            "text/plain": [
              "0.08680370878178201"
            ]
          },
          "metadata": {
            "tags": []
          },
          "execution_count": 17
        }
      ]
    },
    {
      "cell_type": "markdown",
      "metadata": {
        "id": "7mHIwC2qs8P9",
        "colab_type": "text"
      },
      "source": [
        "# **Confusion matrix**"
      ]
    },
    {
      "cell_type": "code",
      "metadata": {
        "id": "AjtbTfQaY_sW",
        "colab_type": "code",
        "colab": {}
      },
      "source": [
        "test_predict = FlaNet.predict(testImages)\n",
        "##\n",
        "# binary crossentropy\n",
        "predictLabels = [1 * (test_predict[i]>=0.5) for i in range(len(test_predict))]\n",
        "predictLabels = np.array(predictLabels)\n",
        "\n",
        "# categorical crossentropy\n",
        "#predictLabels = np.array([np.argmax(test_predict[i]) for i in range(len(test_predict))])\n",
        "#testLabels = np.array([np.argmax(testLabels[i]) for i in range(len(test_predict))])"
      ],
      "execution_count": 0,
      "outputs": []
    },
    {
      "cell_type": "code",
      "metadata": {
        "id": "hDskpQnTb4j0",
        "colab_type": "code",
        "outputId": "c43da079-011f-4532-c22d-c1eab5dcf82f",
        "colab": {
          "base_uri": "https://localhost:8080/",
          "height": 34
        }
      },
      "source": [
        "predictLabels.shape"
      ],
      "execution_count": 19,
      "outputs": [
        {
          "output_type": "execute_result",
          "data": {
            "text/plain": [
              "(2384, 1)"
            ]
          },
          "metadata": {
            "tags": []
          },
          "execution_count": 19
        }
      ]
    },
    {
      "cell_type": "code",
      "metadata": {
        "id": "tuD6uFWVcA5m",
        "colab_type": "code",
        "outputId": "6c094ef6-7c00-46de-c19a-c1970963d9c0",
        "colab": {
          "base_uri": "https://localhost:8080/",
          "height": 34
        }
      },
      "source": [
        "testLabels.shape"
      ],
      "execution_count": 20,
      "outputs": [
        {
          "output_type": "execute_result",
          "data": {
            "text/plain": [
              "(2384,)"
            ]
          },
          "metadata": {
            "tags": []
          },
          "execution_count": 20
        }
      ]
    },
    {
      "cell_type": "code",
      "metadata": {
        "id": "rxyruJbpY3DO",
        "colab_type": "code",
        "outputId": "5d2a551c-a20f-443c-833c-cede759bb33d",
        "colab": {
          "base_uri": "https://localhost:8080/",
          "height": 394
        }
      },
      "source": [
        "import matplotlib.pyplot as plt\n",
        "import seaborn as sns; sns.set()\n",
        "\n",
        "from sklearn.metrics import confusion_matrix\n",
        "\n",
        "mat = confusion_matrix(predictLabels, testLabels)\n",
        "\n",
        "plt.figure(figsize=(8,6))\n",
        "ax=sns.heatmap(mat, square=False, annot=True, fmt=\"d\", cbar=True)\n",
        "\n",
        "# There is a bug in matplotlib 3.1.1 causing truncated heatmap \n",
        "bottom, top = ax.get_ylim()\n",
        "ax.set_ylim(bottom + 0.5, top - 0.5)\n",
        "\n",
        "plt.xlabel('predicted value')\n",
        "plt.ylabel('true value')\n",
        "\n",
        "plt.show()"
      ],
      "execution_count": 21,
      "outputs": [
        {
          "output_type": "display_data",
          "data": {
            "image/png": "[encoded data removed]",
            "text/plain": [
              "<Figure size 576x432 with 2 Axes>"
            ]
          },
          "metadata": {
            "tags": []
          }
        }
      ]
    },
    {
      "cell_type": "markdown",
      "metadata": {
        "id": "73LSKAucPIcr",
        "colab_type": "text"
      },
      "source": [
        "# **Inspection of overfitting**"
      ]
    },
    {
      "cell_type": "code",
      "metadata": {
        "id": "roGt1QTD9Z4T",
        "colab_type": "code",
        "colab": {}
      },
      "source": [
        "acc = history.history['acc']\n",
        "val_acc = history.history['val_acc']\n",
        "loss = history.history['loss']\n",
        "val_loss = history.history['val_loss']\n",
        "epochs = range(len(acc))"
      ],
      "execution_count": 0,
      "outputs": []
    },
    {
      "cell_type": "code",
      "metadata": {
        "id": "mz6Is2XDO_0X",
        "colab_type": "code",
        "outputId": "65206aa6-bde1-494d-ca64-08711afe55c9",
        "colab": {
          "base_uri": "https://localhost:8080/",
          "height": 301
        }
      },
      "source": [
        "plt.figure()\n",
        "\n",
        "plt.plot(epochs, acc, 'r', label='Training acc')\n",
        "plt.plot(epochs, val_acc, 'b', label='Validation acc')\n",
        "\n",
        "plt.title('Training and validation accuracy')\n",
        "plt.xlabel('epochs')\n",
        "plt.ylabel('accuracy')\n",
        "plt.legend()\n",
        "\n",
        "plt.show()"
      ],
      "execution_count": 23,
      "outputs": [
        {
          "output_type": "display_data",
          "data": {
            "image/png": "[encoded data removed]",
            "text/plain": [
              "<Figure size 432x288 with 1 Axes>"
            ]
          },
          "metadata": {
            "tags": []
          }
        }
      ]
    },
    {
      "cell_type": "code",
      "metadata": {
        "id": "Brxz60pyPABz",
        "colab_type": "code",
        "outputId": "f19e8c7a-6a34-4431-c357-3a1310ff659e",
        "colab": {
          "base_uri": "https://localhost:8080/",
          "height": 301
        }
      },
      "source": [
        "plt.figure()\n",
        "\n",
        "plt.plot(epochs, loss, 'r', label='Training loss')\n",
        "plt.plot(epochs, val_loss, 'b', label='Validation loss')\n",
        "plt.title('Training and validation loss')\n",
        "plt.xlabel('epochs')\n",
        "plt.ylabel('loss')\n",
        "plt.legend()\n",
        "\n",
        "plt.show()"
      ],
      "execution_count": 24,
      "outputs": [
        {
          "output_type": "display_data",
          "data": {
            "image/png": "[encoded data removed]",
            "text/plain": [
              "<Figure size 432x288 with 1 Axes>"
            ]
          },
          "metadata": {
            "tags": []
          }
        }
      ]
    },
    {
      "cell_type": "markdown",
      "metadata": {
        "id": "5sNC3YEc0IUA",
        "colab_type": "text"
      },
      "source": [
        "#**Save trained network & history**"
      ]
    },
    {
      "cell_type": "code",
      "metadata": {
        "id": "qPBgloYAFNih",
        "colab_type": "code",
        "outputId": "4ebce477-231c-4541-c73f-d8751c82665c",
        "colab": {
          "base_uri": "https://localhost:8080/",
          "height": 34
        }
      },
      "source": [
        "cd /content/gdrive/My Drive/Colab Notebooks/FlaNet/trainingDatasets/"
      ],
      "execution_count": 25,
      "outputs": [
        {
          "output_type": "stream",
          "text": [
            "/content/gdrive/My Drive/Colab Notebooks/FlaNet/trainingDatasets\n"
          ],
          "name": "stdout"
        }
      ]
    },
    {
      "cell_type": "code",
      "metadata": {
        "id": "JNrafT520WLT",
        "colab_type": "code",
        "colab": {}
      },
      "source": [
        "# save trained network\n",
        "FlaNet.save('FlaNet.h5') "
      ],
      "execution_count": 0,
      "outputs": []
    },
    {
      "cell_type": "code",
      "metadata": {
        "id": "cVZAqV0SAVqw",
        "colab_type": "code",
        "colab": {}
      },
      "source": [
        "# save history\n",
        "import pandas as pd\n",
        "   \n",
        "FlaNet_df = pd.DataFrame(history.history) \n",
        "\n",
        "with open('FlaNet.csv', mode='w') as f:\n",
        "    FlaNet_df.to_csv(f)"
      ],
      "execution_count": 0,
      "outputs": []
    }
  ]
}