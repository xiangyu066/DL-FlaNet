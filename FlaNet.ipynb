{
  "nbformat": 4,
  "nbformat_minor": 0,
  "metadata": {
    "colab": {
      "name": "FlaNet.ipynb",
      "provenance": [],
      "collapsed_sections": [],
      "include_colab_link": true
    },
    "kernelspec": {
      "name": "python3",
      "display_name": "Python 3"
    },
    "accelerator": "GPU"
  },
  "cells": [
    {
      "cell_type": "markdown",
      "metadata": {
        "id": "view-in-github",
        "colab_type": "text"
      },
      "source": [
        "<a href=\"https://colab.research.google.com/github/xiangyu066/DL-FlaNet/blob/master/FlaNet.ipynb\" target=\"_parent\"><img src=\"https://colab.research.google.com/assets/colab-badge.svg\" alt=\"Open In Colab\"/></a>"
      ]
    },
    {
      "cell_type": "code",
      "metadata": {
        "id": "A1jZejSOyjYM",
        "colab_type": "code",
        "outputId": "fc647e70-c7f1-4321-b44b-103238a9554f",
        "colab": {
          "base_uri": "https://localhost:8080/",
          "height": 302
        }
      },
      "source": [
        "!/opt/bin/nvidia-smi"
      ],
      "execution_count": 1,
      "outputs": [
        {
          "output_type": "stream",
          "text": [
            "Tue Nov  5 16:18:05 2019       \n",
            "+-----------------------------------------------------------------------------+\n",
            "| NVIDIA-SMI 418.67       Driver Version: 418.67       CUDA Version: 10.1     |\n",
            "|-------------------------------+----------------------+----------------------+\n",
            "| GPU  Name        Persistence-M| Bus-Id        Disp.A | Volatile Uncorr. ECC |\n",
            "| Fan  Temp  Perf  Pwr:Usage/Cap|         Memory-Usage | GPU-Util  Compute M. |\n",
            "|===============================+======================+======================|\n",
            "|   0  Tesla K80           Off  | 00000000:00:04.0 Off |                    0 |\n",
            "| N/A   57C    P8    60W / 149W |      0MiB / 11441MiB |      0%      Default |\n",
            "+-------------------------------+----------------------+----------------------+\n",
            "                                                                               \n",
            "+-----------------------------------------------------------------------------+\n",
            "| Processes:                                                       GPU Memory |\n",
            "|  GPU       PID   Type   Process name                             Usage      |\n",
            "|=============================================================================|\n",
            "|  No running processes found                                                 |\n",
            "+-----------------------------------------------------------------------------+\n"
          ],
          "name": "stdout"
        }
      ]
    },
    {
      "cell_type": "markdown",
      "metadata": {
        "id": "pwifFB-PYbAa",
        "colab_type": "text"
      },
      "source": [
        "# **Acess to Google drive**"
      ]
    },
    {
      "cell_type": "code",
      "metadata": {
        "id": "e3Pg_IKDcRew",
        "colab_type": "code",
        "outputId": "1312759b-b58f-4fb1-9645-9623d50f9442",
        "colab": {
          "base_uri": "https://localhost:8080/",
          "height": 34
        }
      },
      "source": [
        "from google.colab import drive\n",
        "drive.mount('/content/gdrive')"
      ],
      "execution_count": 2,
      "outputs": [
        {
          "output_type": "stream",
          "text": [
            "Drive already mounted at /content/gdrive; to attempt to forcibly remount, call drive.mount(\"/content/gdrive\", force_remount=True).\n"
          ],
          "name": "stdout"
        }
      ]
    },
    {
      "cell_type": "markdown",
      "metadata": {
        "id": "UhgJyT3HYljy",
        "colab_type": "text"
      },
      "source": [
        "# **Importing datasets**"
      ]
    },
    {
      "cell_type": "code",
      "metadata": {
        "id": "vhyae1COdUlw",
        "colab_type": "code",
        "outputId": "8557bc25-b9c2-468a-84e4-000a86236144",
        "colab": {
          "base_uri": "https://localhost:8080/",
          "height": 34
        }
      },
      "source": [
        "cd /content/gdrive/My Drive/Colab Notebooks/FlaNet/trainingDatasets/trainingImages_npy/"
      ],
      "execution_count": 3,
      "outputs": [
        {
          "output_type": "stream",
          "text": [
            "/content/gdrive/My Drive/Colab Notebooks/FlaNet/trainingDatasets/trainingImages_npy\n"
          ],
          "name": "stdout"
        }
      ]
    },
    {
      "cell_type": "code",
      "metadata": {
        "id": "t73lMF6TWife",
        "colab_type": "code",
        "colab": {}
      },
      "source": [
        "import numpy as np\n",
        "\n",
        "trainingImages = []\n",
        "trainingLabels = []\n",
        "\n",
        "trainingImages_Flagellated = np.load('Flagellated_images.npy')\n",
        "trainingImages = trainingImages_Flagellated\n",
        "trainingLabels_Flagellated = np.load('Flagellated_labels_hot.npy')\n",
        "trainingLabels = trainingLabels_Flagellated\n",
        "\n",
        "trainingImages_nonFlagellated = np.load('nonFlagellated_images.npy')\n",
        "trainingImages = np.append(trainingImages,trainingImages_nonFlagellated,axis=0)\n",
        "trainLabels_nonFlagellated = np.load('nonFlagellated_labels_hot.npy')\n",
        "trainingLabels = np.append(trainingLabels,trainLabels_nonFlagellated,axis=0)\n",
        "\n",
        "#trainingImages = trainingImages.astype('float32') / 255"
      ],
      "execution_count": 0,
      "outputs": []
    },
    {
      "cell_type": "code",
      "metadata": {
        "id": "e_0NAig1X_gn",
        "colab_type": "code",
        "colab": {}
      },
      "source": [
        "# manual shuffle\n",
        "idx = np.random.permutation(len(trainingLabels))\n",
        "trainingLabels=trainingLabels[idx]\n",
        "trainingImages=trainingImages[idx,]"
      ],
      "execution_count": 0,
      "outputs": []
    },
    {
      "cell_type": "code",
      "metadata": {
        "id": "9l1BtNf5kvlG",
        "colab_type": "code",
        "outputId": "f0768320-f9eb-4c85-a5ff-3ea3c7d73ded",
        "colab": {
          "base_uri": "https://localhost:8080/",
          "height": 34
        }
      },
      "source": [
        "trainingLabels.shape"
      ],
      "execution_count": 6,
      "outputs": [
        {
          "output_type": "execute_result",
          "data": {
            "text/plain": [
              "(9536,)"
            ]
          },
          "metadata": {
            "tags": []
          },
          "execution_count": 6
        }
      ]
    },
    {
      "cell_type": "code",
      "metadata": {
        "id": "ZnZkSsM4lFo5",
        "colab_type": "code",
        "outputId": "7fc0ea51-c144-443e-9842-5024bb9369ce",
        "colab": {
          "base_uri": "https://localhost:8080/",
          "height": 34
        }
      },
      "source": [
        "trainingImages.shape"
      ],
      "execution_count": 7,
      "outputs": [
        {
          "output_type": "execute_result",
          "data": {
            "text/plain": [
              "(9536, 128, 128, 1)"
            ]
          },
          "metadata": {
            "tags": []
          },
          "execution_count": 7
        }
      ]
    },
    {
      "cell_type": "code",
      "metadata": {
        "id": "kzCNLbByXSHH",
        "colab_type": "code",
        "outputId": "fc960de4-2a26-4637-a19a-f59cd83d2ca7",
        "colab": {
          "base_uri": "https://localhost:8080/",
          "height": 34
        }
      },
      "source": [
        "cd /content/gdrive/My Drive/Colab Notebooks/FlaNet/trainingDatasets/testImages_npy/"
      ],
      "execution_count": 8,
      "outputs": [
        {
          "output_type": "stream",
          "text": [
            "/content/gdrive/My Drive/Colab Notebooks/FlaNet/trainingDatasets/testImages_npy\n"
          ],
          "name": "stdout"
        }
      ]
    },
    {
      "cell_type": "code",
      "metadata": {
        "id": "dcw53u5HXVHO",
        "colab_type": "code",
        "colab": {}
      },
      "source": [
        "testImages = []\n",
        "testLabels = []\n",
        "\n",
        "testImages_Flagellated = np.load('Flagellated_images.npy')\n",
        "testImages = testImages_Flagellated\n",
        "testLabels_Flagellated = np.load('Flagellated_labels_hot.npy')\n",
        "testLabels = testLabels_Flagellated\n",
        "\n",
        "testImages_nonFlagellated = np.load('nonFlagellated_images.npy')\n",
        "testImages = np.append(testImages,testImages_nonFlagellated,axis=0)\n",
        "testLabels_nonFlagellated = np.load('nonFlagellated_labels_hot.npy')\n",
        "testLabels = np.append(testLabels,testLabels_nonFlagellated,axis=0)\n",
        "\n",
        "#testImages = testImages.astype('float32') / 255"
      ],
      "execution_count": 0,
      "outputs": []
    },
    {
      "cell_type": "code",
      "metadata": {
        "id": "f3BV7IArln9R",
        "colab_type": "code",
        "outputId": "bc3a7918-d634-4323-b7d2-8fd0297eb019",
        "colab": {
          "base_uri": "https://localhost:8080/",
          "height": 34
        }
      },
      "source": [
        "testLabels.shape"
      ],
      "execution_count": 10,
      "outputs": [
        {
          "output_type": "execute_result",
          "data": {
            "text/plain": [
              "(2384,)"
            ]
          },
          "metadata": {
            "tags": []
          },
          "execution_count": 10
        }
      ]
    },
    {
      "cell_type": "code",
      "metadata": {
        "id": "wD4sW3hMlVgE",
        "colab_type": "code",
        "outputId": "58ec7cf6-66f0-4dec-b7c0-dff9aa7c7776",
        "colab": {
          "base_uri": "https://localhost:8080/",
          "height": 34
        }
      },
      "source": [
        "testImages.shape"
      ],
      "execution_count": 11,
      "outputs": [
        {
          "output_type": "execute_result",
          "data": {
            "text/plain": [
              "(2384, 128, 128, 1)"
            ]
          },
          "metadata": {
            "tags": []
          },
          "execution_count": 11
        }
      ]
    },
    {
      "cell_type": "markdown",
      "metadata": {
        "id": "-xNEbbj4YvGd",
        "colab_type": "text"
      },
      "source": [
        "# **Training a neural network**"
      ]
    },
    {
      "cell_type": "code",
      "metadata": {
        "id": "GQ6_wB9vcacT",
        "colab_type": "code",
        "outputId": "12eb9754-e285-44f8-d95e-289600cb52a5",
        "colab": {
          "base_uri": "https://localhost:8080/",
          "height": 96
        }
      },
      "source": [
        "import keras\n",
        "keras.__version__"
      ],
      "execution_count": 12,
      "outputs": [
        {
          "output_type": "stream",
          "text": [
            "Using TensorFlow backend.\n"
          ],
          "name": "stderr"
        },
        {
          "output_type": "display_data",
          "data": {
            "text/html": [
              "<p style=\"color: red;\">\n",
              "The default version of TensorFlow in Colab will soon switch to TensorFlow 2.x.<br>\n",
              "We recommend you <a href=\"https://www.tensorflow.org/guide/migrate\" target=\"_blank\">upgrade</a> now \n",
              "or ensure your notebook will continue to use TensorFlow 1.x via the <code>%tensorflow_version 1.x</code> magic:\n",
              "<a href=\"https://colab.research.google.com/notebooks/tensorflow_version.ipynb\" target=\"_blank\">more info</a>.</p>\n"
            ],
            "text/plain": [
              "<IPython.core.display.HTML object>"
            ]
          },
          "metadata": {
            "tags": []
          }
        },
        {
          "output_type": "execute_result",
          "data": {
            "text/plain": [
              "'2.2.5'"
            ]
          },
          "metadata": {
            "tags": []
          },
          "execution_count": 12
        }
      ]
    },
    {
      "cell_type": "code",
      "metadata": {
        "id": "QZ2vwc2Wcba0",
        "colab_type": "code",
        "outputId": "df519f6b-5e4d-40ad-d80e-62efe6ba8e28",
        "colab": {
          "base_uri": "https://localhost:8080/",
          "height": 642
        }
      },
      "source": [
        "from keras import layers\n",
        "from keras import models\n",
        "from keras import regularizers\n",
        "\n",
        "FlaNet = models.Sequential()\n",
        "FlaNet.add(layers.Conv2D(64, (5, 5), activation='relu', input_shape=(128, 128, 1), padding='same'))\n",
        "FlaNet.add(layers.MaxPooling2D((3, 3),strides=2))\n",
        "FlaNet.add(layers.Conv2D(128, (5, 5), activation='relu', padding='same'))\n",
        "FlaNet.add(layers.MaxPooling2D((3, 3),strides=2))\n",
        "FlaNet.add(layers.Conv2D(128, (5, 5), activation='relu', padding='same'))\n",
        "FlaNet.add(layers.MaxPooling2D((3, 3),strides=2))\n",
        "FlaNet.add(layers.Flatten())\n",
        "FlaNet.add(layers.Dense(128, kernel_regularizer=regularizers.l2(0.001), activation='relu'))\n",
        "FlaNet.add(layers.Dense(128, kernel_regularizer=regularizers.l2(0.001), activation='relu'))\n",
        "\n",
        "# binary crossentropy\n",
        "FlaNet.add(layers.Dense(1, activation='sigmoid')) \n",
        "\n",
        "# categorical crossentropy\n",
        "#FlaNet.add(layers.Dense(2, activation='softmax')) \n",
        "\n",
        "FlaNet.summary()"
      ],
      "execution_count": 13,
      "outputs": [
        {
          "output_type": "stream",
          "text": [
            "WARNING:tensorflow:From /usr/local/lib/python3.6/dist-packages/keras/backend/tensorflow_backend.py:66: The name tf.get_default_graph is deprecated. Please use tf.compat.v1.get_default_graph instead.\n",
            "\n",
            "WARNING:tensorflow:From /usr/local/lib/python3.6/dist-packages/keras/backend/tensorflow_backend.py:541: The name tf.placeholder is deprecated. Please use tf.compat.v1.placeholder instead.\n",
            "\n",
            "WARNING:tensorflow:From /usr/local/lib/python3.6/dist-packages/keras/backend/tensorflow_backend.py:4432: The name tf.random_uniform is deprecated. Please use tf.random.uniform instead.\n",
            "\n",
            "WARNING:tensorflow:From /usr/local/lib/python3.6/dist-packages/keras/backend/tensorflow_backend.py:4267: The name tf.nn.max_pool is deprecated. Please use tf.nn.max_pool2d instead.\n",
            "\n",
            "Model: \"sequential_1\"\n",
            "_________________________________________________________________\n",
            "Layer (type)                 Output Shape              Param #   \n",
            "=================================================================\n",
            "conv2d_1 (Conv2D)            (None, 128, 128, 64)      1664      \n",
            "_________________________________________________________________\n",
            "max_pooling2d_1 (MaxPooling2 (None, 63, 63, 64)        0         \n",
            "_________________________________________________________________\n",
            "conv2d_2 (Conv2D)            (None, 63, 63, 128)       204928    \n",
            "_________________________________________________________________\n",
            "max_pooling2d_2 (MaxPooling2 (None, 31, 31, 128)       0         \n",
            "_________________________________________________________________\n",
            "conv2d_3 (Conv2D)            (None, 31, 31, 128)       409728    \n",
            "_________________________________________________________________\n",
            "max_pooling2d_3 (MaxPooling2 (None, 15, 15, 128)       0         \n",
            "_________________________________________________________________\n",
            "flatten_1 (Flatten)          (None, 28800)             0         \n",
            "_________________________________________________________________\n",
            "dense_1 (Dense)              (None, 128)               3686528   \n",
            "_________________________________________________________________\n",
            "dense_2 (Dense)              (None, 128)               16512     \n",
            "_________________________________________________________________\n",
            "dense_3 (Dense)              (None, 1)                 129       \n",
            "=================================================================\n",
            "Total params: 4,319,489\n",
            "Trainable params: 4,319,489\n",
            "Non-trainable params: 0\n",
            "_________________________________________________________________\n"
          ],
          "name": "stdout"
        }
      ]
    },
    {
      "cell_type": "code",
      "metadata": {
        "id": "vudplwhEc0wd",
        "colab_type": "code",
        "outputId": "2f6ce666-fba9-4502-ee25-a9d13be4486c",
        "colab": {
          "base_uri": "https://localhost:8080/",
          "height": 154
        }
      },
      "source": [
        "from keras import optimizers\n",
        "\n",
        "# binary crossentropy\n",
        "FlaNet.compile(optimizer=optimizers.RMSprop(lr=1e-4),\n",
        "              loss='binary_crossentropy',\n",
        "              metrics=['accuracy'])\n",
        "\n",
        "# categorical crossentropy\n",
        "#from keras.utils import to_categorical\n",
        "#trainingLabels = to_categorical(trainingLabels)\n",
        "#testLabels = to_categorical(testLabels)\n",
        "#FlaNet.compile(optimizer=optimizers.RMSprop(lr=1e-5),\n",
        "#              loss='categorical_crossentropy',\n",
        "#              metrics=['accuracy'])"
      ],
      "execution_count": 14,
      "outputs": [
        {
          "output_type": "stream",
          "text": [
            "WARNING:tensorflow:From /usr/local/lib/python3.6/dist-packages/keras/optimizers.py:793: The name tf.train.Optimizer is deprecated. Please use tf.compat.v1.train.Optimizer instead.\n",
            "\n",
            "WARNING:tensorflow:From /usr/local/lib/python3.6/dist-packages/keras/backend/tensorflow_backend.py:3657: The name tf.log is deprecated. Please use tf.math.log instead.\n",
            "\n",
            "WARNING:tensorflow:From /usr/local/lib/python3.6/dist-packages/tensorflow_core/python/ops/nn_impl.py:183: where (from tensorflow.python.ops.array_ops) is deprecated and will be removed in a future version.\n",
            "Instructions for updating:\n",
            "Use tf.where in 2.0, which has the same broadcast rule as np.where\n"
          ],
          "name": "stdout"
        }
      ]
    },
    {
      "cell_type": "code",
      "metadata": {
        "id": "Y94rzG58Lolg",
        "colab_type": "code",
        "outputId": "d19c05c0-256e-4df6-ff46-be6b689db74c",
        "colab": {
          "base_uri": "https://localhost:8080/",
          "height": 1000
        }
      },
      "source": [
        "history = FlaNet.fit(trainingImages, trainingLabels, epochs=30, batch_size=16, validation_split=0.2)"
      ],
      "execution_count": 15,
      "outputs": [
        {
          "output_type": "stream",
          "text": [
            "WARNING:tensorflow:From /usr/local/lib/python3.6/dist-packages/keras/backend/tensorflow_backend.py:1033: The name tf.assign_add is deprecated. Please use tf.compat.v1.assign_add instead.\n",
            "\n",
            "WARNING:tensorflow:From /usr/local/lib/python3.6/dist-packages/keras/backend/tensorflow_backend.py:1020: The name tf.assign is deprecated. Please use tf.compat.v1.assign instead.\n",
            "\n",
            "WARNING:tensorflow:From /usr/local/lib/python3.6/dist-packages/keras/backend/tensorflow_backend.py:3005: The name tf.Session is deprecated. Please use tf.compat.v1.Session instead.\n",
            "\n",
            "Train on 7628 samples, validate on 1908 samples\n",
            "Epoch 1/30\n",
            "WARNING:tensorflow:From /usr/local/lib/python3.6/dist-packages/keras/backend/tensorflow_backend.py:190: The name tf.get_default_session is deprecated. Please use tf.compat.v1.get_default_session instead.\n",
            "\n",
            "WARNING:tensorflow:From /usr/local/lib/python3.6/dist-packages/keras/backend/tensorflow_backend.py:197: The name tf.ConfigProto is deprecated. Please use tf.compat.v1.ConfigProto instead.\n",
            "\n",
            "WARNING:tensorflow:From /usr/local/lib/python3.6/dist-packages/keras/backend/tensorflow_backend.py:207: The name tf.global_variables is deprecated. Please use tf.compat.v1.global_variables instead.\n",
            "\n",
            "WARNING:tensorflow:From /usr/local/lib/python3.6/dist-packages/keras/backend/tensorflow_backend.py:216: The name tf.is_variable_initialized is deprecated. Please use tf.compat.v1.is_variable_initialized instead.\n",
            "\n",
            "WARNING:tensorflow:From /usr/local/lib/python3.6/dist-packages/keras/backend/tensorflow_backend.py:223: The name tf.variables_initializer is deprecated. Please use tf.compat.v1.variables_initializer instead.\n",
            "\n",
            "7628/7628 [==============================] - 29s 4ms/step - loss: 3.3304 - acc: 0.6678 - val_loss: 0.5266 - val_acc: 0.8082\n",
            "Epoch 2/30\n",
            "7628/7628 [==============================] - 26s 3ms/step - loss: 0.3960 - acc: 0.8637 - val_loss: 0.2917 - val_acc: 0.9219\n",
            "Epoch 3/30\n",
            "7628/7628 [==============================] - 26s 3ms/step - loss: 0.2386 - acc: 0.9248 - val_loss: 0.1821 - val_acc: 0.9476\n",
            "Epoch 4/30\n",
            "7628/7628 [==============================] - 26s 3ms/step - loss: 0.1632 - acc: 0.9527 - val_loss: 0.1370 - val_acc: 0.9628\n",
            "Epoch 5/30\n",
            "7628/7628 [==============================] - 26s 3ms/step - loss: 0.1298 - acc: 0.9662 - val_loss: 0.1128 - val_acc: 0.9675\n",
            "Epoch 6/30\n",
            "7628/7628 [==============================] - 26s 3ms/step - loss: 0.1079 - acc: 0.9731 - val_loss: 0.0988 - val_acc: 0.9796\n",
            "Epoch 7/30\n",
            "7628/7628 [==============================] - 27s 3ms/step - loss: 0.1029 - acc: 0.9740 - val_loss: 0.1252 - val_acc: 0.9665\n",
            "Epoch 8/30\n",
            "7628/7628 [==============================] - 26s 3ms/step - loss: 0.0884 - acc: 0.9792 - val_loss: 0.1308 - val_acc: 0.9628\n",
            "Epoch 9/30\n",
            "7628/7628 [==============================] - 26s 3ms/step - loss: 0.0858 - acc: 0.9789 - val_loss: 0.0996 - val_acc: 0.9743\n",
            "Epoch 10/30\n",
            "7628/7628 [==============================] - 26s 3ms/step - loss: 0.0765 - acc: 0.9824 - val_loss: 0.1230 - val_acc: 0.9785\n",
            "Epoch 11/30\n",
            "7628/7628 [==============================] - 26s 3ms/step - loss: 0.0701 - acc: 0.9851 - val_loss: 0.1010 - val_acc: 0.9780\n",
            "Epoch 12/30\n",
            "7628/7628 [==============================] - 26s 3ms/step - loss: 0.0641 - acc: 0.9849 - val_loss: 0.1120 - val_acc: 0.9717\n",
            "Epoch 13/30\n",
            "7628/7628 [==============================] - 26s 3ms/step - loss: 0.0570 - acc: 0.9874 - val_loss: 0.0795 - val_acc: 0.9843\n",
            "Epoch 14/30\n",
            "7628/7628 [==============================] - 26s 3ms/step - loss: 0.0543 - acc: 0.9891 - val_loss: 0.0977 - val_acc: 0.9811\n",
            "Epoch 15/30\n",
            "7628/7628 [==============================] - 26s 3ms/step - loss: 0.0532 - acc: 0.9895 - val_loss: 0.1129 - val_acc: 0.9722\n",
            "Epoch 16/30\n",
            "7628/7628 [==============================] - 26s 3ms/step - loss: 0.0489 - acc: 0.9900 - val_loss: 0.0866 - val_acc: 0.9806\n",
            "Epoch 17/30\n",
            "7628/7628 [==============================] - 26s 3ms/step - loss: 0.0416 - acc: 0.9924 - val_loss: 0.0939 - val_acc: 0.9853\n",
            "Epoch 18/30\n",
            "7628/7628 [==============================] - 26s 3ms/step - loss: 0.0418 - acc: 0.9921 - val_loss: 0.1215 - val_acc: 0.9811\n",
            "Epoch 19/30\n",
            "7628/7628 [==============================] - 26s 3ms/step - loss: 0.0361 - acc: 0.9937 - val_loss: 0.0930 - val_acc: 0.9790\n",
            "Epoch 20/30\n",
            "7628/7628 [==============================] - 26s 3ms/step - loss: 0.0386 - acc: 0.9917 - val_loss: 0.0822 - val_acc: 0.9827\n",
            "Epoch 21/30\n",
            "7628/7628 [==============================] - 26s 3ms/step - loss: 0.0344 - acc: 0.9937 - val_loss: 0.0913 - val_acc: 0.9843\n",
            "Epoch 22/30\n",
            "7628/7628 [==============================] - 26s 3ms/step - loss: 0.0319 - acc: 0.9942 - val_loss: 0.0794 - val_acc: 0.9827\n",
            "Epoch 23/30\n",
            "7628/7628 [==============================] - 26s 3ms/step - loss: 0.0301 - acc: 0.9949 - val_loss: 0.1105 - val_acc: 0.9780\n",
            "Epoch 24/30\n",
            "7628/7628 [==============================] - 26s 3ms/step - loss: 0.0305 - acc: 0.9938 - val_loss: 0.0961 - val_acc: 0.9811\n",
            "Epoch 25/30\n",
            "7628/7628 [==============================] - 26s 3ms/step - loss: 0.0338 - acc: 0.9937 - val_loss: 0.0870 - val_acc: 0.9827\n",
            "Epoch 26/30\n",
            "7628/7628 [==============================] - 26s 3ms/step - loss: 0.0250 - acc: 0.9953 - val_loss: 0.1315 - val_acc: 0.9780\n",
            "Epoch 27/30\n",
            "7628/7628 [==============================] - 26s 3ms/step - loss: 0.0284 - acc: 0.9957 - val_loss: 0.0964 - val_acc: 0.9832\n",
            "Epoch 28/30\n",
            "7628/7628 [==============================] - 26s 3ms/step - loss: 0.0283 - acc: 0.9950 - val_loss: 0.1108 - val_acc: 0.9754\n",
            "Epoch 29/30\n",
            "7628/7628 [==============================] - 26s 3ms/step - loss: 0.0279 - acc: 0.9945 - val_loss: 0.0835 - val_acc: 0.9811\n",
            "Epoch 30/30\n",
            "7628/7628 [==============================] - 26s 3ms/step - loss: 0.0227 - acc: 0.9962 - val_loss: 0.1418 - val_acc: 0.9638\n"
          ],
          "name": "stdout"
        }
      ]
    },
    {
      "cell_type": "code",
      "metadata": {
        "id": "KxZsBEiQc4LL",
        "colab_type": "code",
        "outputId": "dd451494-8acf-4e26-d35c-d0548905532b",
        "colab": {
          "base_uri": "https://localhost:8080/",
          "height": 50
        }
      },
      "source": [
        "test_loss, test_acc = FlaNet.evaluate(testImages, testLabels)\n",
        "test_acc"
      ],
      "execution_count": 16,
      "outputs": [
        {
          "output_type": "stream",
          "text": [
            "2384/2384 [==============================] - 2s 1ms/step\n"
          ],
          "name": "stdout"
        },
        {
          "output_type": "execute_result",
          "data": {
            "text/plain": [
              "0.977768456375839"
            ]
          },
          "metadata": {
            "tags": []
          },
          "execution_count": 16
        }
      ]
    },
    {
      "cell_type": "code",
      "metadata": {
        "id": "Wr2zfuUJUjAc",
        "colab_type": "code",
        "outputId": "8c2964bd-be4b-4cd1-d315-7544a5d24936",
        "colab": {
          "base_uri": "https://localhost:8080/",
          "height": 34
        }
      },
      "source": [
        "test_loss"
      ],
      "execution_count": 17,
      "outputs": [
        {
          "output_type": "execute_result",
          "data": {
            "text/plain": [
              "0.13123848126738663"
            ]
          },
          "metadata": {
            "tags": []
          },
          "execution_count": 17
        }
      ]
    },
    {
      "cell_type": "markdown",
      "metadata": {
        "id": "7mHIwC2qs8P9",
        "colab_type": "text"
      },
      "source": [
        "# **Confusion matrix**"
      ]
    },
    {
      "cell_type": "code",
      "metadata": {
        "id": "AjtbTfQaY_sW",
        "colab_type": "code",
        "colab": {}
      },
      "source": [
        "test_predict = FlaNet.predict(testImages)\n",
        "##\n",
        "# binary crossentropy\n",
        "predictLabels = [1 * (test_predict[i]>=0.5) for i in range(len(test_predict))]\n",
        "predictLabels = np.array(predictLabels)\n",
        "\n",
        "# categorical crossentropy\n",
        "#predictLabels = np.array([np.argmax(test_predict[i]) for i in range(len(test_predict))])\n",
        "#testLabels = np.array([np.argmax(testLabels[i]) for i in range(len(test_predict))])"
      ],
      "execution_count": 0,
      "outputs": []
    },
    {
      "cell_type": "code",
      "metadata": {
        "id": "hDskpQnTb4j0",
        "colab_type": "code",
        "outputId": "2499a309-9081-410c-db76-641635cb66c3",
        "colab": {
          "base_uri": "https://localhost:8080/",
          "height": 34
        }
      },
      "source": [
        "predictLabels.shape"
      ],
      "execution_count": 19,
      "outputs": [
        {
          "output_type": "execute_result",
          "data": {
            "text/plain": [
              "(2384, 1)"
            ]
          },
          "metadata": {
            "tags": []
          },
          "execution_count": 19
        }
      ]
    },
    {
      "cell_type": "code",
      "metadata": {
        "id": "tuD6uFWVcA5m",
        "colab_type": "code",
        "outputId": "63563339-5f80-4077-e690-11db3b818a0a",
        "colab": {
          "base_uri": "https://localhost:8080/",
          "height": 34
        }
      },
      "source": [
        "testLabels.shape"
      ],
      "execution_count": 20,
      "outputs": [
        {
          "output_type": "execute_result",
          "data": {
            "text/plain": [
              "(2384,)"
            ]
          },
          "metadata": {
            "tags": []
          },
          "execution_count": 20
        }
      ]
    },
    {
      "cell_type": "code",
      "metadata": {
        "id": "rxyruJbpY3DO",
        "colab_type": "code",
        "outputId": "8e1553bb-6b16-4bfe-e4bd-61ba4c6ef095",
        "colab": {
          "base_uri": "https://localhost:8080/",
          "height": 411
        }
      },
      "source": [
        "import matplotlib.pyplot as plt\n",
        "import seaborn as sns; sns.set()\n",
        "\n",
        "from sklearn.metrics import confusion_matrix\n",
        "\n",
        "mat = confusion_matrix(predictLabels, testLabels)\n",
        "\n",
        "plt.figure(figsize=(8,6))\n",
        "ax=sns.heatmap(mat, square=False, annot=True, fmt=\"d\", cbar=True)\n",
        "\n",
        "# There is a bug in matplotlib 3.1.1 causing truncated heatmap \n",
        "bottom, top = ax.get_ylim()\n",
        "ax.set_ylim(bottom + 0.5, top - 0.5)\n",
        "\n",
        "plt.xlabel('predicted value')\n",
        "plt.ylabel('true value')"
      ],
      "execution_count": 21,
      "outputs": [
        {
          "output_type": "execute_result",
          "data": {
            "text/plain": [
              "Text(48.5, 0.5, 'true value')"
            ]
          },
          "metadata": {
            "tags": []
          },
          "execution_count": 21
        },
        {
          "output_type": "display_data",
          "data": {
            "image/png": "[encoded data removed]",
            "text/plain": [
              "<Figure size 576x432 with 2 Axes>"
            ]
          },
          "metadata": {
            "tags": []
          }
        }
      ]
    },
    {
      "cell_type": "markdown",
      "metadata": {
        "id": "73LSKAucPIcr",
        "colab_type": "text"
      },
      "source": [
        "# **Inspection of overfitting**"
      ]
    },
    {
      "cell_type": "code",
      "metadata": {
        "id": "roGt1QTD9Z4T",
        "colab_type": "code",
        "colab": {}
      },
      "source": [
        "acc = history.history['acc']\n",
        "val_acc = history.history['val_acc']\n",
        "loss = history.history['loss']\n",
        "val_loss = history.history['val_loss']\n",
        "epochs = range(len(acc))"
      ],
      "execution_count": 0,
      "outputs": []
    },
    {
      "cell_type": "code",
      "metadata": {
        "id": "mz6Is2XDO_0X",
        "colab_type": "code",
        "outputId": "cbf0a429-e187-45c4-ccb5-349b1f131e90",
        "colab": {
          "base_uri": "https://localhost:8080/",
          "height": 301
        }
      },
      "source": [
        "plt.figure()\n",
        "\n",
        "plt.plot(epochs, acc, 'r', label='Training acc')\n",
        "plt.plot(epochs, val_acc, 'b', label='Validation acc')\n",
        "\n",
        "plt.title('Training and validation accuracy')\n",
        "plt.xlabel('epochs')\n",
        "plt.ylabel('accuracy')\n",
        "plt.legend()\n",
        "\n",
        "plt.show()"
      ],
      "execution_count": 23,
      "outputs": [
        {
          "output_type": "display_data",
          "data": {
            "image/png": "[encoded data removed]",
            "text/plain": [
              "<Figure size 432x288 with 1 Axes>"
            ]
          },
          "metadata": {
            "tags": []
          }
        }
      ]
    },
    {
      "cell_type": "code",
      "metadata": {
        "id": "Brxz60pyPABz",
        "colab_type": "code",
        "outputId": "a59ab1eb-5768-45b8-a179-a6f0f1960da2",
        "colab": {
          "base_uri": "https://localhost:8080/",
          "height": 301
        }
      },
      "source": [
        "plt.figure()\n",
        "\n",
        "plt.plot(epochs, loss, 'r', label='Training loss')\n",
        "plt.plot(epochs, val_loss, 'b', label='Validation loss')\n",
        "plt.title('Training and validation loss')\n",
        "plt.xlabel('epochs')\n",
        "plt.ylabel('loss')\n",
        "plt.legend()\n",
        "\n",
        "plt.show()"
      ],
      "execution_count": 24,
      "outputs": [
        {
          "output_type": "display_data",
          "data": {
            "image/png": "[encoded data removed]",
            "text/plain": [
              "<Figure size 432x288 with 1 Axes>"
            ]
          },
          "metadata": {
            "tags": []
          }
        }
      ]
    },
    {
      "cell_type": "markdown",
      "metadata": {
        "id": "5sNC3YEc0IUA",
        "colab_type": "text"
      },
      "source": [
        "#**Save trained network & history**"
      ]
    },
    {
      "cell_type": "code",
      "metadata": {
        "id": "qPBgloYAFNih",
        "colab_type": "code",
        "outputId": "14e9884f-0ef6-498f-8f38-ff39c35406bf",
        "colab": {
          "base_uri": "https://localhost:8080/",
          "height": 34
        }
      },
      "source": [
        "cd /content/gdrive/My Drive/Colab Notebooks/FlaNet/trainingDatasets/"
      ],
      "execution_count": 25,
      "outputs": [
        {
          "output_type": "stream",
          "text": [
            "/content/gdrive/My Drive/Colab Notebooks/FlaNet/trainingDatasets\n"
          ],
          "name": "stdout"
        }
      ]
    },
    {
      "cell_type": "code",
      "metadata": {
        "id": "JNrafT520WLT",
        "colab_type": "code",
        "colab": {}
      },
      "source": [
        "# save trained network\n",
        "FlaNet.save('FlaNet.h5') "
      ],
      "execution_count": 0,
      "outputs": []
    },
    {
      "cell_type": "code",
      "metadata": {
        "id": "cVZAqV0SAVqw",
        "colab_type": "code",
        "colab": {}
      },
      "source": [
        "# save history\n",
        "import pandas as pd\n",
        "   \n",
        "FlaNet_df = pd.DataFrame(history.history) \n",
        "\n",
        "with open('FlaNet.csv', mode='w') as f:\n",
        "    FlaNet_df.to_csv(f)"
      ],
      "execution_count": 0,
      "outputs": []
    }
  ]
}