{
  "nbformat": 4,
  "nbformat_minor": 0,
  "metadata": {
    "colab": {
      "name": "FlaNet.ipynb",
      "provenance": [],
      "collapsed_sections": [],
      "include_colab_link": true
    },
    "kernelspec": {
      "name": "python3",
      "display_name": "Python 3"
    },
    "accelerator": "GPU"
  },
  "cells": [
    {
      "cell_type": "markdown",
      "metadata": {
        "id": "view-in-github",
        "colab_type": "text"
      },
      "source": [
        "<a href=\"https://colab.research.google.com/github/xiangyu066/DL-FlaNet/blob/master/FlaNet.ipynb\" target=\"_parent\"><img src=\"https://colab.research.google.com/assets/colab-badge.svg\" alt=\"Open In Colab\"/></a>"
      ]
    },
    {
      "cell_type": "code",
      "metadata": {
        "id": "A1jZejSOyjYM",
        "colab_type": "code",
        "outputId": "64de5adf-f748-4235-af44-e15acfd2e249",
        "colab": {
          "base_uri": "https://localhost:8080/",
          "height": 302
        }
      },
      "source": [
        "!/opt/bin/nvidia-smi"
      ],
      "execution_count": 1,
      "outputs": [
        {
          "output_type": "stream",
          "text": [
            "Wed Nov  6 09:02:44 2019       \n",
            "+-----------------------------------------------------------------------------+\n",
            "| NVIDIA-SMI 418.67       Driver Version: 418.67       CUDA Version: 10.1     |\n",
            "|-------------------------------+----------------------+----------------------+\n",
            "| GPU  Name        Persistence-M| Bus-Id        Disp.A | Volatile Uncorr. ECC |\n",
            "| Fan  Temp  Perf  Pwr:Usage/Cap|         Memory-Usage | GPU-Util  Compute M. |\n",
            "|===============================+======================+======================|\n",
            "|   0  Tesla K80           Off  | 00000000:00:04.0 Off |                    0 |\n",
            "| N/A   73C    P8    34W / 149W |      0MiB / 11441MiB |      0%      Default |\n",
            "+-------------------------------+----------------------+----------------------+\n",
            "                                                                               \n",
            "+-----------------------------------------------------------------------------+\n",
            "| Processes:                                                       GPU Memory |\n",
            "|  GPU       PID   Type   Process name                             Usage      |\n",
            "|=============================================================================|\n",
            "|  No running processes found                                                 |\n",
            "+-----------------------------------------------------------------------------+\n"
          ],
          "name": "stdout"
        }
      ]
    },
    {
      "cell_type": "markdown",
      "metadata": {
        "id": "pwifFB-PYbAa",
        "colab_type": "text"
      },
      "source": [
        "# **Acess to Google drive**"
      ]
    },
    {
      "cell_type": "code",
      "metadata": {
        "id": "e3Pg_IKDcRew",
        "colab_type": "code",
        "outputId": "cd3162cc-780e-4814-e8f9-f6734b59ab5b",
        "colab": {
          "base_uri": "https://localhost:8080/",
          "height": 121
        }
      },
      "source": [
        "from google.colab import drive\n",
        "drive.mount('/content/gdrive')"
      ],
      "execution_count": 2,
      "outputs": [
        {
          "output_type": "stream",
          "text": [
            "Go to this URL in a browser: https://accounts.google.com/o/oauth2/auth?client_id=947318989803-6bn6qk8qdgf4n4g3pfee6491hc0brc4i.apps.googleusercontent.com&redirect_uri=urn%3Aietf%3Awg%3Aoauth%3A2.0%3Aoob&scope=email%20https%3A%2F%2Fwww.googleapis.com%2Fauth%2Fdocs.test%20https%3A%2F%2Fwww.googleapis.com%2Fauth%2Fdrive%20https%3A%2F%2Fwww.googleapis.com%2Fauth%2Fdrive.photos.readonly%20https%3A%2F%2Fwww.googleapis.com%2Fauth%2Fpeopleapi.readonly&response_type=code\n",
            "\n",
            "Enter your authorization code:\n",
            "··········\n",
            "Mounted at /content/gdrive\n"
          ],
          "name": "stdout"
        }
      ]
    },
    {
      "cell_type": "markdown",
      "metadata": {
        "id": "UhgJyT3HYljy",
        "colab_type": "text"
      },
      "source": [
        "# **Importing datasets**"
      ]
    },
    {
      "cell_type": "code",
      "metadata": {
        "id": "vhyae1COdUlw",
        "colab_type": "code",
        "outputId": "f72ebf31-1f39-4a57-d0c9-e2413181fdae",
        "colab": {
          "base_uri": "https://localhost:8080/",
          "height": 34
        }
      },
      "source": [
        "cd /content/gdrive/My Drive/Colab Notebooks/FlaNet/trainingDatasets/trainingImages_npy/"
      ],
      "execution_count": 3,
      "outputs": [
        {
          "output_type": "stream",
          "text": [
            "/content/gdrive/My Drive/Colab Notebooks/FlaNet/trainingDatasets/trainingImages_npy\n"
          ],
          "name": "stdout"
        }
      ]
    },
    {
      "cell_type": "code",
      "metadata": {
        "id": "t73lMF6TWife",
        "colab_type": "code",
        "colab": {}
      },
      "source": [
        "import numpy as np\n",
        "\n",
        "trainingImages = []\n",
        "trainingLabels = []\n",
        "\n",
        "trainingImages_Flagellated = np.load('Flagellated_images.npy')\n",
        "trainingImages = trainingImages_Flagellated\n",
        "trainingLabels_Flagellated = np.load('Flagellated_labels_hot.npy')\n",
        "trainingLabels = trainingLabels_Flagellated\n",
        "\n",
        "trainingImages_nonFlagellated = np.load('nonFlagellated_images.npy')\n",
        "trainingImages = np.append(trainingImages,trainingImages_nonFlagellated,axis=0)\n",
        "trainLabels_nonFlagellated = np.load('nonFlagellated_labels_hot.npy')\n",
        "trainingLabels = np.append(trainingLabels,trainLabels_nonFlagellated,axis=0)\n",
        "\n",
        "#trainingImages = trainingImages.astype('float32') / 255"
      ],
      "execution_count": 0,
      "outputs": []
    },
    {
      "cell_type": "code",
      "metadata": {
        "id": "e_0NAig1X_gn",
        "colab_type": "code",
        "colab": {}
      },
      "source": [
        "# manual shuffle\n",
        "idx = np.random.permutation(len(trainingLabels))\n",
        "trainingLabels=trainingLabels[idx]\n",
        "trainingImages=trainingImages[idx,]"
      ],
      "execution_count": 0,
      "outputs": []
    },
    {
      "cell_type": "code",
      "metadata": {
        "id": "9l1BtNf5kvlG",
        "colab_type": "code",
        "outputId": "74f9fc28-f1ff-456a-94fd-12db6118d8bc",
        "colab": {
          "base_uri": "https://localhost:8080/",
          "height": 34
        }
      },
      "source": [
        "trainingLabels.shape"
      ],
      "execution_count": 6,
      "outputs": [
        {
          "output_type": "execute_result",
          "data": {
            "text/plain": [
              "(9536,)"
            ]
          },
          "metadata": {
            "tags": []
          },
          "execution_count": 6
        }
      ]
    },
    {
      "cell_type": "code",
      "metadata": {
        "id": "ZnZkSsM4lFo5",
        "colab_type": "code",
        "outputId": "35cca75c-36d8-4f81-a0cd-64a99736f314",
        "colab": {
          "base_uri": "https://localhost:8080/",
          "height": 34
        }
      },
      "source": [
        "trainingImages.shape"
      ],
      "execution_count": 7,
      "outputs": [
        {
          "output_type": "execute_result",
          "data": {
            "text/plain": [
              "(9536, 128, 128, 1)"
            ]
          },
          "metadata": {
            "tags": []
          },
          "execution_count": 7
        }
      ]
    },
    {
      "cell_type": "code",
      "metadata": {
        "id": "kzCNLbByXSHH",
        "colab_type": "code",
        "outputId": "588e3d94-4936-4f43-8970-861ce690d4a9",
        "colab": {
          "base_uri": "https://localhost:8080/",
          "height": 34
        }
      },
      "source": [
        "cd /content/gdrive/My Drive/Colab Notebooks/FlaNet/trainingDatasets/testImages_npy/"
      ],
      "execution_count": 8,
      "outputs": [
        {
          "output_type": "stream",
          "text": [
            "/content/gdrive/My Drive/Colab Notebooks/FlaNet/trainingDatasets/testImages_npy\n"
          ],
          "name": "stdout"
        }
      ]
    },
    {
      "cell_type": "code",
      "metadata": {
        "id": "dcw53u5HXVHO",
        "colab_type": "code",
        "colab": {}
      },
      "source": [
        "testImages = []\n",
        "testLabels = []\n",
        "\n",
        "testImages_Flagellated = np.load('Flagellated_images.npy')\n",
        "testImages = testImages_Flagellated\n",
        "testLabels_Flagellated = np.load('Flagellated_labels_hot.npy')\n",
        "testLabels = testLabels_Flagellated\n",
        "\n",
        "testImages_nonFlagellated = np.load('nonFlagellated_images.npy')\n",
        "testImages = np.append(testImages,testImages_nonFlagellated,axis=0)\n",
        "testLabels_nonFlagellated = np.load('nonFlagellated_labels_hot.npy')\n",
        "testLabels = np.append(testLabels,testLabels_nonFlagellated,axis=0)\n",
        "\n",
        "#testImages = testImages.astype('float32') / 255"
      ],
      "execution_count": 0,
      "outputs": []
    },
    {
      "cell_type": "code",
      "metadata": {
        "id": "f3BV7IArln9R",
        "colab_type": "code",
        "outputId": "22cf747c-fd97-42da-e113-d5dc4c1c9255",
        "colab": {
          "base_uri": "https://localhost:8080/",
          "height": 34
        }
      },
      "source": [
        "testLabels.shape"
      ],
      "execution_count": 10,
      "outputs": [
        {
          "output_type": "execute_result",
          "data": {
            "text/plain": [
              "(2384,)"
            ]
          },
          "metadata": {
            "tags": []
          },
          "execution_count": 10
        }
      ]
    },
    {
      "cell_type": "code",
      "metadata": {
        "id": "wD4sW3hMlVgE",
        "colab_type": "code",
        "outputId": "6f70d857-a888-4641-a918-c07d6688f37c",
        "colab": {
          "base_uri": "https://localhost:8080/",
          "height": 34
        }
      },
      "source": [
        "testImages.shape"
      ],
      "execution_count": 11,
      "outputs": [
        {
          "output_type": "execute_result",
          "data": {
            "text/plain": [
              "(2384, 128, 128, 1)"
            ]
          },
          "metadata": {
            "tags": []
          },
          "execution_count": 11
        }
      ]
    },
    {
      "cell_type": "markdown",
      "metadata": {
        "id": "-xNEbbj4YvGd",
        "colab_type": "text"
      },
      "source": [
        "# **Training a neural network**"
      ]
    },
    {
      "cell_type": "code",
      "metadata": {
        "id": "GQ6_wB9vcacT",
        "colab_type": "code",
        "outputId": "7664c1b2-ce3d-4a46-f04f-a8a66f2b4ee2",
        "colab": {
          "base_uri": "https://localhost:8080/",
          "height": 96
        }
      },
      "source": [
        "import keras\n",
        "keras.__version__"
      ],
      "execution_count": 12,
      "outputs": [
        {
          "output_type": "stream",
          "text": [
            "Using TensorFlow backend.\n"
          ],
          "name": "stderr"
        },
        {
          "output_type": "display_data",
          "data": {
            "text/html": [
              "<p style=\"color: red;\">\n",
              "The default version of TensorFlow in Colab will soon switch to TensorFlow 2.x.<br>\n",
              "We recommend you <a href=\"https://www.tensorflow.org/guide/migrate\" target=\"_blank\">upgrade</a> now \n",
              "or ensure your notebook will continue to use TensorFlow 1.x via the <code>%tensorflow_version 1.x</code> magic:\n",
              "<a href=\"https://colab.research.google.com/notebooks/tensorflow_version.ipynb\" target=\"_blank\">more info</a>.</p>\n"
            ],
            "text/plain": [
              "<IPython.core.display.HTML object>"
            ]
          },
          "metadata": {
            "tags": []
          }
        },
        {
          "output_type": "execute_result",
          "data": {
            "text/plain": [
              "'2.2.5'"
            ]
          },
          "metadata": {
            "tags": []
          },
          "execution_count": 12
        }
      ]
    },
    {
      "cell_type": "code",
      "metadata": {
        "id": "QZ2vwc2Wcba0",
        "colab_type": "code",
        "outputId": "a1f07c25-df5c-4b80-b05b-0c09a8488ee2",
        "colab": {
          "base_uri": "https://localhost:8080/",
          "height": 642
        }
      },
      "source": [
        "from keras import layers\n",
        "from keras import models\n",
        "from keras import regularizers\n",
        "\n",
        "FlaNet = models.Sequential()\n",
        "FlaNet.add(layers.Conv2D(64, (5, 5), activation='relu', input_shape=(128, 128, 1), padding='same'))\n",
        "FlaNet.add(layers.MaxPooling2D((3, 3),strides=2))\n",
        "FlaNet.add(layers.Conv2D(128, (5, 5), activation='relu', padding='same'))\n",
        "FlaNet.add(layers.MaxPooling2D((3, 3),strides=2))\n",
        "FlaNet.add(layers.Conv2D(128, (5, 5), activation='relu', padding='same'))\n",
        "FlaNet.add(layers.MaxPooling2D((3, 3),strides=2))\n",
        "FlaNet.add(layers.Flatten())\n",
        "FlaNet.add(layers.Dense(128, kernel_regularizer=regularizers.l2(0.001), activation='relu'))\n",
        "FlaNet.add(layers.Dense(128, kernel_regularizer=regularizers.l2(0.001), activation='relu'))\n",
        "\n",
        "# binary crossentropy\n",
        "FlaNet.add(layers.Dense(1, activation='sigmoid')) \n",
        "\n",
        "# categorical crossentropy\n",
        "#FlaNet.add(layers.Dense(2, activation='softmax')) \n",
        "\n",
        "FlaNet.summary()"
      ],
      "execution_count": 13,
      "outputs": [
        {
          "output_type": "stream",
          "text": [
            "WARNING:tensorflow:From /usr/local/lib/python3.6/dist-packages/keras/backend/tensorflow_backend.py:66: The name tf.get_default_graph is deprecated. Please use tf.compat.v1.get_default_graph instead.\n",
            "\n",
            "WARNING:tensorflow:From /usr/local/lib/python3.6/dist-packages/keras/backend/tensorflow_backend.py:541: The name tf.placeholder is deprecated. Please use tf.compat.v1.placeholder instead.\n",
            "\n",
            "WARNING:tensorflow:From /usr/local/lib/python3.6/dist-packages/keras/backend/tensorflow_backend.py:4432: The name tf.random_uniform is deprecated. Please use tf.random.uniform instead.\n",
            "\n",
            "WARNING:tensorflow:From /usr/local/lib/python3.6/dist-packages/keras/backend/tensorflow_backend.py:4267: The name tf.nn.max_pool is deprecated. Please use tf.nn.max_pool2d instead.\n",
            "\n",
            "Model: \"sequential_1\"\n",
            "_________________________________________________________________\n",
            "Layer (type)                 Output Shape              Param #   \n",
            "=================================================================\n",
            "conv2d_1 (Conv2D)            (None, 128, 128, 64)      1664      \n",
            "_________________________________________________________________\n",
            "max_pooling2d_1 (MaxPooling2 (None, 63, 63, 64)        0         \n",
            "_________________________________________________________________\n",
            "conv2d_2 (Conv2D)            (None, 63, 63, 128)       204928    \n",
            "_________________________________________________________________\n",
            "max_pooling2d_2 (MaxPooling2 (None, 31, 31, 128)       0         \n",
            "_________________________________________________________________\n",
            "conv2d_3 (Conv2D)            (None, 31, 31, 128)       409728    \n",
            "_________________________________________________________________\n",
            "max_pooling2d_3 (MaxPooling2 (None, 15, 15, 128)       0         \n",
            "_________________________________________________________________\n",
            "flatten_1 (Flatten)          (None, 28800)             0         \n",
            "_________________________________________________________________\n",
            "dense_1 (Dense)              (None, 128)               3686528   \n",
            "_________________________________________________________________\n",
            "dense_2 (Dense)              (None, 128)               16512     \n",
            "_________________________________________________________________\n",
            "dense_3 (Dense)              (None, 1)                 129       \n",
            "=================================================================\n",
            "Total params: 4,319,489\n",
            "Trainable params: 4,319,489\n",
            "Non-trainable params: 0\n",
            "_________________________________________________________________\n"
          ],
          "name": "stdout"
        }
      ]
    },
    {
      "cell_type": "code",
      "metadata": {
        "id": "vudplwhEc0wd",
        "colab_type": "code",
        "outputId": "33d47afd-a183-4465-848a-6bc9f534fba1",
        "colab": {
          "base_uri": "https://localhost:8080/",
          "height": 154
        }
      },
      "source": [
        "from keras import optimizers\n",
        "\n",
        "# binary crossentropy\n",
        "FlaNet.compile(optimizer=optimizers.RMSprop(lr=1e-4),\n",
        "              loss='binary_crossentropy',\n",
        "              metrics=['accuracy'])\n",
        "\n",
        "# categorical crossentropy\n",
        "#from keras.utils import to_categorical\n",
        "#trainingLabels = to_categorical(trainingLabels)\n",
        "#testLabels = to_categorical(testLabels)\n",
        "#FlaNet.compile(optimizer=optimizers.RMSprop(lr=1e-5),\n",
        "#              loss='categorical_crossentropy',\n",
        "#              metrics=['accuracy'])"
      ],
      "execution_count": 14,
      "outputs": [
        {
          "output_type": "stream",
          "text": [
            "WARNING:tensorflow:From /usr/local/lib/python3.6/dist-packages/keras/optimizers.py:793: The name tf.train.Optimizer is deprecated. Please use tf.compat.v1.train.Optimizer instead.\n",
            "\n",
            "WARNING:tensorflow:From /usr/local/lib/python3.6/dist-packages/keras/backend/tensorflow_backend.py:3657: The name tf.log is deprecated. Please use tf.math.log instead.\n",
            "\n",
            "WARNING:tensorflow:From /usr/local/lib/python3.6/dist-packages/tensorflow_core/python/ops/nn_impl.py:183: where (from tensorflow.python.ops.array_ops) is deprecated and will be removed in a future version.\n",
            "Instructions for updating:\n",
            "Use tf.where in 2.0, which has the same broadcast rule as np.where\n"
          ],
          "name": "stdout"
        }
      ]
    },
    {
      "cell_type": "code",
      "metadata": {
        "id": "Y94rzG58Lolg",
        "colab_type": "code",
        "outputId": "7bd79f08-d10d-4647-cc28-d3571a81ec7d",
        "colab": {
          "base_uri": "https://localhost:8080/",
          "height": 1000
        }
      },
      "source": [
        "history = FlaNet.fit(trainingImages, trainingLabels, epochs=100, batch_size=16, validation_split=0.2)"
      ],
      "execution_count": 15,
      "outputs": [
        {
          "output_type": "stream",
          "text": [
            "WARNING:tensorflow:From /usr/local/lib/python3.6/dist-packages/keras/backend/tensorflow_backend.py:1033: The name tf.assign_add is deprecated. Please use tf.compat.v1.assign_add instead.\n",
            "\n",
            "WARNING:tensorflow:From /usr/local/lib/python3.6/dist-packages/keras/backend/tensorflow_backend.py:1020: The name tf.assign is deprecated. Please use tf.compat.v1.assign instead.\n",
            "\n",
            "WARNING:tensorflow:From /usr/local/lib/python3.6/dist-packages/keras/backend/tensorflow_backend.py:3005: The name tf.Session is deprecated. Please use tf.compat.v1.Session instead.\n",
            "\n",
            "Train on 7628 samples, validate on 1908 samples\n",
            "Epoch 1/100\n",
            "WARNING:tensorflow:From /usr/local/lib/python3.6/dist-packages/keras/backend/tensorflow_backend.py:190: The name tf.get_default_session is deprecated. Please use tf.compat.v1.get_default_session instead.\n",
            "\n",
            "WARNING:tensorflow:From /usr/local/lib/python3.6/dist-packages/keras/backend/tensorflow_backend.py:197: The name tf.ConfigProto is deprecated. Please use tf.compat.v1.ConfigProto instead.\n",
            "\n",
            "WARNING:tensorflow:From /usr/local/lib/python3.6/dist-packages/keras/backend/tensorflow_backend.py:207: The name tf.global_variables is deprecated. Please use tf.compat.v1.global_variables instead.\n",
            "\n",
            "WARNING:tensorflow:From /usr/local/lib/python3.6/dist-packages/keras/backend/tensorflow_backend.py:216: The name tf.is_variable_initialized is deprecated. Please use tf.compat.v1.is_variable_initialized instead.\n",
            "\n",
            "WARNING:tensorflow:From /usr/local/lib/python3.6/dist-packages/keras/backend/tensorflow_backend.py:223: The name tf.variables_initializer is deprecated. Please use tf.compat.v1.variables_initializer instead.\n",
            "\n",
            "7628/7628 [==============================] - 34s 5ms/step - loss: 5.5463 - acc: 0.5214 - val_loss: 0.4963 - val_acc: 0.8139\n",
            "Epoch 2/100\n",
            "7628/7628 [==============================] - 26s 3ms/step - loss: 0.4177 - acc: 0.8662 - val_loss: 0.2822 - val_acc: 0.9099\n",
            "Epoch 3/100\n",
            "7628/7628 [==============================] - 27s 3ms/step - loss: 0.2409 - acc: 0.9249 - val_loss: 0.1758 - val_acc: 0.9528\n",
            "Epoch 4/100\n",
            "7628/7628 [==============================] - 26s 3ms/step - loss: 0.1735 - acc: 0.9525 - val_loss: 0.1629 - val_acc: 0.9549\n",
            "Epoch 5/100\n",
            "7628/7628 [==============================] - 26s 3ms/step - loss: 0.1428 - acc: 0.9647 - val_loss: 0.1747 - val_acc: 0.9471\n",
            "Epoch 6/100\n",
            "7628/7628 [==============================] - 26s 3ms/step - loss: 0.1219 - acc: 0.9716 - val_loss: 0.1322 - val_acc: 0.9638\n",
            "Epoch 7/100\n",
            "7628/7628 [==============================] - 26s 3ms/step - loss: 0.1105 - acc: 0.9746 - val_loss: 0.1727 - val_acc: 0.9507\n",
            "Epoch 8/100\n",
            "7628/7628 [==============================] - 26s 3ms/step - loss: 0.1069 - acc: 0.9757 - val_loss: 0.1669 - val_acc: 0.9586\n",
            "Epoch 9/100\n",
            "7628/7628 [==============================] - 26s 3ms/step - loss: 0.0935 - acc: 0.9797 - val_loss: 0.1278 - val_acc: 0.9670\n",
            "Epoch 10/100\n",
            "7628/7628 [==============================] - 26s 3ms/step - loss: 0.0854 - acc: 0.9799 - val_loss: 0.1185 - val_acc: 0.9743\n",
            "Epoch 11/100\n",
            "7628/7628 [==============================] - 26s 3ms/step - loss: 0.0806 - acc: 0.9828 - val_loss: 0.1094 - val_acc: 0.9759\n",
            "Epoch 12/100\n",
            "7628/7628 [==============================] - 26s 3ms/step - loss: 0.0700 - acc: 0.9878 - val_loss: 0.0986 - val_acc: 0.9759\n",
            "Epoch 13/100\n",
            "7628/7628 [==============================] - 26s 3ms/step - loss: 0.0690 - acc: 0.9857 - val_loss: 0.1367 - val_acc: 0.9659\n",
            "Epoch 14/100\n",
            "7628/7628 [==============================] - 26s 3ms/step - loss: 0.0667 - acc: 0.9861 - val_loss: 0.1207 - val_acc: 0.9680\n",
            "Epoch 15/100\n",
            "7628/7628 [==============================] - 26s 3ms/step - loss: 0.0625 - acc: 0.9870 - val_loss: 0.1291 - val_acc: 0.9691\n",
            "Epoch 16/100\n",
            "7628/7628 [==============================] - 26s 3ms/step - loss: 0.0610 - acc: 0.9877 - val_loss: 0.0972 - val_acc: 0.9754\n",
            "Epoch 17/100\n",
            "7628/7628 [==============================] - 26s 3ms/step - loss: 0.0483 - acc: 0.9915 - val_loss: 0.0904 - val_acc: 0.9775\n",
            "Epoch 18/100\n",
            "7628/7628 [==============================] - 26s 3ms/step - loss: 0.0509 - acc: 0.9902 - val_loss: 0.1049 - val_acc: 0.9727\n",
            "Epoch 19/100\n",
            "7628/7628 [==============================] - 26s 3ms/step - loss: 0.0441 - acc: 0.9924 - val_loss: 0.1327 - val_acc: 0.9722\n",
            "Epoch 20/100\n",
            "7628/7628 [==============================] - 26s 3ms/step - loss: 0.0430 - acc: 0.9923 - val_loss: 0.0915 - val_acc: 0.9790\n",
            "Epoch 21/100\n",
            "7628/7628 [==============================] - 27s 3ms/step - loss: 0.0376 - acc: 0.9941 - val_loss: 0.1211 - val_acc: 0.9743\n",
            "Epoch 22/100\n",
            "7628/7628 [==============================] - 26s 3ms/step - loss: 0.0392 - acc: 0.9931 - val_loss: 0.0863 - val_acc: 0.9780\n",
            "Epoch 23/100\n",
            "7628/7628 [==============================] - 26s 3ms/step - loss: 0.0382 - acc: 0.9933 - val_loss: 0.1506 - val_acc: 0.9654\n",
            "Epoch 24/100\n",
            "7628/7628 [==============================] - 26s 3ms/step - loss: 0.0332 - acc: 0.9945 - val_loss: 0.1004 - val_acc: 0.9785\n",
            "Epoch 25/100\n",
            "7628/7628 [==============================] - 26s 3ms/step - loss: 0.0355 - acc: 0.9934 - val_loss: 0.0953 - val_acc: 0.9790\n",
            "Epoch 26/100\n",
            "7628/7628 [==============================] - 26s 3ms/step - loss: 0.0357 - acc: 0.9945 - val_loss: 0.1754 - val_acc: 0.9612\n",
            "Epoch 27/100\n",
            "7628/7628 [==============================] - 26s 3ms/step - loss: 0.0287 - acc: 0.9953 - val_loss: 0.1081 - val_acc: 0.9727\n",
            "Epoch 28/100\n",
            "7628/7628 [==============================] - 26s 3ms/step - loss: 0.0302 - acc: 0.9948 - val_loss: 0.1145 - val_acc: 0.9743\n",
            "Epoch 29/100\n",
            "7628/7628 [==============================] - 26s 3ms/step - loss: 0.0280 - acc: 0.9942 - val_loss: 0.1016 - val_acc: 0.9775\n",
            "Epoch 30/100\n",
            "7628/7628 [==============================] - 26s 3ms/step - loss: 0.0293 - acc: 0.9949 - val_loss: 0.0955 - val_acc: 0.9722\n",
            "Epoch 31/100\n",
            "7628/7628 [==============================] - 26s 3ms/step - loss: 0.0255 - acc: 0.9962 - val_loss: 0.1074 - val_acc: 0.9754\n",
            "Epoch 32/100\n",
            "7628/7628 [==============================] - 26s 3ms/step - loss: 0.0266 - acc: 0.9957 - val_loss: 0.0839 - val_acc: 0.9822\n",
            "Epoch 33/100\n",
            "7628/7628 [==============================] - 26s 3ms/step - loss: 0.0292 - acc: 0.9961 - val_loss: 0.0992 - val_acc: 0.9790\n",
            "Epoch 34/100\n",
            "7628/7628 [==============================] - 26s 3ms/step - loss: 0.0245 - acc: 0.9955 - val_loss: 0.1202 - val_acc: 0.9759\n",
            "Epoch 35/100\n",
            "7628/7628 [==============================] - 26s 3ms/step - loss: 0.0257 - acc: 0.9951 - val_loss: 0.1509 - val_acc: 0.9701\n",
            "Epoch 36/100\n",
            "7628/7628 [==============================] - 26s 3ms/step - loss: 0.0309 - acc: 0.9961 - val_loss: 0.0801 - val_acc: 0.9790\n",
            "Epoch 37/100\n",
            "7628/7628 [==============================] - 26s 3ms/step - loss: 0.0189 - acc: 0.9971 - val_loss: 0.0938 - val_acc: 0.9764\n",
            "Epoch 38/100\n",
            "7628/7628 [==============================] - 26s 3ms/step - loss: 0.0199 - acc: 0.9971 - val_loss: 0.1910 - val_acc: 0.9654\n",
            "Epoch 39/100\n",
            "7628/7628 [==============================] - 26s 3ms/step - loss: 0.0221 - acc: 0.9954 - val_loss: 0.1015 - val_acc: 0.9780\n",
            "Epoch 40/100\n",
            "7628/7628 [==============================] - 26s 3ms/step - loss: 0.0184 - acc: 0.9965 - val_loss: 0.1004 - val_acc: 0.9738\n",
            "Epoch 41/100\n",
            "7628/7628 [==============================] - 26s 3ms/step - loss: 0.0209 - acc: 0.9961 - val_loss: 0.1288 - val_acc: 0.9701\n",
            "Epoch 42/100\n",
            "7628/7628 [==============================] - 26s 3ms/step - loss: 0.0218 - acc: 0.9966 - val_loss: 0.0932 - val_acc: 0.9785\n",
            "Epoch 43/100\n",
            "7628/7628 [==============================] - 26s 3ms/step - loss: 0.0183 - acc: 0.9969 - val_loss: 0.1240 - val_acc: 0.9727\n",
            "Epoch 44/100\n",
            "7628/7628 [==============================] - 26s 3ms/step - loss: 0.0196 - acc: 0.9966 - val_loss: 0.1470 - val_acc: 0.9706\n",
            "Epoch 45/100\n",
            "7628/7628 [==============================] - 26s 3ms/step - loss: 0.0145 - acc: 0.9974 - val_loss: 0.2204 - val_acc: 0.9575\n",
            "Epoch 46/100\n",
            "7628/7628 [==============================] - 26s 3ms/step - loss: 0.0175 - acc: 0.9972 - val_loss: 0.1065 - val_acc: 0.9727\n",
            "Epoch 47/100\n",
            "7628/7628 [==============================] - 26s 3ms/step - loss: 0.0153 - acc: 0.9978 - val_loss: 0.0922 - val_acc: 0.9796\n",
            "Epoch 48/100\n",
            "7628/7628 [==============================] - 26s 3ms/step - loss: 0.0155 - acc: 0.9971 - val_loss: 0.1274 - val_acc: 0.9722\n",
            "Epoch 49/100\n",
            "7628/7628 [==============================] - 26s 3ms/step - loss: 0.0161 - acc: 0.9965 - val_loss: 0.1127 - val_acc: 0.9722\n",
            "Epoch 50/100\n",
            "7628/7628 [==============================] - 26s 3ms/step - loss: 0.0169 - acc: 0.9975 - val_loss: 0.1100 - val_acc: 0.9775\n",
            "Epoch 51/100\n",
            "7628/7628 [==============================] - 26s 3ms/step - loss: 0.0128 - acc: 0.9982 - val_loss: 0.1129 - val_acc: 0.9738\n",
            "Epoch 52/100\n",
            "7628/7628 [==============================] - 26s 3ms/step - loss: 0.0111 - acc: 0.9982 - val_loss: 0.0997 - val_acc: 0.9817\n",
            "Epoch 53/100\n",
            "7628/7628 [==============================] - 26s 3ms/step - loss: 0.0168 - acc: 0.9965 - val_loss: 0.1010 - val_acc: 0.9790\n",
            "7628/7628 [==============================] - 26s 3ms/step - loss: 0.0204 - acc: 0.9969 - val_loss: 0.1349 - val_acc: 0.9722\n",
            "Epoch 55/100\n",
            "7628/7628 [==============================] - 26s 3ms/step - loss: 0.0152 - acc: 0.9963 - val_loss: 0.0970 - val_acc: 0.9769\n",
            "Epoch 56/100\n",
            "7628/7628 [==============================] - 26s 3ms/step - loss: 0.0192 - acc: 0.9972 - val_loss: 0.1177 - val_acc: 0.9769\n",
            "Epoch 57/100\n",
            "7628/7628 [==============================] - 26s 3ms/step - loss: 0.0131 - acc: 0.9972 - val_loss: 0.1028 - val_acc: 0.9743\n",
            "Epoch 58/100\n",
            "7628/7628 [==============================] - 26s 3ms/step - loss: 0.0137 - acc: 0.9969 - val_loss: 0.1907 - val_acc: 0.9696\n",
            "Epoch 59/100\n",
            "7628/7628 [==============================] - 26s 3ms/step - loss: 0.0131 - acc: 0.9965 - val_loss: 0.2209 - val_acc: 0.9633\n",
            "Epoch 60/100\n",
            "7628/7628 [==============================] - 26s 3ms/step - loss: 0.0171 - acc: 0.9959 - val_loss: 0.0895 - val_acc: 0.9769\n",
            "Epoch 61/100\n",
            "7628/7628 [==============================] - 26s 3ms/step - loss: 0.0143 - acc: 0.9975 - val_loss: 0.0957 - val_acc: 0.9748\n",
            "Epoch 62/100\n",
            "7628/7628 [==============================] - 26s 3ms/step - loss: 0.0148 - acc: 0.9970 - val_loss: 0.0779 - val_acc: 0.9811\n",
            "Epoch 63/100\n",
            "7628/7628 [==============================] - 26s 3ms/step - loss: 0.0160 - acc: 0.9969 - val_loss: 0.1139 - val_acc: 0.9775\n",
            "Epoch 64/100\n",
            "7628/7628 [==============================] - 26s 3ms/step - loss: 0.0116 - acc: 0.9974 - val_loss: 0.1461 - val_acc: 0.9696\n",
            "Epoch 65/100\n",
            "7628/7628 [==============================] - 26s 3ms/step - loss: 0.0139 - acc: 0.9961 - val_loss: 0.0802 - val_acc: 0.9796\n",
            "Epoch 66/100\n",
            "7628/7628 [==============================] - 26s 3ms/step - loss: 0.0179 - acc: 0.9969 - val_loss: 0.0797 - val_acc: 0.9790\n",
            "Epoch 67/100\n",
            "7628/7628 [==============================] - 26s 3ms/step - loss: 0.0123 - acc: 0.9976 - val_loss: 0.1281 - val_acc: 0.9727\n",
            "Epoch 68/100\n",
            "7628/7628 [==============================] - 26s 3ms/step - loss: 0.0147 - acc: 0.9970 - val_loss: 0.1195 - val_acc: 0.9785\n",
            "Epoch 69/100\n",
            "7628/7628 [==============================] - 26s 3ms/step - loss: 0.0131 - acc: 0.9972 - val_loss: 0.0916 - val_acc: 0.9790\n",
            "Epoch 70/100\n",
            "7628/7628 [==============================] - 26s 3ms/step - loss: 0.0172 - acc: 0.9969 - val_loss: 0.1086 - val_acc: 0.9775\n",
            "Epoch 71/100\n",
            "7628/7628 [==============================] - 26s 3ms/step - loss: 0.0080 - acc: 0.9983 - val_loss: 0.1091 - val_acc: 0.9764\n",
            "Epoch 72/100\n",
            "7628/7628 [==============================] - 26s 3ms/step - loss: 0.0147 - acc: 0.9969 - val_loss: 0.1031 - val_acc: 0.9754\n",
            "Epoch 73/100\n",
            "7628/7628 [==============================] - 26s 3ms/step - loss: 0.0121 - acc: 0.9972 - val_loss: 0.0927 - val_acc: 0.9796\n",
            "Epoch 74/100\n",
            "7628/7628 [==============================] - 26s 3ms/step - loss: 0.0141 - acc: 0.9974 - val_loss: 0.1130 - val_acc: 0.9775\n",
            "Epoch 75/100\n",
            "7628/7628 [==============================] - 26s 3ms/step - loss: 0.0113 - acc: 0.9969 - val_loss: 0.1568 - val_acc: 0.9680\n",
            "Epoch 76/100\n",
            "7628/7628 [==============================] - 26s 3ms/step - loss: 0.0087 - acc: 0.9982 - val_loss: 0.0908 - val_acc: 0.9801\n",
            "Epoch 77/100\n",
            "7628/7628 [==============================] - 26s 3ms/step - loss: 0.0104 - acc: 0.9969 - val_loss: 0.1117 - val_acc: 0.9754\n",
            "Epoch 78/100\n",
            "7628/7628 [==============================] - 26s 3ms/step - loss: 0.0156 - acc: 0.9965 - val_loss: 0.1123 - val_acc: 0.9733\n",
            "Epoch 79/100\n",
            "7628/7628 [==============================] - 26s 3ms/step - loss: 0.0108 - acc: 0.9980 - val_loss: 0.1301 - val_acc: 0.9769\n",
            "Epoch 80/100\n",
            "7628/7628 [==============================] - 27s 3ms/step - loss: 0.0106 - acc: 0.9976 - val_loss: 0.0843 - val_acc: 0.9811\n",
            "Epoch 81/100\n",
            "7628/7628 [==============================] - 26s 3ms/step - loss: 0.0116 - acc: 0.9974 - val_loss: 0.0973 - val_acc: 0.9769\n",
            "Epoch 82/100\n",
            "7628/7628 [==============================] - 26s 3ms/step - loss: 0.0120 - acc: 0.9978 - val_loss: 0.0971 - val_acc: 0.9769\n",
            "Epoch 83/100\n",
            "7628/7628 [==============================] - 26s 3ms/step - loss: 0.0100 - acc: 0.9974 - val_loss: 0.1119 - val_acc: 0.9743\n",
            "Epoch 84/100\n",
            "7628/7628 [==============================] - 26s 3ms/step - loss: 0.0091 - acc: 0.9975 - val_loss: 0.1060 - val_acc: 0.9801\n",
            "Epoch 85/100\n",
            "7628/7628 [==============================] - 27s 3ms/step - loss: 0.0134 - acc: 0.9963 - val_loss: 0.0875 - val_acc: 0.9822\n",
            "Epoch 86/100\n",
            "7628/7628 [==============================] - 26s 3ms/step - loss: 0.0102 - acc: 0.9974 - val_loss: 0.1009 - val_acc: 0.9780\n",
            "Epoch 87/100\n",
            "7628/7628 [==============================] - 26s 3ms/step - loss: 0.0115 - acc: 0.9963 - val_loss: 0.1014 - val_acc: 0.9780\n",
            "Epoch 88/100\n",
            "7628/7628 [==============================] - 26s 3ms/step - loss: 0.0149 - acc: 0.9970 - val_loss: 0.0957 - val_acc: 0.9822\n",
            "Epoch 89/100\n",
            "7628/7628 [==============================] - 26s 3ms/step - loss: 0.0112 - acc: 0.9966 - val_loss: 0.0801 - val_acc: 0.9822\n",
            "Epoch 90/100\n",
            "7628/7628 [==============================] - 26s 3ms/step - loss: 0.0120 - acc: 0.9969 - val_loss: 0.1349 - val_acc: 0.9696\n",
            "Epoch 91/100\n",
            "7628/7628 [==============================] - 26s 3ms/step - loss: 0.0116 - acc: 0.9971 - val_loss: 0.1244 - val_acc: 0.9722\n",
            "Epoch 92/100\n",
            "7628/7628 [==============================] - 26s 3ms/step - loss: 0.0114 - acc: 0.9970 - val_loss: 0.0938 - val_acc: 0.9785\n",
            "Epoch 93/100\n",
            "7628/7628 [==============================] - 26s 3ms/step - loss: 0.0095 - acc: 0.9974 - val_loss: 0.0904 - val_acc: 0.9806\n",
            "Epoch 94/100\n",
            "7628/7628 [==============================] - 26s 3ms/step - loss: 0.0114 - acc: 0.9971 - val_loss: 0.0878 - val_acc: 0.9775\n",
            "Epoch 95/100\n",
            "7628/7628 [==============================] - 26s 3ms/step - loss: 0.0085 - acc: 0.9976 - val_loss: 0.1118 - val_acc: 0.9748\n",
            "Epoch 96/100\n",
            "7628/7628 [==============================] - 26s 3ms/step - loss: 0.0113 - acc: 0.9974 - val_loss: 0.1742 - val_acc: 0.9696\n",
            "Epoch 97/100\n",
            "7628/7628 [==============================] - 26s 3ms/step - loss: 0.0101 - acc: 0.9969 - val_loss: 0.0874 - val_acc: 0.9769\n",
            "Epoch 98/100\n",
            "7628/7628 [==============================] - 26s 3ms/step - loss: 0.0080 - acc: 0.9976 - val_loss: 0.1183 - val_acc: 0.9790\n",
            "Epoch 99/100\n",
            "7628/7628 [==============================] - 26s 3ms/step - loss: 0.0087 - acc: 0.9984 - val_loss: 0.1189 - val_acc: 0.9754\n",
            "Epoch 100/100\n",
            "7628/7628 [==============================] - 26s 3ms/step - loss: 0.0124 - acc: 0.9976 - val_loss: 0.1009 - val_acc: 0.9785\n"
          ],
          "name": "stdout"
        }
      ]
    },
    {
      "cell_type": "code",
      "metadata": {
        "id": "KxZsBEiQc4LL",
        "colab_type": "code",
        "outputId": "7444f657-ae33-4284-fa28-83617d9872cb",
        "colab": {
          "base_uri": "https://localhost:8080/",
          "height": 50
        }
      },
      "source": [
        "test_loss, test_acc = FlaNet.evaluate(testImages, testLabels)\n",
        "test_acc"
      ],
      "execution_count": 16,
      "outputs": [
        {
          "output_type": "stream",
          "text": [
            "2384/2384 [==============================] - 3s 1ms/step\n"
          ],
          "name": "stdout"
        },
        {
          "output_type": "execute_result",
          "data": {
            "text/plain": [
              "0.9907718120805369"
            ]
          },
          "metadata": {
            "tags": []
          },
          "execution_count": 16
        }
      ]
    },
    {
      "cell_type": "code",
      "metadata": {
        "id": "Wr2zfuUJUjAc",
        "colab_type": "code",
        "outputId": "e1a3a5d7-ffc6-47b8-8b34-5cc1365d5cfa",
        "colab": {
          "base_uri": "https://localhost:8080/",
          "height": 34
        }
      },
      "source": [
        "test_loss"
      ],
      "execution_count": 17,
      "outputs": [
        {
          "output_type": "execute_result",
          "data": {
            "text/plain": [
              "0.06341471308186"
            ]
          },
          "metadata": {
            "tags": []
          },
          "execution_count": 17
        }
      ]
    },
    {
      "cell_type": "markdown",
      "metadata": {
        "id": "7mHIwC2qs8P9",
        "colab_type": "text"
      },
      "source": [
        "# **Confusion matrix**"
      ]
    },
    {
      "cell_type": "code",
      "metadata": {
        "id": "AjtbTfQaY_sW",
        "colab_type": "code",
        "colab": {}
      },
      "source": [
        "test_predict = FlaNet.predict(testImages)\n",
        "##\n",
        "# binary crossentropy\n",
        "predictLabels = [1 * (test_predict[i]>=0.5) for i in range(len(test_predict))]\n",
        "predictLabels = np.array(predictLabels)\n",
        "\n",
        "# categorical crossentropy\n",
        "#predictLabels = np.array([np.argmax(test_predict[i]) for i in range(len(test_predict))])\n",
        "#testLabels = np.array([np.argmax(testLabels[i]) for i in range(len(test_predict))])"
      ],
      "execution_count": 0,
      "outputs": []
    },
    {
      "cell_type": "code",
      "metadata": {
        "id": "hDskpQnTb4j0",
        "colab_type": "code",
        "outputId": "7aff6e70-b153-4c1b-a583-1840962e8ba7",
        "colab": {
          "base_uri": "https://localhost:8080/",
          "height": 34
        }
      },
      "source": [
        "predictLabels.shape"
      ],
      "execution_count": 19,
      "outputs": [
        {
          "output_type": "execute_result",
          "data": {
            "text/plain": [
              "(2384, 1)"
            ]
          },
          "metadata": {
            "tags": []
          },
          "execution_count": 19
        }
      ]
    },
    {
      "cell_type": "code",
      "metadata": {
        "id": "tuD6uFWVcA5m",
        "colab_type": "code",
        "outputId": "abf9e592-b841-4056-aea4-2245a42c7f88",
        "colab": {
          "base_uri": "https://localhost:8080/",
          "height": 34
        }
      },
      "source": [
        "testLabels.shape"
      ],
      "execution_count": 20,
      "outputs": [
        {
          "output_type": "execute_result",
          "data": {
            "text/plain": [
              "(2384,)"
            ]
          },
          "metadata": {
            "tags": []
          },
          "execution_count": 20
        }
      ]
    },
    {
      "cell_type": "code",
      "metadata": {
        "id": "rxyruJbpY3DO",
        "colab_type": "code",
        "outputId": "21c48fa6-6412-42db-c360-9de3c5c09aba",
        "colab": {
          "base_uri": "https://localhost:8080/",
          "height": 394
        }
      },
      "source": [
        "import matplotlib.pyplot as plt\n",
        "import seaborn as sns; sns.set()\n",
        "\n",
        "from sklearn.metrics import confusion_matrix\n",
        "\n",
        "mat = confusion_matrix(predictLabels, testLabels)\n",
        "\n",
        "plt.figure(figsize=(8,6))\n",
        "ax=sns.heatmap(mat, square=False, annot=True, fmt=\"d\", cbar=True)\n",
        "\n",
        "# There is a bug in matplotlib 3.1.1 causing truncated heatmap \n",
        "bottom, top = ax.get_ylim()\n",
        "ax.set_ylim(bottom + 0.5, top - 0.5)\n",
        "\n",
        "plt.xlabel('predicted value')\n",
        "plt.ylabel('true value')\n",
        "\n",
        "plt.show()"
      ],
      "execution_count": 21,
      "outputs": [
        {
          "output_type": "display_data",
          "data": {
            "image/png": "[encoded data removed]",
            "text/plain": [
              "<Figure size 576x432 with 2 Axes>"
            ]
          },
          "metadata": {
            "tags": []
          }
        }
      ]
    },
    {
      "cell_type": "markdown",
      "metadata": {
        "id": "73LSKAucPIcr",
        "colab_type": "text"
      },
      "source": [
        "# **Inspection of overfitting**"
      ]
    },
    {
      "cell_type": "code",
      "metadata": {
        "id": "roGt1QTD9Z4T",
        "colab_type": "code",
        "colab": {}
      },
      "source": [
        "acc = history.history['acc']\n",
        "val_acc = history.history['val_acc']\n",
        "loss = history.history['loss']\n",
        "val_loss = history.history['val_loss']\n",
        "epochs = range(len(acc))"
      ],
      "execution_count": 0,
      "outputs": []
    },
    {
      "cell_type": "code",
      "metadata": {
        "id": "mz6Is2XDO_0X",
        "colab_type": "code",
        "outputId": "f54ca8a2-00bb-4256-a2a6-2a238522a924",
        "colab": {
          "base_uri": "https://localhost:8080/",
          "height": 301
        }
      },
      "source": [
        "plt.figure()\n",
        "\n",
        "plt.plot(epochs, acc, 'r', label='Training acc')\n",
        "plt.plot(epochs, val_acc, 'b', label='Validation acc')\n",
        "\n",
        "plt.title('Training and validation accuracy')\n",
        "plt.xlabel('epochs')\n",
        "plt.ylabel('accuracy')\n",
        "plt.legend()\n",
        "\n",
        "plt.show()"
      ],
      "execution_count": 23,
      "outputs": [
        {
          "output_type": "display_data",
          "data": {
            "image/png": "[encoded data removed]",
            "text/plain": [
              "<Figure size 432x288 with 1 Axes>"
            ]
          },
          "metadata": {
            "tags": []
          }
        }
      ]
    },
    {
      "cell_type": "code",
      "metadata": {
        "id": "Brxz60pyPABz",
        "colab_type": "code",
        "outputId": "92094b6d-1b94-48b2-fb71-89dc7c3b7f2d",
        "colab": {
          "base_uri": "https://localhost:8080/",
          "height": 301
        }
      },
      "source": [
        "plt.figure()\n",
        "\n",
        "plt.plot(epochs, loss, 'r', label='Training loss')\n",
        "plt.plot(epochs, val_loss, 'b', label='Validation loss')\n",
        "plt.title('Training and validation loss')\n",
        "plt.xlabel('epochs')\n",
        "plt.ylabel('loss')\n",
        "plt.legend()\n",
        "\n",
        "plt.show()"
      ],
      "execution_count": 24,
      "outputs": [
        {
          "output_type": "display_data",
          "data": {
            "image/png": "[encoded data removed]",
            "text/plain": [
              "<Figure size 432x288 with 1 Axes>"
            ]
          },
          "metadata": {
            "tags": []
          }
        }
      ]
    },
    {
      "cell_type": "markdown",
      "metadata": {
        "id": "5sNC3YEc0IUA",
        "colab_type": "text"
      },
      "source": [
        "#**Save trained network & history**"
      ]
    },
    {
      "cell_type": "code",
      "metadata": {
        "id": "qPBgloYAFNih",
        "colab_type": "code",
        "outputId": "767516fa-e1bd-47bd-db46-35fb632808ea",
        "colab": {
          "base_uri": "https://localhost:8080/",
          "height": 34
        }
      },
      "source": [
        "cd /content/gdrive/My Drive/Colab Notebooks/FlaNet/trainingDatasets/"
      ],
      "execution_count": 25,
      "outputs": [
        {
          "output_type": "stream",
          "text": [
            "/content/gdrive/My Drive/Colab Notebooks/FlaNet/trainingDatasets\n"
          ],
          "name": "stdout"
        }
      ]
    },
    {
      "cell_type": "code",
      "metadata": {
        "id": "JNrafT520WLT",
        "colab_type": "code",
        "colab": {}
      },
      "source": [
        "# save trained network\n",
        "FlaNet.save('FlaNet.h5') "
      ],
      "execution_count": 0,
      "outputs": []
    },
    {
      "cell_type": "code",
      "metadata": {
        "id": "cVZAqV0SAVqw",
        "colab_type": "code",
        "colab": {}
      },
      "source": [
        "# save history\n",
        "import pandas as pd\n",
        "   \n",
        "FlaNet_df = pd.DataFrame(history.history) \n",
        "\n",
        "with open('FlaNet.csv', mode='w') as f:\n",
        "    FlaNet_df.to_csv(f)"
      ],
      "execution_count": 0,
      "outputs": []
    }
  ]
}