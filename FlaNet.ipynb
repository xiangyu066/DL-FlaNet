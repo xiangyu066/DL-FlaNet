{
  "nbformat": 4,
  "nbformat_minor": 0,
  "metadata": {
    "colab": {
      "name": "FlaNet.ipynb",
      "provenance": [],
      "collapsed_sections": [],
      "include_colab_link": true
    },
    "kernelspec": {
      "name": "python3",
      "display_name": "Python 3"
    },
    "accelerator": "GPU"
  },
  "cells": [
    {
      "cell_type": "markdown",
      "metadata": {
        "id": "view-in-github",
        "colab_type": "text"
      },
      "source": [
        "<a href=\"https://colab.research.google.com/github/xiangyu066/DL-FlaNet/blob/master/FlaNet.ipynb\" target=\"_parent\"><img src=\"https://colab.research.google.com/assets/colab-badge.svg\" alt=\"Open In Colab\"/></a>"
      ]
    },
    {
      "cell_type": "code",
      "metadata": {
        "id": "A1jZejSOyjYM",
        "colab_type": "code",
        "outputId": "5c07e26d-2d6f-41ed-b444-833f000385df",
        "colab": {
          "base_uri": "https://localhost:8080/",
          "height": 302
        }
      },
      "source": [
        "!/opt/bin/nvidia-smi"
      ],
      "execution_count": 1,
      "outputs": [
        {
          "output_type": "stream",
          "text": [
            "Wed Nov  6 04:46:42 2019       \n",
            "+-----------------------------------------------------------------------------+\n",
            "| NVIDIA-SMI 418.67       Driver Version: 418.67       CUDA Version: 10.1     |\n",
            "|-------------------------------+----------------------+----------------------+\n",
            "| GPU  Name        Persistence-M| Bus-Id        Disp.A | Volatile Uncorr. ECC |\n",
            "| Fan  Temp  Perf  Pwr:Usage/Cap|         Memory-Usage | GPU-Util  Compute M. |\n",
            "|===============================+======================+======================|\n",
            "|   0  Tesla K80           Off  | 00000000:00:04.0 Off |                    0 |\n",
            "| N/A   36C    P8    28W / 149W |      0MiB / 11441MiB |      0%      Default |\n",
            "+-------------------------------+----------------------+----------------------+\n",
            "                                                                               \n",
            "+-----------------------------------------------------------------------------+\n",
            "| Processes:                                                       GPU Memory |\n",
            "|  GPU       PID   Type   Process name                             Usage      |\n",
            "|=============================================================================|\n",
            "|  No running processes found                                                 |\n",
            "+-----------------------------------------------------------------------------+\n"
          ],
          "name": "stdout"
        }
      ]
    },
    {
      "cell_type": "markdown",
      "metadata": {
        "id": "pwifFB-PYbAa",
        "colab_type": "text"
      },
      "source": [
        "# **Acess to Google drive**"
      ]
    },
    {
      "cell_type": "code",
      "metadata": {
        "id": "e3Pg_IKDcRew",
        "colab_type": "code",
        "outputId": "d1ed9c07-8c27-43fd-a314-0853958e908c",
        "colab": {
          "base_uri": "https://localhost:8080/",
          "height": 121
        }
      },
      "source": [
        "from google.colab import drive\n",
        "drive.mount('/content/gdrive')"
      ],
      "execution_count": 2,
      "outputs": [
        {
          "output_type": "stream",
          "text": [
            "Go to this URL in a browser: https://accounts.google.com/o/oauth2/auth?client_id=947318989803-6bn6qk8qdgf4n4g3pfee6491hc0brc4i.apps.googleusercontent.com&redirect_uri=urn%3Aietf%3Awg%3Aoauth%3A2.0%3Aoob&scope=email%20https%3A%2F%2Fwww.googleapis.com%2Fauth%2Fdocs.test%20https%3A%2F%2Fwww.googleapis.com%2Fauth%2Fdrive%20https%3A%2F%2Fwww.googleapis.com%2Fauth%2Fdrive.photos.readonly%20https%3A%2F%2Fwww.googleapis.com%2Fauth%2Fpeopleapi.readonly&response_type=code\n",
            "\n",
            "Enter your authorization code:\n",
            "··········\n",
            "Mounted at /content/gdrive\n"
          ],
          "name": "stdout"
        }
      ]
    },
    {
      "cell_type": "markdown",
      "metadata": {
        "id": "UhgJyT3HYljy",
        "colab_type": "text"
      },
      "source": [
        "# **Importing datasets**"
      ]
    },
    {
      "cell_type": "code",
      "metadata": {
        "id": "vhyae1COdUlw",
        "colab_type": "code",
        "outputId": "6d2e8bf1-50cf-4017-edd6-2aa86c8f3c54",
        "colab": {
          "base_uri": "https://localhost:8080/",
          "height": 34
        }
      },
      "source": [
        "cd /content/gdrive/My Drive/Colab Notebooks/FlaNet/trainingDatasets/trainingImages_npy/"
      ],
      "execution_count": 3,
      "outputs": [
        {
          "output_type": "stream",
          "text": [
            "/content/gdrive/My Drive/Colab Notebooks/FlaNet/trainingDatasets/trainingImages_npy\n"
          ],
          "name": "stdout"
        }
      ]
    },
    {
      "cell_type": "code",
      "metadata": {
        "id": "t73lMF6TWife",
        "colab_type": "code",
        "colab": {}
      },
      "source": [
        "import numpy as np\n",
        "\n",
        "trainingImages = []\n",
        "trainingLabels = []\n",
        "\n",
        "trainingImages_Flagellated = np.load('Flagellated_images.npy')\n",
        "trainingImages = trainingImages_Flagellated\n",
        "trainingLabels_Flagellated = np.load('Flagellated_labels_hot.npy')\n",
        "trainingLabels = trainingLabels_Flagellated\n",
        "\n",
        "trainingImages_nonFlagellated = np.load('nonFlagellated_images.npy')\n",
        "trainingImages = np.append(trainingImages,trainingImages_nonFlagellated,axis=0)\n",
        "trainLabels_nonFlagellated = np.load('nonFlagellated_labels_hot.npy')\n",
        "trainingLabels = np.append(trainingLabels,trainLabels_nonFlagellated,axis=0)\n",
        "\n",
        "#trainingImages = trainingImages.astype('float32') / 255"
      ],
      "execution_count": 0,
      "outputs": []
    },
    {
      "cell_type": "code",
      "metadata": {
        "id": "e_0NAig1X_gn",
        "colab_type": "code",
        "colab": {}
      },
      "source": [
        "# manual shuffle\n",
        "idx = np.random.permutation(len(trainingLabels))\n",
        "trainingLabels=trainingLabels[idx]\n",
        "trainingImages=trainingImages[idx,]"
      ],
      "execution_count": 0,
      "outputs": []
    },
    {
      "cell_type": "code",
      "metadata": {
        "id": "9l1BtNf5kvlG",
        "colab_type": "code",
        "outputId": "dffc0024-9a1c-432a-ddd2-1dad71a1df93",
        "colab": {
          "base_uri": "https://localhost:8080/",
          "height": 34
        }
      },
      "source": [
        "trainingLabels.shape"
      ],
      "execution_count": 6,
      "outputs": [
        {
          "output_type": "execute_result",
          "data": {
            "text/plain": [
              "(9536,)"
            ]
          },
          "metadata": {
            "tags": []
          },
          "execution_count": 6
        }
      ]
    },
    {
      "cell_type": "code",
      "metadata": {
        "id": "ZnZkSsM4lFo5",
        "colab_type": "code",
        "outputId": "79f3718e-ef38-4efa-d89b-bc82d3421932",
        "colab": {
          "base_uri": "https://localhost:8080/",
          "height": 34
        }
      },
      "source": [
        "trainingImages.shape"
      ],
      "execution_count": 7,
      "outputs": [
        {
          "output_type": "execute_result",
          "data": {
            "text/plain": [
              "(9536, 128, 128, 1)"
            ]
          },
          "metadata": {
            "tags": []
          },
          "execution_count": 7
        }
      ]
    },
    {
      "cell_type": "code",
      "metadata": {
        "id": "kzCNLbByXSHH",
        "colab_type": "code",
        "outputId": "bd143898-7049-44c5-ea09-64e225e8c0e1",
        "colab": {
          "base_uri": "https://localhost:8080/",
          "height": 34
        }
      },
      "source": [
        "cd /content/gdrive/My Drive/Colab Notebooks/FlaNet/trainingDatasets/testImages_npy/"
      ],
      "execution_count": 8,
      "outputs": [
        {
          "output_type": "stream",
          "text": [
            "/content/gdrive/My Drive/Colab Notebooks/FlaNet/trainingDatasets/testImages_npy\n"
          ],
          "name": "stdout"
        }
      ]
    },
    {
      "cell_type": "code",
      "metadata": {
        "id": "dcw53u5HXVHO",
        "colab_type": "code",
        "colab": {}
      },
      "source": [
        "testImages = []\n",
        "testLabels = []\n",
        "\n",
        "testImages_Flagellated = np.load('Flagellated_images.npy')\n",
        "testImages = testImages_Flagellated\n",
        "testLabels_Flagellated = np.load('Flagellated_labels_hot.npy')\n",
        "testLabels = testLabels_Flagellated\n",
        "\n",
        "testImages_nonFlagellated = np.load('nonFlagellated_images.npy')\n",
        "testImages = np.append(testImages,testImages_nonFlagellated,axis=0)\n",
        "testLabels_nonFlagellated = np.load('nonFlagellated_labels_hot.npy')\n",
        "testLabels = np.append(testLabels,testLabels_nonFlagellated,axis=0)\n",
        "\n",
        "#testImages = testImages.astype('float32') / 255"
      ],
      "execution_count": 0,
      "outputs": []
    },
    {
      "cell_type": "code",
      "metadata": {
        "id": "f3BV7IArln9R",
        "colab_type": "code",
        "outputId": "5299a861-82bb-441f-9fc9-e2960d9c20a6",
        "colab": {
          "base_uri": "https://localhost:8080/",
          "height": 34
        }
      },
      "source": [
        "testLabels.shape"
      ],
      "execution_count": 10,
      "outputs": [
        {
          "output_type": "execute_result",
          "data": {
            "text/plain": [
              "(2384,)"
            ]
          },
          "metadata": {
            "tags": []
          },
          "execution_count": 10
        }
      ]
    },
    {
      "cell_type": "code",
      "metadata": {
        "id": "wD4sW3hMlVgE",
        "colab_type": "code",
        "outputId": "d33f331c-d518-4f76-d02d-2acde17af831",
        "colab": {
          "base_uri": "https://localhost:8080/",
          "height": 34
        }
      },
      "source": [
        "testImages.shape"
      ],
      "execution_count": 11,
      "outputs": [
        {
          "output_type": "execute_result",
          "data": {
            "text/plain": [
              "(2384, 128, 128, 1)"
            ]
          },
          "metadata": {
            "tags": []
          },
          "execution_count": 11
        }
      ]
    },
    {
      "cell_type": "markdown",
      "metadata": {
        "id": "-xNEbbj4YvGd",
        "colab_type": "text"
      },
      "source": [
        "# **Training a neural network**"
      ]
    },
    {
      "cell_type": "code",
      "metadata": {
        "id": "GQ6_wB9vcacT",
        "colab_type": "code",
        "outputId": "a52c255a-40e7-43a8-f787-5ba12b856858",
        "colab": {
          "base_uri": "https://localhost:8080/",
          "height": 96
        }
      },
      "source": [
        "import keras\n",
        "keras.__version__"
      ],
      "execution_count": 12,
      "outputs": [
        {
          "output_type": "stream",
          "text": [
            "Using TensorFlow backend.\n"
          ],
          "name": "stderr"
        },
        {
          "output_type": "display_data",
          "data": {
            "text/html": [
              "<p style=\"color: red;\">\n",
              "The default version of TensorFlow in Colab will soon switch to TensorFlow 2.x.<br>\n",
              "We recommend you <a href=\"https://www.tensorflow.org/guide/migrate\" target=\"_blank\">upgrade</a> now \n",
              "or ensure your notebook will continue to use TensorFlow 1.x via the <code>%tensorflow_version 1.x</code> magic:\n",
              "<a href=\"https://colab.research.google.com/notebooks/tensorflow_version.ipynb\" target=\"_blank\">more info</a>.</p>\n"
            ],
            "text/plain": [
              "<IPython.core.display.HTML object>"
            ]
          },
          "metadata": {
            "tags": []
          }
        },
        {
          "output_type": "execute_result",
          "data": {
            "text/plain": [
              "'2.2.5'"
            ]
          },
          "metadata": {
            "tags": []
          },
          "execution_count": 12
        }
      ]
    },
    {
      "cell_type": "code",
      "metadata": {
        "id": "QZ2vwc2Wcba0",
        "colab_type": "code",
        "outputId": "6a4d869a-9740-45bc-b6da-4299c1585e01",
        "colab": {
          "base_uri": "https://localhost:8080/",
          "height": 642
        }
      },
      "source": [
        "from keras import layers\n",
        "from keras import models\n",
        "from keras import regularizers\n",
        "\n",
        "FlaNet = models.Sequential()\n",
        "FlaNet.add(layers.Conv2D(64, (5, 5), activation='relu', input_shape=(128, 128, 1), padding='same'))\n",
        "FlaNet.add(layers.MaxPooling2D((3, 3),strides=2))\n",
        "FlaNet.add(layers.Conv2D(128, (5, 5), activation='relu', padding='same'))\n",
        "FlaNet.add(layers.MaxPooling2D((3, 3),strides=2))\n",
        "FlaNet.add(layers.Conv2D(128, (5, 5), activation='relu', padding='same'))\n",
        "FlaNet.add(layers.MaxPooling2D((3, 3),strides=2))\n",
        "FlaNet.add(layers.Flatten())\n",
        "FlaNet.add(layers.Dense(128, kernel_regularizer=regularizers.l2(0.001), activation='relu'))\n",
        "FlaNet.add(layers.Dense(128, kernel_regularizer=regularizers.l2(0.001), activation='relu'))\n",
        "\n",
        "# binary crossentropy\n",
        "FlaNet.add(layers.Dense(1, activation='sigmoid')) \n",
        "\n",
        "# categorical crossentropy\n",
        "#FlaNet.add(layers.Dense(2, activation='softmax')) \n",
        "\n",
        "FlaNet.summary()"
      ],
      "execution_count": 13,
      "outputs": [
        {
          "output_type": "stream",
          "text": [
            "WARNING:tensorflow:From /usr/local/lib/python3.6/dist-packages/keras/backend/tensorflow_backend.py:66: The name tf.get_default_graph is deprecated. Please use tf.compat.v1.get_default_graph instead.\n",
            "\n",
            "WARNING:tensorflow:From /usr/local/lib/python3.6/dist-packages/keras/backend/tensorflow_backend.py:541: The name tf.placeholder is deprecated. Please use tf.compat.v1.placeholder instead.\n",
            "\n",
            "WARNING:tensorflow:From /usr/local/lib/python3.6/dist-packages/keras/backend/tensorflow_backend.py:4432: The name tf.random_uniform is deprecated. Please use tf.random.uniform instead.\n",
            "\n",
            "WARNING:tensorflow:From /usr/local/lib/python3.6/dist-packages/keras/backend/tensorflow_backend.py:4267: The name tf.nn.max_pool is deprecated. Please use tf.nn.max_pool2d instead.\n",
            "\n",
            "Model: \"sequential_1\"\n",
            "_________________________________________________________________\n",
            "Layer (type)                 Output Shape              Param #   \n",
            "=================================================================\n",
            "conv2d_1 (Conv2D)            (None, 128, 128, 64)      1664      \n",
            "_________________________________________________________________\n",
            "max_pooling2d_1 (MaxPooling2 (None, 63, 63, 64)        0         \n",
            "_________________________________________________________________\n",
            "conv2d_2 (Conv2D)            (None, 63, 63, 128)       204928    \n",
            "_________________________________________________________________\n",
            "max_pooling2d_2 (MaxPooling2 (None, 31, 31, 128)       0         \n",
            "_________________________________________________________________\n",
            "conv2d_3 (Conv2D)            (None, 31, 31, 128)       409728    \n",
            "_________________________________________________________________\n",
            "max_pooling2d_3 (MaxPooling2 (None, 15, 15, 128)       0         \n",
            "_________________________________________________________________\n",
            "flatten_1 (Flatten)          (None, 28800)             0         \n",
            "_________________________________________________________________\n",
            "dense_1 (Dense)              (None, 128)               3686528   \n",
            "_________________________________________________________________\n",
            "dense_2 (Dense)              (None, 128)               16512     \n",
            "_________________________________________________________________\n",
            "dense_3 (Dense)              (None, 1)                 129       \n",
            "=================================================================\n",
            "Total params: 4,319,489\n",
            "Trainable params: 4,319,489\n",
            "Non-trainable params: 0\n",
            "_________________________________________________________________\n"
          ],
          "name": "stdout"
        }
      ]
    },
    {
      "cell_type": "code",
      "metadata": {
        "id": "vudplwhEc0wd",
        "colab_type": "code",
        "outputId": "5d92bb85-c6fe-4054-abbf-3a629c8f4a91",
        "colab": {
          "base_uri": "https://localhost:8080/",
          "height": 154
        }
      },
      "source": [
        "from keras import optimizers\n",
        "\n",
        "# binary crossentropy\n",
        "FlaNet.compile(optimizer=optimizers.RMSprop(lr=1e-4),\n",
        "              loss='binary_crossentropy',\n",
        "              metrics=['accuracy'])\n",
        "\n",
        "# categorical crossentropy\n",
        "#from keras.utils import to_categorical\n",
        "#trainingLabels = to_categorical(trainingLabels)\n",
        "#testLabels = to_categorical(testLabels)\n",
        "#FlaNet.compile(optimizer=optimizers.RMSprop(lr=1e-5),\n",
        "#              loss='categorical_crossentropy',\n",
        "#              metrics=['accuracy'])"
      ],
      "execution_count": 14,
      "outputs": [
        {
          "output_type": "stream",
          "text": [
            "WARNING:tensorflow:From /usr/local/lib/python3.6/dist-packages/keras/optimizers.py:793: The name tf.train.Optimizer is deprecated. Please use tf.compat.v1.train.Optimizer instead.\n",
            "\n",
            "WARNING:tensorflow:From /usr/local/lib/python3.6/dist-packages/keras/backend/tensorflow_backend.py:3657: The name tf.log is deprecated. Please use tf.math.log instead.\n",
            "\n",
            "WARNING:tensorflow:From /usr/local/lib/python3.6/dist-packages/tensorflow_core/python/ops/nn_impl.py:183: where (from tensorflow.python.ops.array_ops) is deprecated and will be removed in a future version.\n",
            "Instructions for updating:\n",
            "Use tf.where in 2.0, which has the same broadcast rule as np.where\n"
          ],
          "name": "stdout"
        }
      ]
    },
    {
      "cell_type": "code",
      "metadata": {
        "id": "Y94rzG58Lolg",
        "colab_type": "code",
        "outputId": "28e95860-f51f-47af-8ff6-b9daa4e66d35",
        "colab": {
          "base_uri": "https://localhost:8080/",
          "height": 1000
        }
      },
      "source": [
        "history = FlaNet.fit(trainingImages, trainingLabels, epochs=100, batch_size=128, validation_split=0.2)"
      ],
      "execution_count": 15,
      "outputs": [
        {
          "output_type": "stream",
          "text": [
            "WARNING:tensorflow:From /usr/local/lib/python3.6/dist-packages/keras/backend/tensorflow_backend.py:1033: The name tf.assign_add is deprecated. Please use tf.compat.v1.assign_add instead.\n",
            "\n",
            "WARNING:tensorflow:From /usr/local/lib/python3.6/dist-packages/keras/backend/tensorflow_backend.py:1020: The name tf.assign is deprecated. Please use tf.compat.v1.assign instead.\n",
            "\n",
            "WARNING:tensorflow:From /usr/local/lib/python3.6/dist-packages/keras/backend/tensorflow_backend.py:3005: The name tf.Session is deprecated. Please use tf.compat.v1.Session instead.\n",
            "\n",
            "Train on 7628 samples, validate on 1908 samples\n",
            "Epoch 1/100\n",
            "WARNING:tensorflow:From /usr/local/lib/python3.6/dist-packages/keras/backend/tensorflow_backend.py:190: The name tf.get_default_session is deprecated. Please use tf.compat.v1.get_default_session instead.\n",
            "\n",
            "WARNING:tensorflow:From /usr/local/lib/python3.6/dist-packages/keras/backend/tensorflow_backend.py:197: The name tf.ConfigProto is deprecated. Please use tf.compat.v1.ConfigProto instead.\n",
            "\n",
            "WARNING:tensorflow:From /usr/local/lib/python3.6/dist-packages/keras/backend/tensorflow_backend.py:207: The name tf.global_variables is deprecated. Please use tf.compat.v1.global_variables instead.\n",
            "\n",
            "WARNING:tensorflow:From /usr/local/lib/python3.6/dist-packages/keras/backend/tensorflow_backend.py:216: The name tf.is_variable_initialized is deprecated. Please use tf.compat.v1.is_variable_initialized instead.\n",
            "\n",
            "WARNING:tensorflow:From /usr/local/lib/python3.6/dist-packages/keras/backend/tensorflow_backend.py:223: The name tf.variables_initializer is deprecated. Please use tf.compat.v1.variables_initializer instead.\n",
            "\n",
            "7628/7628 [==============================] - 31s 4ms/step - loss: 5.8923 - acc: 0.6426 - val_loss: 5.9592 - val_acc: 0.6426\n",
            "Epoch 2/100\n",
            "7628/7628 [==============================] - 18s 2ms/step - loss: 5.8693 - acc: 0.6460 - val_loss: 5.8901 - val_acc: 0.6426\n",
            "Epoch 3/100\n",
            "7628/7628 [==============================] - 18s 2ms/step - loss: 5.8008 - acc: 0.6460 - val_loss: 5.8226 - val_acc: 0.6426\n",
            "Epoch 4/100\n",
            "7628/7628 [==============================] - 18s 2ms/step - loss: 5.7456 - acc: 0.6460 - val_loss: 5.7845 - val_acc: 0.6426\n",
            "Epoch 5/100\n",
            "7628/7628 [==============================] - 19s 2ms/step - loss: 1.0381 - acc: 0.6542 - val_loss: 0.6301 - val_acc: 0.7495\n",
            "Epoch 6/100\n",
            "7628/7628 [==============================] - 19s 2ms/step - loss: 0.6151 - acc: 0.7461 - val_loss: 0.4639 - val_acc: 0.8181\n",
            "Epoch 7/100\n",
            "7628/7628 [==============================] - 19s 2ms/step - loss: 0.4726 - acc: 0.8406 - val_loss: 0.3941 - val_acc: 0.8711\n",
            "Epoch 8/100\n",
            "7628/7628 [==============================] - 19s 2ms/step - loss: 0.3850 - acc: 0.8701 - val_loss: 0.2933 - val_acc: 0.9119\n",
            "Epoch 9/100\n",
            "7628/7628 [==============================] - 19s 2ms/step - loss: 0.3233 - acc: 0.9029 - val_loss: 0.3433 - val_acc: 0.8816\n",
            "Epoch 10/100\n",
            "7628/7628 [==============================] - 19s 2ms/step - loss: 0.2594 - acc: 0.9195 - val_loss: 1.8346 - val_acc: 0.6426\n",
            "Epoch 11/100\n",
            "7628/7628 [==============================] - 19s 2ms/step - loss: 0.2360 - acc: 0.9396 - val_loss: 0.3107 - val_acc: 0.9114\n",
            "Epoch 12/100\n",
            "7628/7628 [==============================] - 19s 2ms/step - loss: 0.1833 - acc: 0.9524 - val_loss: 0.2099 - val_acc: 0.9481\n",
            "Epoch 13/100\n",
            "7628/7628 [==============================] - 19s 2ms/step - loss: 0.1679 - acc: 0.9595 - val_loss: 0.2277 - val_acc: 0.9486\n",
            "Epoch 14/100\n",
            "7628/7628 [==============================] - 19s 2ms/step - loss: 0.1331 - acc: 0.9706 - val_loss: 0.1831 - val_acc: 0.9607\n",
            "Epoch 15/100\n",
            "7628/7628 [==============================] - 19s 2ms/step - loss: 0.1965 - acc: 0.9723 - val_loss: 0.2351 - val_acc: 0.9423\n",
            "Epoch 16/100\n",
            "7628/7628 [==============================] - 19s 2ms/step - loss: 0.1169 - acc: 0.9756 - val_loss: 0.2035 - val_acc: 0.9549\n",
            "Epoch 17/100\n",
            "7628/7628 [==============================] - 19s 2ms/step - loss: 0.1123 - acc: 0.9799 - val_loss: 0.2839 - val_acc: 0.9319\n",
            "Epoch 18/100\n",
            "7628/7628 [==============================] - 19s 2ms/step - loss: 0.0948 - acc: 0.9831 - val_loss: 0.1853 - val_acc: 0.9575\n",
            "Epoch 19/100\n",
            "7628/7628 [==============================] - 19s 2ms/step - loss: 0.0884 - acc: 0.9868 - val_loss: 0.2649 - val_acc: 0.9450\n",
            "Epoch 20/100\n",
            "7628/7628 [==============================] - 19s 2ms/step - loss: 0.0948 - acc: 0.9823 - val_loss: 0.1864 - val_acc: 0.9654\n",
            "Epoch 21/100\n",
            "7628/7628 [==============================] - 19s 2ms/step - loss: 0.0713 - acc: 0.9910 - val_loss: 0.2007 - val_acc: 0.9591\n",
            "Epoch 22/100\n",
            "7628/7628 [==============================] - 19s 2ms/step - loss: 0.0710 - acc: 0.9911 - val_loss: 0.2316 - val_acc: 0.9633\n",
            "Epoch 23/100\n",
            "7628/7628 [==============================] - 19s 2ms/step - loss: 0.0709 - acc: 0.9915 - val_loss: 0.2396 - val_acc: 0.9465\n",
            "Epoch 24/100\n",
            "7628/7628 [==============================] - 19s 2ms/step - loss: 0.0644 - acc: 0.9941 - val_loss: 0.2212 - val_acc: 0.9539\n",
            "Epoch 25/100\n",
            "7628/7628 [==============================] - 19s 2ms/step - loss: 0.0665 - acc: 0.9931 - val_loss: 0.2291 - val_acc: 0.9607\n",
            "Epoch 26/100\n",
            "7628/7628 [==============================] - 19s 2ms/step - loss: 0.0615 - acc: 0.9937 - val_loss: 0.1986 - val_acc: 0.9623\n",
            "Epoch 27/100\n",
            "7628/7628 [==============================] - 19s 2ms/step - loss: 0.0567 - acc: 0.9954 - val_loss: 0.2068 - val_acc: 0.9575\n",
            "Epoch 28/100\n",
            "7628/7628 [==============================] - 19s 2ms/step - loss: 0.0611 - acc: 0.9942 - val_loss: 0.2044 - val_acc: 0.9638\n",
            "Epoch 29/100\n",
            "7628/7628 [==============================] - 19s 2ms/step - loss: 0.0560 - acc: 0.9957 - val_loss: 0.1979 - val_acc: 0.9633\n",
            "Epoch 30/100\n",
            "7628/7628 [==============================] - 19s 2ms/step - loss: 0.0531 - acc: 0.9963 - val_loss: 0.2425 - val_acc: 0.9586\n",
            "Epoch 31/100\n",
            "7628/7628 [==============================] - 19s 2ms/step - loss: 0.0594 - acc: 0.9934 - val_loss: 0.1748 - val_acc: 0.9607\n",
            "Epoch 32/100\n",
            "7628/7628 [==============================] - 19s 2ms/step - loss: 0.0470 - acc: 0.9982 - val_loss: 0.2753 - val_acc: 0.9455\n",
            "Epoch 33/100\n",
            "7628/7628 [==============================] - 19s 2ms/step - loss: 0.0479 - acc: 0.9976 - val_loss: 0.2046 - val_acc: 0.9649\n",
            "Epoch 34/100\n",
            "7628/7628 [==============================] - 19s 2ms/step - loss: 0.0451 - acc: 0.9975 - val_loss: 0.1922 - val_acc: 0.9665\n",
            "Epoch 35/100\n",
            "7628/7628 [==============================] - 19s 2ms/step - loss: 0.0503 - acc: 0.9971 - val_loss: 0.2033 - val_acc: 0.9712\n",
            "Epoch 36/100\n",
            "7628/7628 [==============================] - 19s 2ms/step - loss: 0.0466 - acc: 0.9962 - val_loss: 0.2005 - val_acc: 0.9670\n",
            "Epoch 37/100\n",
            "7628/7628 [==============================] - 19s 2ms/step - loss: 0.0494 - acc: 0.9954 - val_loss: 0.1785 - val_acc: 0.9649\n",
            "Epoch 38/100\n",
            "7628/7628 [==============================] - 19s 2ms/step - loss: 0.0431 - acc: 0.9975 - val_loss: 0.1860 - val_acc: 0.9638\n",
            "Epoch 39/100\n",
            "7628/7628 [==============================] - 19s 2ms/step - loss: 0.0512 - acc: 0.9946 - val_loss: 0.2251 - val_acc: 0.9518\n",
            "Epoch 40/100\n",
            "7628/7628 [==============================] - 19s 2ms/step - loss: 0.0420 - acc: 0.9969 - val_loss: 0.1806 - val_acc: 0.9670\n",
            "Epoch 41/100\n",
            "7628/7628 [==============================] - 19s 2ms/step - loss: 0.0449 - acc: 0.9955 - val_loss: 0.1870 - val_acc: 0.9633\n",
            "Epoch 42/100\n",
            "7628/7628 [==============================] - 19s 2ms/step - loss: 0.0480 - acc: 0.9955 - val_loss: 0.1867 - val_acc: 0.9654\n",
            "Epoch 43/100\n",
            "7628/7628 [==============================] - 19s 2ms/step - loss: 0.0374 - acc: 0.9983 - val_loss: 0.1962 - val_acc: 0.9649\n",
            "Epoch 44/100\n",
            "7628/7628 [==============================] - 19s 2ms/step - loss: 0.0376 - acc: 0.9983 - val_loss: 0.1939 - val_acc: 0.9706\n",
            "Epoch 45/100\n",
            "7628/7628 [==============================] - 19s 2ms/step - loss: 0.0399 - acc: 0.9967 - val_loss: 0.1593 - val_acc: 0.9654\n",
            "Epoch 46/100\n",
            "7628/7628 [==============================] - 19s 2ms/step - loss: 0.0420 - acc: 0.9969 - val_loss: 0.1736 - val_acc: 0.9675\n",
            "Epoch 47/100\n",
            "7628/7628 [==============================] - 19s 2ms/step - loss: 0.0475 - acc: 0.9967 - val_loss: 0.1698 - val_acc: 0.9644\n",
            "Epoch 48/100\n",
            "7628/7628 [==============================] - 19s 2ms/step - loss: 0.0319 - acc: 0.9992 - val_loss: 0.1811 - val_acc: 0.9691\n",
            "Epoch 49/100\n",
            "7628/7628 [==============================] - 19s 2ms/step - loss: 0.0413 - acc: 0.9967 - val_loss: 0.1734 - val_acc: 0.9701\n",
            "Epoch 50/100\n",
            "7628/7628 [==============================] - 19s 2ms/step - loss: 0.0373 - acc: 0.9971 - val_loss: 0.1871 - val_acc: 0.9638\n",
            "Epoch 51/100\n",
            "7628/7628 [==============================] - 19s 2ms/step - loss: 0.0347 - acc: 0.9976 - val_loss: 0.1673 - val_acc: 0.9675\n",
            "Epoch 52/100\n",
            "7628/7628 [==============================] - 19s 2ms/step - loss: 0.0564 - acc: 0.9929 - val_loss: 0.1967 - val_acc: 0.9570\n",
            "Epoch 53/100\n",
            "7628/7628 [==============================] - 19s 2ms/step - loss: 0.0312 - acc: 0.9992 - val_loss: 0.1766 - val_acc: 0.9696\n",
            "Epoch 54/100\n",
            "7628/7628 [==============================] - 19s 2ms/step - loss: 0.0333 - acc: 0.9982 - val_loss: 0.1637 - val_acc: 0.9717\n",
            "Epoch 55/100\n",
            "7628/7628 [==============================] - 19s 2ms/step - loss: 0.0420 - acc: 0.9953 - val_loss: 0.1667 - val_acc: 0.9717\n",
            "Epoch 56/100\n",
            "7628/7628 [==============================] - 19s 2ms/step - loss: 0.0315 - acc: 0.9978 - val_loss: 0.1628 - val_acc: 0.9759\n",
            "Epoch 57/100\n",
            "7628/7628 [==============================] - 19s 2ms/step - loss: 0.0317 - acc: 0.9979 - val_loss: 0.1626 - val_acc: 0.9727\n",
            "Epoch 58/100\n",
            "7628/7628 [==============================] - 19s 2ms/step - loss: 0.0332 - acc: 0.9970 - val_loss: 0.1577 - val_acc: 0.9701\n",
            "Epoch 59/100\n",
            "7628/7628 [==============================] - 19s 2ms/step - loss: 0.0319 - acc: 0.9975 - val_loss: 0.1666 - val_acc: 0.9738\n",
            "Epoch 60/100\n",
            "7628/7628 [==============================] - 19s 2ms/step - loss: 0.0289 - acc: 0.9984 - val_loss: 0.1846 - val_acc: 0.9706\n",
            "Epoch 61/100\n",
            "7628/7628 [==============================] - 19s 2ms/step - loss: 0.0314 - acc: 0.9976 - val_loss: 0.1847 - val_acc: 0.9654\n",
            "Epoch 62/100\n",
            "7628/7628 [==============================] - 19s 2ms/step - loss: 0.0322 - acc: 0.9976 - val_loss: 0.1672 - val_acc: 0.9696\n",
            "Epoch 63/100\n",
            "7628/7628 [==============================] - 19s 2ms/step - loss: 0.0346 - acc: 0.9958 - val_loss: 0.1645 - val_acc: 0.9696\n",
            "Epoch 64/100\n",
            "7628/7628 [==============================] - 19s 2ms/step - loss: 0.0242 - acc: 0.9997 - val_loss: 0.2220 - val_acc: 0.9591\n",
            "Epoch 65/100\n",
            "7628/7628 [==============================] - 19s 2ms/step - loss: 0.0367 - acc: 0.9949 - val_loss: 0.1427 - val_acc: 0.9701\n",
            "Epoch 66/100\n",
            "7628/7628 [==============================] - 19s 2ms/step - loss: 0.0241 - acc: 0.9997 - val_loss: 0.1793 - val_acc: 0.9717\n",
            "Epoch 67/100\n",
            "7628/7628 [==============================] - 19s 2ms/step - loss: 0.0288 - acc: 0.9976 - val_loss: 0.1266 - val_acc: 0.9769\n",
            "Epoch 68/100\n",
            "7628/7628 [==============================] - 19s 2ms/step - loss: 0.0273 - acc: 0.9980 - val_loss: 0.1600 - val_acc: 0.9733\n",
            "Epoch 69/100\n",
            "7628/7628 [==============================] - 19s 2ms/step - loss: 0.0261 - acc: 0.9982 - val_loss: 0.1591 - val_acc: 0.9722\n",
            "Epoch 70/100\n",
            "7628/7628 [==============================] - 19s 2ms/step - loss: 0.0258 - acc: 0.9980 - val_loss: 0.1383 - val_acc: 0.9748\n",
            "Epoch 71/100\n",
            "7628/7628 [==============================] - 19s 2ms/step - loss: 0.0348 - acc: 0.9959 - val_loss: 0.1446 - val_acc: 0.9722\n",
            "Epoch 72/100\n",
            "7628/7628 [==============================] - 19s 2ms/step - loss: 0.1010 - acc: 0.9906 - val_loss: 0.1340 - val_acc: 0.9722\n",
            "Epoch 73/100\n",
            "7628/7628 [==============================] - 19s 2ms/step - loss: 0.0213 - acc: 0.9996 - val_loss: 0.1471 - val_acc: 0.9743\n",
            "Epoch 74/100\n",
            "7628/7628 [==============================] - 19s 2ms/step - loss: 0.0330 - acc: 0.9967 - val_loss: 0.1447 - val_acc: 0.9743\n",
            "Epoch 75/100\n",
            "7628/7628 [==============================] - 19s 2ms/step - loss: 0.0270 - acc: 0.9976 - val_loss: 0.1493 - val_acc: 0.9717\n",
            "Epoch 76/100\n",
            "7628/7628 [==============================] - 19s 2ms/step - loss: 0.0240 - acc: 0.9988 - val_loss: 0.1458 - val_acc: 0.9733\n",
            "Epoch 77/100\n",
            "7628/7628 [==============================] - 19s 2ms/step - loss: 0.0314 - acc: 0.9959 - val_loss: 0.1285 - val_acc: 0.9759\n",
            "Epoch 78/100\n",
            "7628/7628 [==============================] - 19s 2ms/step - loss: 0.0206 - acc: 0.9992 - val_loss: 0.1419 - val_acc: 0.9727\n",
            "Epoch 79/100\n",
            "7628/7628 [==============================] - 19s 2ms/step - loss: 0.0322 - acc: 0.9959 - val_loss: 0.1421 - val_acc: 0.9701\n",
            "Epoch 80/100\n",
            "7628/7628 [==============================] - 19s 2ms/step - loss: 0.0332 - acc: 0.9962 - val_loss: 0.1378 - val_acc: 0.9706\n",
            "Epoch 81/100\n",
            "7628/7628 [==============================] - 19s 2ms/step - loss: 0.0198 - acc: 0.9993 - val_loss: 0.1721 - val_acc: 0.9644\n",
            "Epoch 82/100\n",
            "7628/7628 [==============================] - 19s 2ms/step - loss: 0.0232 - acc: 0.9975 - val_loss: 0.1509 - val_acc: 0.9722\n",
            "Epoch 83/100\n",
            "7628/7628 [==============================] - 19s 2ms/step - loss: 0.0213 - acc: 0.9987 - val_loss: 0.5022 - val_acc: 0.8952\n",
            "Epoch 84/100\n",
            "7628/7628 [==============================] - 19s 2ms/step - loss: 0.0226 - acc: 0.9980 - val_loss: 0.1216 - val_acc: 0.9775\n",
            "Epoch 85/100\n",
            "7628/7628 [==============================] - 19s 2ms/step - loss: 0.0193 - acc: 0.9992 - val_loss: 0.2278 - val_acc: 0.9570\n",
            "Epoch 86/100\n",
            "7628/7628 [==============================] - 19s 2ms/step - loss: 0.0243 - acc: 0.9972 - val_loss: 0.1230 - val_acc: 0.9775\n",
            "Epoch 87/100\n",
            "7628/7628 [==============================] - 19s 2ms/step - loss: 0.0248 - acc: 0.9971 - val_loss: 0.1374 - val_acc: 0.9733\n",
            "Epoch 88/100\n",
            "7628/7628 [==============================] - 19s 2ms/step - loss: 0.0229 - acc: 0.9975 - val_loss: 0.1335 - val_acc: 0.9764\n",
            "Epoch 89/100\n",
            "7628/7628 [==============================] - 19s 2ms/step - loss: 0.0512 - acc: 0.9933 - val_loss: 0.1241 - val_acc: 0.9712\n",
            "Epoch 90/100\n",
            "7628/7628 [==============================] - 19s 2ms/step - loss: 0.0157 - acc: 1.0000 - val_loss: 0.1650 - val_acc: 0.9727\n",
            "Epoch 91/100\n",
            "7628/7628 [==============================] - 19s 2ms/step - loss: 0.0193 - acc: 0.9982 - val_loss: 0.1613 - val_acc: 0.9706\n",
            "Epoch 92/100\n",
            "7628/7628 [==============================] - 19s 2ms/step - loss: 0.0177 - acc: 0.9988 - val_loss: 0.1502 - val_acc: 0.9743\n",
            "Epoch 93/100\n",
            "7628/7628 [==============================] - 19s 2ms/step - loss: 0.0184 - acc: 0.9986 - val_loss: 0.1496 - val_acc: 0.9748\n",
            "Epoch 94/100\n",
            "7628/7628 [==============================] - 19s 2ms/step - loss: 0.0176 - acc: 0.9984 - val_loss: 0.1471 - val_acc: 0.9785\n",
            "Epoch 95/100\n",
            "7628/7628 [==============================] - 19s 2ms/step - loss: 0.0419 - acc: 0.9936 - val_loss: 0.1271 - val_acc: 0.9722\n",
            "Epoch 96/100\n",
            "7628/7628 [==============================] - 19s 2ms/step - loss: 0.0144 - acc: 1.0000 - val_loss: 0.1421 - val_acc: 0.9759\n",
            "Epoch 97/100\n",
            "7628/7628 [==============================] - 19s 2ms/step - loss: 0.0188 - acc: 0.9987 - val_loss: 0.1363 - val_acc: 0.9733\n",
            "Epoch 98/100\n",
            "7628/7628 [==============================] - 19s 2ms/step - loss: 0.0184 - acc: 0.9980 - val_loss: 0.1362 - val_acc: 0.9764\n",
            "Epoch 99/100\n",
            "7628/7628 [==============================] - 19s 2ms/step - loss: 0.0162 - acc: 0.9988 - val_loss: 0.1413 - val_acc: 0.9743\n",
            "Epoch 100/100\n",
            "7628/7628 [==============================] - 19s 2ms/step - loss: 0.0198 - acc: 0.9970 - val_loss: 0.1392 - val_acc: 0.9775\n"
          ],
          "name": "stdout"
        }
      ]
    },
    {
      "cell_type": "code",
      "metadata": {
        "id": "KxZsBEiQc4LL",
        "colab_type": "code",
        "outputId": "aff552fa-8baa-49a9-e28b-9cdbe0a2ef02",
        "colab": {
          "base_uri": "https://localhost:8080/",
          "height": 50
        }
      },
      "source": [
        "test_loss, test_acc = FlaNet.evaluate(testImages, testLabels)\n",
        "test_acc"
      ],
      "execution_count": 16,
      "outputs": [
        {
          "output_type": "stream",
          "text": [
            "2384/2384 [==============================] - 3s 1ms/step\n"
          ],
          "name": "stdout"
        },
        {
          "output_type": "execute_result",
          "data": {
            "text/plain": [
              "0.9878355704697986"
            ]
          },
          "metadata": {
            "tags": []
          },
          "execution_count": 16
        }
      ]
    },
    {
      "cell_type": "code",
      "metadata": {
        "id": "Wr2zfuUJUjAc",
        "colab_type": "code",
        "outputId": "09346fde-51e0-4bec-f1f9-feef87dbc727",
        "colab": {
          "base_uri": "https://localhost:8080/",
          "height": 34
        }
      },
      "source": [
        "test_loss"
      ],
      "execution_count": 17,
      "outputs": [
        {
          "output_type": "execute_result",
          "data": {
            "text/plain": [
              "0.10681262481707654"
            ]
          },
          "metadata": {
            "tags": []
          },
          "execution_count": 17
        }
      ]
    },
    {
      "cell_type": "markdown",
      "metadata": {
        "id": "7mHIwC2qs8P9",
        "colab_type": "text"
      },
      "source": [
        "# **Confusion matrix**"
      ]
    },
    {
      "cell_type": "code",
      "metadata": {
        "id": "AjtbTfQaY_sW",
        "colab_type": "code",
        "colab": {}
      },
      "source": [
        "test_predict = FlaNet.predict(testImages)\n",
        "##\n",
        "# binary crossentropy\n",
        "predictLabels = [1 * (test_predict[i]>=0.5) for i in range(len(test_predict))]\n",
        "predictLabels = np.array(predictLabels)\n",
        "\n",
        "# categorical crossentropy\n",
        "#predictLabels = np.array([np.argmax(test_predict[i]) for i in range(len(test_predict))])\n",
        "#testLabels = np.array([np.argmax(testLabels[i]) for i in range(len(test_predict))])"
      ],
      "execution_count": 0,
      "outputs": []
    },
    {
      "cell_type": "code",
      "metadata": {
        "id": "hDskpQnTb4j0",
        "colab_type": "code",
        "outputId": "e0396818-1158-433a-ce73-4ada778f5eb8",
        "colab": {
          "base_uri": "https://localhost:8080/",
          "height": 34
        }
      },
      "source": [
        "predictLabels.shape"
      ],
      "execution_count": 19,
      "outputs": [
        {
          "output_type": "execute_result",
          "data": {
            "text/plain": [
              "(2384, 1)"
            ]
          },
          "metadata": {
            "tags": []
          },
          "execution_count": 19
        }
      ]
    },
    {
      "cell_type": "code",
      "metadata": {
        "id": "tuD6uFWVcA5m",
        "colab_type": "code",
        "outputId": "d68b8fcb-065e-4b4d-e28f-2c44eb078ce0",
        "colab": {
          "base_uri": "https://localhost:8080/",
          "height": 34
        }
      },
      "source": [
        "testLabels.shape"
      ],
      "execution_count": 20,
      "outputs": [
        {
          "output_type": "execute_result",
          "data": {
            "text/plain": [
              "(2384,)"
            ]
          },
          "metadata": {
            "tags": []
          },
          "execution_count": 20
        }
      ]
    },
    {
      "cell_type": "code",
      "metadata": {
        "id": "rxyruJbpY3DO",
        "colab_type": "code",
        "outputId": "b39ded01-c155-4485-aef5-a45b82e288de",
        "colab": {
          "base_uri": "https://localhost:8080/",
          "height": 394
        }
      },
      "source": [
        "import matplotlib.pyplot as plt\n",
        "import seaborn as sns; sns.set()\n",
        "\n",
        "from sklearn.metrics import confusion_matrix\n",
        "\n",
        "mat = confusion_matrix(predictLabels, testLabels)\n",
        "\n",
        "plt.figure(figsize=(8,6))\n",
        "ax=sns.heatmap(mat, square=False, annot=True, fmt=\"d\", cbar=True)\n",
        "\n",
        "# There is a bug in matplotlib 3.1.1 causing truncated heatmap \n",
        "bottom, top = ax.get_ylim()\n",
        "ax.set_ylim(bottom + 0.5, top - 0.5)\n",
        "\n",
        "plt.xlabel('predicted value')\n",
        "plt.ylabel('true value')\n",
        "\n",
        "plt.show()"
      ],
      "execution_count": 21,
      "outputs": [
        {
          "output_type": "display_data",
          "data": {
            "image/png": "[encoded data removed]",
            "text/plain": [
              "<Figure size 576x432 with 2 Axes>"
            ]
          },
          "metadata": {
            "tags": []
          }
        }
      ]
    },
    {
      "cell_type": "markdown",
      "metadata": {
        "id": "73LSKAucPIcr",
        "colab_type": "text"
      },
      "source": [
        "# **Inspection of overfitting**"
      ]
    },
    {
      "cell_type": "code",
      "metadata": {
        "id": "roGt1QTD9Z4T",
        "colab_type": "code",
        "colab": {}
      },
      "source": [
        "acc = history.history['acc']\n",
        "val_acc = history.history['val_acc']\n",
        "loss = history.history['loss']\n",
        "val_loss = history.history['val_loss']\n",
        "epochs = range(len(acc))"
      ],
      "execution_count": 0,
      "outputs": []
    },
    {
      "cell_type": "code",
      "metadata": {
        "id": "mz6Is2XDO_0X",
        "colab_type": "code",
        "outputId": "66bffd6a-6211-4958-9df1-900639a9fb05",
        "colab": {
          "base_uri": "https://localhost:8080/",
          "height": 301
        }
      },
      "source": [
        "plt.figure()\n",
        "\n",
        "plt.plot(epochs, acc, 'r', label='Training acc')\n",
        "plt.plot(epochs, val_acc, 'b', label='Validation acc')\n",
        "\n",
        "plt.title('Training and validation accuracy')\n",
        "plt.xlabel('epochs')\n",
        "plt.ylabel('accuracy')\n",
        "plt.legend()\n",
        "\n",
        "plt.show()"
      ],
      "execution_count": 23,
      "outputs": [
        {
          "output_type": "display_data",
          "data": {
            "image/png": "[encoded data removed]",
            "text/plain": [
              "<Figure size 432x288 with 1 Axes>"
            ]
          },
          "metadata": {
            "tags": []
          }
        }
      ]
    },
    {
      "cell_type": "code",
      "metadata": {
        "id": "Brxz60pyPABz",
        "colab_type": "code",
        "outputId": "ba9e4102-460e-40c8-878d-d8736ecc6c03",
        "colab": {
          "base_uri": "https://localhost:8080/",
          "height": 301
        }
      },
      "source": [
        "plt.figure()\n",
        "\n",
        "plt.plot(epochs, loss, 'r', label='Training loss')\n",
        "plt.plot(epochs, val_loss, 'b', label='Validation loss')\n",
        "plt.title('Training and validation loss')\n",
        "plt.xlabel('epochs')\n",
        "plt.ylabel('loss')\n",
        "plt.legend()\n",
        "\n",
        "plt.show()"
      ],
      "execution_count": 24,
      "outputs": [
        {
          "output_type": "display_data",
          "data": {
            "image/png": "[encoded data removed]",
            "text/plain": [
              "<Figure size 432x288 with 1 Axes>"
            ]
          },
          "metadata": {
            "tags": []
          }
        }
      ]
    },
    {
      "cell_type": "markdown",
      "metadata": {
        "id": "5sNC3YEc0IUA",
        "colab_type": "text"
      },
      "source": [
        "#**Save trained network & history**"
      ]
    },
    {
      "cell_type": "code",
      "metadata": {
        "id": "qPBgloYAFNih",
        "colab_type": "code",
        "outputId": "83504cf8-96b2-42d4-ce39-8c7579afc1d0",
        "colab": {
          "base_uri": "https://localhost:8080/",
          "height": 34
        }
      },
      "source": [
        "cd /content/gdrive/My Drive/Colab Notebooks/FlaNet/trainingDatasets/"
      ],
      "execution_count": 25,
      "outputs": [
        {
          "output_type": "stream",
          "text": [
            "/content/gdrive/My Drive/Colab Notebooks/FlaNet/trainingDatasets\n"
          ],
          "name": "stdout"
        }
      ]
    },
    {
      "cell_type": "code",
      "metadata": {
        "id": "JNrafT520WLT",
        "colab_type": "code",
        "colab": {}
      },
      "source": [
        "# save trained network\n",
        "FlaNet.save('FlaNet.h5') "
      ],
      "execution_count": 0,
      "outputs": []
    },
    {
      "cell_type": "code",
      "metadata": {
        "id": "cVZAqV0SAVqw",
        "colab_type": "code",
        "colab": {}
      },
      "source": [
        "# save history\n",
        "import pandas as pd\n",
        "   \n",
        "FlaNet_df = pd.DataFrame(history.history) \n",
        "\n",
        "with open('FlaNet.csv', mode='w') as f:\n",
        "    FlaNet_df.to_csv(f)"
      ],
      "execution_count": 0,
      "outputs": []
    }
  ]
}