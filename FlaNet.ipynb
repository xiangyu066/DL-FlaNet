{
  "nbformat": 4,
  "nbformat_minor": 0,
  "metadata": {
    "colab": {
      "name": "FlaNet.ipynb",
      "provenance": [],
      "collapsed_sections": [],
      "include_colab_link": true
    },
    "kernelspec": {
      "name": "python3",
      "display_name": "Python 3"
    },
    "accelerator": "GPU"
  },
  "cells": [
    {
      "cell_type": "markdown",
      "metadata": {
        "id": "view-in-github",
        "colab_type": "text"
      },
      "source": [
        "<a href=\"https://colab.research.google.com/github/xiangyu066/DL-FlaNet/blob/master/FlaNet.ipynb\" target=\"_parent\"><img src=\"https://colab.research.google.com/assets/colab-badge.svg\" alt=\"Open In Colab\"/></a>"
      ]
    },
    {
      "cell_type": "code",
      "metadata": {
        "id": "A1jZejSOyjYM",
        "colab_type": "code",
        "outputId": "6582be9e-02dc-4952-854f-3978ad1078b5",
        "colab": {
          "base_uri": "https://localhost:8080/",
          "height": 302
        }
      },
      "source": [
        "!/opt/bin/nvidia-smi"
      ],
      "execution_count": 1,
      "outputs": [
        {
          "output_type": "stream",
          "text": [
            "Wed Nov  6 09:50:04 2019       \n",
            "+-----------------------------------------------------------------------------+\n",
            "| NVIDIA-SMI 418.67       Driver Version: 418.67       CUDA Version: 10.1     |\n",
            "|-------------------------------+----------------------+----------------------+\n",
            "| GPU  Name        Persistence-M| Bus-Id        Disp.A | Volatile Uncorr. ECC |\n",
            "| Fan  Temp  Perf  Pwr:Usage/Cap|         Memory-Usage | GPU-Util  Compute M. |\n",
            "|===============================+======================+======================|\n",
            "|   0  Tesla K80           Off  | 00000000:00:04.0 Off |                    0 |\n",
            "| N/A   45C    P8    30W / 149W |      0MiB / 11441MiB |      0%      Default |\n",
            "+-------------------------------+----------------------+----------------------+\n",
            "                                                                               \n",
            "+-----------------------------------------------------------------------------+\n",
            "| Processes:                                                       GPU Memory |\n",
            "|  GPU       PID   Type   Process name                             Usage      |\n",
            "|=============================================================================|\n",
            "|  No running processes found                                                 |\n",
            "+-----------------------------------------------------------------------------+\n"
          ],
          "name": "stdout"
        }
      ]
    },
    {
      "cell_type": "markdown",
      "metadata": {
        "id": "pwifFB-PYbAa",
        "colab_type": "text"
      },
      "source": [
        "# **Acess to Google drive**"
      ]
    },
    {
      "cell_type": "code",
      "metadata": {
        "id": "e3Pg_IKDcRew",
        "colab_type": "code",
        "outputId": "67b2e96d-4781-452c-b4de-b617b3702116",
        "colab": {
          "base_uri": "https://localhost:8080/",
          "height": 121
        }
      },
      "source": [
        "from google.colab import drive\n",
        "drive.mount('/content/gdrive')"
      ],
      "execution_count": 2,
      "outputs": [
        {
          "output_type": "stream",
          "text": [
            "Go to this URL in a browser: https://accounts.google.com/o/oauth2/auth?client_id=947318989803-6bn6qk8qdgf4n4g3pfee6491hc0brc4i.apps.googleusercontent.com&redirect_uri=urn%3Aietf%3Awg%3Aoauth%3A2.0%3Aoob&scope=email%20https%3A%2F%2Fwww.googleapis.com%2Fauth%2Fdocs.test%20https%3A%2F%2Fwww.googleapis.com%2Fauth%2Fdrive%20https%3A%2F%2Fwww.googleapis.com%2Fauth%2Fdrive.photos.readonly%20https%3A%2F%2Fwww.googleapis.com%2Fauth%2Fpeopleapi.readonly&response_type=code\n",
            "\n",
            "Enter your authorization code:\n",
            "··········\n",
            "Mounted at /content/gdrive\n"
          ],
          "name": "stdout"
        }
      ]
    },
    {
      "cell_type": "markdown",
      "metadata": {
        "id": "UhgJyT3HYljy",
        "colab_type": "text"
      },
      "source": [
        "# **Importing datasets**"
      ]
    },
    {
      "cell_type": "code",
      "metadata": {
        "id": "vhyae1COdUlw",
        "colab_type": "code",
        "outputId": "4c825d3b-9cc8-4226-af39-9e8fbec36c9c",
        "colab": {
          "base_uri": "https://localhost:8080/",
          "height": 34
        }
      },
      "source": [
        "cd /content/gdrive/My Drive/Colab Notebooks/FlaNet/trainingDatasets/trainingImages_npy/"
      ],
      "execution_count": 3,
      "outputs": [
        {
          "output_type": "stream",
          "text": [
            "/content/gdrive/My Drive/Colab Notebooks/FlaNet/trainingDatasets/trainingImages_npy\n"
          ],
          "name": "stdout"
        }
      ]
    },
    {
      "cell_type": "code",
      "metadata": {
        "id": "t73lMF6TWife",
        "colab_type": "code",
        "colab": {}
      },
      "source": [
        "import numpy as np\n",
        "\n",
        "trainingImages = []\n",
        "trainingLabels = []\n",
        "\n",
        "trainingImages_Flagellated = np.load('Flagellated_images.npy')\n",
        "trainingImages = trainingImages_Flagellated\n",
        "trainingLabels_Flagellated = np.load('Flagellated_labels_hot.npy')\n",
        "trainingLabels = trainingLabels_Flagellated\n",
        "\n",
        "trainingImages_nonFlagellated = np.load('nonFlagellated_images.npy')\n",
        "trainingImages = np.append(trainingImages,trainingImages_nonFlagellated,axis=0)\n",
        "trainLabels_nonFlagellated = np.load('nonFlagellated_labels_hot.npy')\n",
        "trainingLabels = np.append(trainingLabels,trainLabels_nonFlagellated,axis=0)\n",
        "\n",
        "#trainingImages = trainingImages.astype('float32') / 255"
      ],
      "execution_count": 0,
      "outputs": []
    },
    {
      "cell_type": "code",
      "metadata": {
        "id": "e_0NAig1X_gn",
        "colab_type": "code",
        "colab": {}
      },
      "source": [
        "# manual shuffle\n",
        "idx = np.random.permutation(len(trainingLabels))\n",
        "trainingLabels=trainingLabels[idx]\n",
        "trainingImages=trainingImages[idx,]"
      ],
      "execution_count": 0,
      "outputs": []
    },
    {
      "cell_type": "code",
      "metadata": {
        "id": "9l1BtNf5kvlG",
        "colab_type": "code",
        "outputId": "7d71c95a-6436-45e5-93a7-6e0b658c22cc",
        "colab": {
          "base_uri": "https://localhost:8080/",
          "height": 34
        }
      },
      "source": [
        "trainingLabels.shape"
      ],
      "execution_count": 6,
      "outputs": [
        {
          "output_type": "execute_result",
          "data": {
            "text/plain": [
              "(9536,)"
            ]
          },
          "metadata": {
            "tags": []
          },
          "execution_count": 6
        }
      ]
    },
    {
      "cell_type": "code",
      "metadata": {
        "id": "ZnZkSsM4lFo5",
        "colab_type": "code",
        "outputId": "db3e6161-fb6d-4f70-e853-320016625883",
        "colab": {
          "base_uri": "https://localhost:8080/",
          "height": 34
        }
      },
      "source": [
        "trainingImages.shape"
      ],
      "execution_count": 7,
      "outputs": [
        {
          "output_type": "execute_result",
          "data": {
            "text/plain": [
              "(9536, 128, 128, 1)"
            ]
          },
          "metadata": {
            "tags": []
          },
          "execution_count": 7
        }
      ]
    },
    {
      "cell_type": "code",
      "metadata": {
        "id": "kzCNLbByXSHH",
        "colab_type": "code",
        "outputId": "91dba851-d9b3-4add-99f5-636540227dde",
        "colab": {
          "base_uri": "https://localhost:8080/",
          "height": 34
        }
      },
      "source": [
        "cd /content/gdrive/My Drive/Colab Notebooks/FlaNet/trainingDatasets/testImages_npy/"
      ],
      "execution_count": 8,
      "outputs": [
        {
          "output_type": "stream",
          "text": [
            "/content/gdrive/My Drive/Colab Notebooks/FlaNet/trainingDatasets/testImages_npy\n"
          ],
          "name": "stdout"
        }
      ]
    },
    {
      "cell_type": "code",
      "metadata": {
        "id": "dcw53u5HXVHO",
        "colab_type": "code",
        "colab": {}
      },
      "source": [
        "testImages = []\n",
        "testLabels = []\n",
        "\n",
        "testImages_Flagellated = np.load('Flagellated_images.npy')\n",
        "testImages = testImages_Flagellated\n",
        "testLabels_Flagellated = np.load('Flagellated_labels_hot.npy')\n",
        "testLabels = testLabels_Flagellated\n",
        "\n",
        "testImages_nonFlagellated = np.load('nonFlagellated_images.npy')\n",
        "testImages = np.append(testImages,testImages_nonFlagellated,axis=0)\n",
        "testLabels_nonFlagellated = np.load('nonFlagellated_labels_hot.npy')\n",
        "testLabels = np.append(testLabels,testLabels_nonFlagellated,axis=0)\n",
        "\n",
        "#testImages = testImages.astype('float32') / 255"
      ],
      "execution_count": 0,
      "outputs": []
    },
    {
      "cell_type": "code",
      "metadata": {
        "id": "f3BV7IArln9R",
        "colab_type": "code",
        "outputId": "261ad70f-8923-4f37-ba9a-b337b6d50965",
        "colab": {
          "base_uri": "https://localhost:8080/",
          "height": 34
        }
      },
      "source": [
        "testLabels.shape"
      ],
      "execution_count": 10,
      "outputs": [
        {
          "output_type": "execute_result",
          "data": {
            "text/plain": [
              "(2384,)"
            ]
          },
          "metadata": {
            "tags": []
          },
          "execution_count": 10
        }
      ]
    },
    {
      "cell_type": "code",
      "metadata": {
        "id": "wD4sW3hMlVgE",
        "colab_type": "code",
        "outputId": "54603cf9-9c6a-4558-d345-1537c9100451",
        "colab": {
          "base_uri": "https://localhost:8080/",
          "height": 34
        }
      },
      "source": [
        "testImages.shape"
      ],
      "execution_count": 11,
      "outputs": [
        {
          "output_type": "execute_result",
          "data": {
            "text/plain": [
              "(2384, 128, 128, 1)"
            ]
          },
          "metadata": {
            "tags": []
          },
          "execution_count": 11
        }
      ]
    },
    {
      "cell_type": "markdown",
      "metadata": {
        "id": "-xNEbbj4YvGd",
        "colab_type": "text"
      },
      "source": [
        "# **Training a neural network**"
      ]
    },
    {
      "cell_type": "code",
      "metadata": {
        "id": "GQ6_wB9vcacT",
        "colab_type": "code",
        "outputId": "456b7ef5-7b73-491d-ed0a-5a4b189de49c",
        "colab": {
          "base_uri": "https://localhost:8080/",
          "height": 96
        }
      },
      "source": [
        "import keras\n",
        "keras.__version__"
      ],
      "execution_count": 12,
      "outputs": [
        {
          "output_type": "stream",
          "text": [
            "Using TensorFlow backend.\n"
          ],
          "name": "stderr"
        },
        {
          "output_type": "display_data",
          "data": {
            "text/html": [
              "<p style=\"color: red;\">\n",
              "The default version of TensorFlow in Colab will soon switch to TensorFlow 2.x.<br>\n",
              "We recommend you <a href=\"https://www.tensorflow.org/guide/migrate\" target=\"_blank\">upgrade</a> now \n",
              "or ensure your notebook will continue to use TensorFlow 1.x via the <code>%tensorflow_version 1.x</code> magic:\n",
              "<a href=\"https://colab.research.google.com/notebooks/tensorflow_version.ipynb\" target=\"_blank\">more info</a>.</p>\n"
            ],
            "text/plain": [
              "<IPython.core.display.HTML object>"
            ]
          },
          "metadata": {
            "tags": []
          }
        },
        {
          "output_type": "execute_result",
          "data": {
            "text/plain": [
              "'2.2.5'"
            ]
          },
          "metadata": {
            "tags": []
          },
          "execution_count": 12
        }
      ]
    },
    {
      "cell_type": "code",
      "metadata": {
        "id": "QZ2vwc2Wcba0",
        "colab_type": "code",
        "outputId": "111886bf-1ce6-4d0c-f3cb-95324419648d",
        "colab": {
          "base_uri": "https://localhost:8080/",
          "height": 642
        }
      },
      "source": [
        "from keras import layers\n",
        "from keras import models\n",
        "from keras import regularizers\n",
        "\n",
        "FlaNet = models.Sequential()\n",
        "FlaNet.add(layers.Conv2D(64, (5, 5), activation='relu', input_shape=(128, 128, 1), padding='same'))\n",
        "FlaNet.add(layers.MaxPooling2D((3, 3),strides=2))\n",
        "FlaNet.add(layers.Conv2D(128, (5, 5), activation='relu', padding='same'))\n",
        "FlaNet.add(layers.MaxPooling2D((3, 3),strides=2))\n",
        "FlaNet.add(layers.Conv2D(128, (5, 5), activation='relu', padding='same'))\n",
        "FlaNet.add(layers.MaxPooling2D((3, 3),strides=2))\n",
        "FlaNet.add(layers.Flatten())\n",
        "FlaNet.add(layers.Dense(128, kernel_regularizer=regularizers.l2(0.001), activation='relu'))\n",
        "FlaNet.add(layers.Dense(128, kernel_regularizer=regularizers.l2(0.001), activation='relu'))\n",
        "\n",
        "# binary crossentropy\n",
        "FlaNet.add(layers.Dense(1, activation='sigmoid')) \n",
        "\n",
        "# categorical crossentropy\n",
        "#FlaNet.add(layers.Dense(2, activation='softmax')) \n",
        "\n",
        "FlaNet.summary()"
      ],
      "execution_count": 13,
      "outputs": [
        {
          "output_type": "stream",
          "text": [
            "WARNING:tensorflow:From /usr/local/lib/python3.6/dist-packages/keras/backend/tensorflow_backend.py:66: The name tf.get_default_graph is deprecated. Please use tf.compat.v1.get_default_graph instead.\n",
            "\n",
            "WARNING:tensorflow:From /usr/local/lib/python3.6/dist-packages/keras/backend/tensorflow_backend.py:541: The name tf.placeholder is deprecated. Please use tf.compat.v1.placeholder instead.\n",
            "\n",
            "WARNING:tensorflow:From /usr/local/lib/python3.6/dist-packages/keras/backend/tensorflow_backend.py:4432: The name tf.random_uniform is deprecated. Please use tf.random.uniform instead.\n",
            "\n",
            "WARNING:tensorflow:From /usr/local/lib/python3.6/dist-packages/keras/backend/tensorflow_backend.py:4267: The name tf.nn.max_pool is deprecated. Please use tf.nn.max_pool2d instead.\n",
            "\n",
            "Model: \"sequential_1\"\n",
            "_________________________________________________________________\n",
            "Layer (type)                 Output Shape              Param #   \n",
            "=================================================================\n",
            "conv2d_1 (Conv2D)            (None, 128, 128, 64)      1664      \n",
            "_________________________________________________________________\n",
            "max_pooling2d_1 (MaxPooling2 (None, 63, 63, 64)        0         \n",
            "_________________________________________________________________\n",
            "conv2d_2 (Conv2D)            (None, 63, 63, 128)       204928    \n",
            "_________________________________________________________________\n",
            "max_pooling2d_2 (MaxPooling2 (None, 31, 31, 128)       0         \n",
            "_________________________________________________________________\n",
            "conv2d_3 (Conv2D)            (None, 31, 31, 128)       409728    \n",
            "_________________________________________________________________\n",
            "max_pooling2d_3 (MaxPooling2 (None, 15, 15, 128)       0         \n",
            "_________________________________________________________________\n",
            "flatten_1 (Flatten)          (None, 28800)             0         \n",
            "_________________________________________________________________\n",
            "dense_1 (Dense)              (None, 128)               3686528   \n",
            "_________________________________________________________________\n",
            "dense_2 (Dense)              (None, 128)               16512     \n",
            "_________________________________________________________________\n",
            "dense_3 (Dense)              (None, 1)                 129       \n",
            "=================================================================\n",
            "Total params: 4,319,489\n",
            "Trainable params: 4,319,489\n",
            "Non-trainable params: 0\n",
            "_________________________________________________________________\n"
          ],
          "name": "stdout"
        }
      ]
    },
    {
      "cell_type": "code",
      "metadata": {
        "id": "vudplwhEc0wd",
        "colab_type": "code",
        "outputId": "ff1d24e1-f6c5-4f28-aae9-40db21cbf3eb",
        "colab": {
          "base_uri": "https://localhost:8080/",
          "height": 154
        }
      },
      "source": [
        "from keras import optimizers\n",
        "\n",
        "# binary crossentropy\n",
        "FlaNet.compile(optimizer=optimizers.RMSprop(lr=1e-4),\n",
        "              loss='binary_crossentropy',\n",
        "              metrics=['accuracy'])\n",
        "\n",
        "# categorical crossentropy\n",
        "#from keras.utils import to_categorical\n",
        "#trainingLabels = to_categorical(trainingLabels)\n",
        "#testLabels = to_categorical(testLabels)\n",
        "#FlaNet.compile(optimizer=optimizers.RMSprop(lr=1e-5),\n",
        "#              loss='categorical_crossentropy',\n",
        "#              metrics=['accuracy'])"
      ],
      "execution_count": 14,
      "outputs": [
        {
          "output_type": "stream",
          "text": [
            "WARNING:tensorflow:From /usr/local/lib/python3.6/dist-packages/keras/optimizers.py:793: The name tf.train.Optimizer is deprecated. Please use tf.compat.v1.train.Optimizer instead.\n",
            "\n",
            "WARNING:tensorflow:From /usr/local/lib/python3.6/dist-packages/keras/backend/tensorflow_backend.py:3657: The name tf.log is deprecated. Please use tf.math.log instead.\n",
            "\n",
            "WARNING:tensorflow:From /usr/local/lib/python3.6/dist-packages/tensorflow_core/python/ops/nn_impl.py:183: where (from tensorflow.python.ops.array_ops) is deprecated and will be removed in a future version.\n",
            "Instructions for updating:\n",
            "Use tf.where in 2.0, which has the same broadcast rule as np.where\n"
          ],
          "name": "stdout"
        }
      ]
    },
    {
      "cell_type": "code",
      "metadata": {
        "id": "Y94rzG58Lolg",
        "colab_type": "code",
        "outputId": "7d4eae8d-c1ca-4c44-bb73-94f415f96d29",
        "colab": {
          "base_uri": "https://localhost:8080/",
          "height": 1000
        }
      },
      "source": [
        "history = FlaNet.fit(trainingImages, trainingLabels, epochs=100, batch_size=16, validation_split=0.2)"
      ],
      "execution_count": 15,
      "outputs": [
        {
          "output_type": "stream",
          "text": [
            "WARNING:tensorflow:From /usr/local/lib/python3.6/dist-packages/keras/backend/tensorflow_backend.py:1033: The name tf.assign_add is deprecated. Please use tf.compat.v1.assign_add instead.\n",
            "\n",
            "WARNING:tensorflow:From /usr/local/lib/python3.6/dist-packages/keras/backend/tensorflow_backend.py:1020: The name tf.assign is deprecated. Please use tf.compat.v1.assign instead.\n",
            "\n",
            "WARNING:tensorflow:From /usr/local/lib/python3.6/dist-packages/keras/backend/tensorflow_backend.py:3005: The name tf.Session is deprecated. Please use tf.compat.v1.Session instead.\n",
            "\n",
            "Train on 7628 samples, validate on 1908 samples\n",
            "Epoch 1/100\n",
            "WARNING:tensorflow:From /usr/local/lib/python3.6/dist-packages/keras/backend/tensorflow_backend.py:190: The name tf.get_default_session is deprecated. Please use tf.compat.v1.get_default_session instead.\n",
            "\n",
            "WARNING:tensorflow:From /usr/local/lib/python3.6/dist-packages/keras/backend/tensorflow_backend.py:197: The name tf.ConfigProto is deprecated. Please use tf.compat.v1.ConfigProto instead.\n",
            "\n",
            "WARNING:tensorflow:From /usr/local/lib/python3.6/dist-packages/keras/backend/tensorflow_backend.py:207: The name tf.global_variables is deprecated. Please use tf.compat.v1.global_variables instead.\n",
            "\n",
            "WARNING:tensorflow:From /usr/local/lib/python3.6/dist-packages/keras/backend/tensorflow_backend.py:216: The name tf.is_variable_initialized is deprecated. Please use tf.compat.v1.is_variable_initialized instead.\n",
            "\n",
            "WARNING:tensorflow:From /usr/local/lib/python3.6/dist-packages/keras/backend/tensorflow_backend.py:223: The name tf.variables_initializer is deprecated. Please use tf.compat.v1.variables_initializer instead.\n",
            "\n",
            "7628/7628 [==============================] - 35s 5ms/step - loss: 3.2993 - acc: 0.6709 - val_loss: 0.5495 - val_acc: 0.7379\n",
            "Epoch 2/100\n",
            "7628/7628 [==============================] - 27s 4ms/step - loss: 0.4127 - acc: 0.8609 - val_loss: 0.2725 - val_acc: 0.9093\n",
            "Epoch 3/100\n",
            "7628/7628 [==============================] - 27s 4ms/step - loss: 0.2376 - acc: 0.9232 - val_loss: 0.2296 - val_acc: 0.9224\n",
            "Epoch 4/100\n",
            "7628/7628 [==============================] - 27s 4ms/step - loss: 0.1645 - acc: 0.9531 - val_loss: 0.1608 - val_acc: 0.9586\n",
            "Epoch 5/100\n",
            "7628/7628 [==============================] - 27s 4ms/step - loss: 0.1299 - acc: 0.9657 - val_loss: 0.1270 - val_acc: 0.9670\n",
            "Epoch 6/100\n",
            "7628/7628 [==============================] - 27s 4ms/step - loss: 0.1114 - acc: 0.9710 - val_loss: 0.1237 - val_acc: 0.9748\n",
            "Epoch 7/100\n",
            "7628/7628 [==============================] - 27s 4ms/step - loss: 0.0971 - acc: 0.9765 - val_loss: 0.1052 - val_acc: 0.9764\n",
            "Epoch 8/100\n",
            "7628/7628 [==============================] - 27s 4ms/step - loss: 0.0889 - acc: 0.9792 - val_loss: 0.1135 - val_acc: 0.9759\n",
            "Epoch 9/100\n",
            "7628/7628 [==============================] - 27s 4ms/step - loss: 0.0835 - acc: 0.9816 - val_loss: 0.1126 - val_acc: 0.9780\n",
            "Epoch 10/100\n",
            "7628/7628 [==============================] - 27s 4ms/step - loss: 0.0786 - acc: 0.9830 - val_loss: 0.1213 - val_acc: 0.9738\n",
            "Epoch 11/100\n",
            "7628/7628 [==============================] - 27s 4ms/step - loss: 0.0726 - acc: 0.9847 - val_loss: 0.1298 - val_acc: 0.9785\n",
            "Epoch 12/100\n",
            "7628/7628 [==============================] - 27s 4ms/step - loss: 0.0677 - acc: 0.9845 - val_loss: 0.1016 - val_acc: 0.9759\n",
            "Epoch 13/100\n",
            "7628/7628 [==============================] - 27s 4ms/step - loss: 0.0638 - acc: 0.9865 - val_loss: 0.0921 - val_acc: 0.9827\n",
            "Epoch 14/100\n",
            "7628/7628 [==============================] - 27s 4ms/step - loss: 0.0569 - acc: 0.9886 - val_loss: 0.1124 - val_acc: 0.9759\n",
            "Epoch 15/100\n",
            "7628/7628 [==============================] - 27s 4ms/step - loss: 0.0515 - acc: 0.9911 - val_loss: 0.1018 - val_acc: 0.9806\n",
            "Epoch 16/100\n",
            "7628/7628 [==============================] - 27s 4ms/step - loss: 0.0490 - acc: 0.9904 - val_loss: 0.1109 - val_acc: 0.9806\n",
            "Epoch 17/100\n",
            "7628/7628 [==============================] - 27s 4ms/step - loss: 0.0440 - acc: 0.9910 - val_loss: 0.1248 - val_acc: 0.9717\n",
            "Epoch 18/100\n",
            "7628/7628 [==============================] - 27s 4ms/step - loss: 0.0409 - acc: 0.9924 - val_loss: 0.1352 - val_acc: 0.9701\n",
            "Epoch 19/100\n",
            "7628/7628 [==============================] - 27s 4ms/step - loss: 0.0453 - acc: 0.9921 - val_loss: 0.1326 - val_acc: 0.9748\n",
            "Epoch 20/100\n",
            "7628/7628 [==============================] - 27s 4ms/step - loss: 0.0398 - acc: 0.9934 - val_loss: 0.1188 - val_acc: 0.9780\n",
            "Epoch 21/100\n",
            "7628/7628 [==============================] - 27s 4ms/step - loss: 0.0313 - acc: 0.9941 - val_loss: 0.1438 - val_acc: 0.9701\n",
            "Epoch 22/100\n",
            "7628/7628 [==============================] - 27s 4ms/step - loss: 0.0310 - acc: 0.9942 - val_loss: 0.1271 - val_acc: 0.9796\n",
            "Epoch 23/100\n",
            "7628/7628 [==============================] - 27s 4ms/step - loss: 0.0329 - acc: 0.9937 - val_loss: 0.1421 - val_acc: 0.9733\n",
            "Epoch 24/100\n",
            "7628/7628 [==============================] - 27s 3ms/step - loss: 0.0286 - acc: 0.9944 - val_loss: 0.1195 - val_acc: 0.9796\n",
            "Epoch 25/100\n",
            "7628/7628 [==============================] - 27s 4ms/step - loss: 0.0321 - acc: 0.9946 - val_loss: 0.1272 - val_acc: 0.9790\n",
            "Epoch 26/100\n",
            "7628/7628 [==============================] - 27s 4ms/step - loss: 0.0259 - acc: 0.9951 - val_loss: 0.1094 - val_acc: 0.9806\n",
            "Epoch 27/100\n",
            "7628/7628 [==============================] - 27s 3ms/step - loss: 0.0262 - acc: 0.9959 - val_loss: 0.1202 - val_acc: 0.9811\n",
            "Epoch 28/100\n",
            "7628/7628 [==============================] - 27s 3ms/step - loss: 0.0236 - acc: 0.9954 - val_loss: 0.1063 - val_acc: 0.9801\n",
            "Epoch 29/100\n",
            "7628/7628 [==============================] - 27s 4ms/step - loss: 0.0223 - acc: 0.9963 - val_loss: 0.1595 - val_acc: 0.9775\n",
            "Epoch 30/100\n",
            "7628/7628 [==============================] - 27s 3ms/step - loss: 0.0223 - acc: 0.9963 - val_loss: 0.1192 - val_acc: 0.9754\n",
            "Epoch 31/100\n",
            "7628/7628 [==============================] - 27s 4ms/step - loss: 0.0238 - acc: 0.9955 - val_loss: 0.1544 - val_acc: 0.9748\n",
            "Epoch 32/100\n",
            "7628/7628 [==============================] - 27s 4ms/step - loss: 0.0214 - acc: 0.9961 - val_loss: 0.1219 - val_acc: 0.9801\n",
            "Epoch 33/100\n",
            "7628/7628 [==============================] - 27s 4ms/step - loss: 0.0198 - acc: 0.9970 - val_loss: 0.3392 - val_acc: 0.9256\n",
            "Epoch 34/100\n",
            "7628/7628 [==============================] - 27s 3ms/step - loss: 0.0166 - acc: 0.9975 - val_loss: 0.1205 - val_acc: 0.9785\n",
            "Epoch 35/100\n",
            "7628/7628 [==============================] - 27s 3ms/step - loss: 0.0176 - acc: 0.9967 - val_loss: 0.1224 - val_acc: 0.9785\n",
            "Epoch 36/100\n",
            "7628/7628 [==============================] - 27s 3ms/step - loss: 0.0195 - acc: 0.9961 - val_loss: 0.1092 - val_acc: 0.9769\n",
            "Epoch 37/100\n",
            "7628/7628 [==============================] - 27s 4ms/step - loss: 0.0190 - acc: 0.9966 - val_loss: 0.1546 - val_acc: 0.9754\n",
            "Epoch 38/100\n",
            "7628/7628 [==============================] - 27s 4ms/step - loss: 0.0215 - acc: 0.9965 - val_loss: 0.1263 - val_acc: 0.9806\n",
            "Epoch 39/100\n",
            "7628/7628 [==============================] - 27s 3ms/step - loss: 0.0184 - acc: 0.9966 - val_loss: 0.1315 - val_acc: 0.9790\n",
            "Epoch 40/100\n",
            "7628/7628 [==============================] - 27s 3ms/step - loss: 0.0186 - acc: 0.9970 - val_loss: 0.1047 - val_acc: 0.9801\n",
            "Epoch 41/100\n",
            "7628/7628 [==============================] - 27s 4ms/step - loss: 0.0158 - acc: 0.9975 - val_loss: 0.1483 - val_acc: 0.9738\n",
            "Epoch 42/100\n",
            "7628/7628 [==============================] - 27s 4ms/step - loss: 0.0159 - acc: 0.9970 - val_loss: 0.1473 - val_acc: 0.9780\n",
            "Epoch 43/100\n",
            "7628/7628 [==============================] - 27s 3ms/step - loss: 0.0151 - acc: 0.9980 - val_loss: 0.1191 - val_acc: 0.9832\n",
            "Epoch 44/100\n",
            "7628/7628 [==============================] - 27s 4ms/step - loss: 0.0156 - acc: 0.9976 - val_loss: 0.1432 - val_acc: 0.9738\n",
            "Epoch 45/100\n",
            "7628/7628 [==============================] - 27s 3ms/step - loss: 0.0141 - acc: 0.9972 - val_loss: 0.1381 - val_acc: 0.9785\n",
            "Epoch 46/100\n",
            "7628/7628 [==============================] - 27s 4ms/step - loss: 0.0133 - acc: 0.9983 - val_loss: 0.1271 - val_acc: 0.9806\n",
            "Epoch 47/100\n",
            "7628/7628 [==============================] - 27s 4ms/step - loss: 0.0169 - acc: 0.9970 - val_loss: 0.1006 - val_acc: 0.9811\n",
            "Epoch 48/100\n",
            "7628/7628 [==============================] - 27s 4ms/step - loss: 0.0144 - acc: 0.9971 - val_loss: 0.1040 - val_acc: 0.9806\n",
            "Epoch 49/100\n",
            "7628/7628 [==============================] - 27s 4ms/step - loss: 0.0145 - acc: 0.9978 - val_loss: 0.1081 - val_acc: 0.9764\n",
            "Epoch 50/100\n",
            "7628/7628 [==============================] - 27s 3ms/step - loss: 0.0115 - acc: 0.9980 - val_loss: 0.1214 - val_acc: 0.9796\n",
            "Epoch 51/100\n",
            "7628/7628 [==============================] - 27s 3ms/step - loss: 0.0130 - acc: 0.9974 - val_loss: 0.1628 - val_acc: 0.9696\n",
            "Epoch 52/100\n",
            "7628/7628 [==============================] - 27s 4ms/step - loss: 0.0123 - acc: 0.9978 - val_loss: 0.1349 - val_acc: 0.9806\n",
            "Epoch 53/100\n",
            "7628/7628 [==============================] - 27s 4ms/step - loss: 0.0155 - acc: 0.9974 - val_loss: 0.1190 - val_acc: 0.9790\n",
            "Epoch 54/100\n",
            "7628/7628 [==============================] - 27s 4ms/step - loss: 0.0140 - acc: 0.9969 - val_loss: 0.1157 - val_acc: 0.9822\n",
            "Epoch 55/100\n",
            "7628/7628 [==============================] - 27s 3ms/step - loss: 0.0129 - acc: 0.9976 - val_loss: 0.1042 - val_acc: 0.9811\n",
            "Epoch 56/100\n",
            "7628/7628 [==============================] - 27s 3ms/step - loss: 0.0135 - acc: 0.9980 - val_loss: 0.1209 - val_acc: 0.9796\n",
            "Epoch 57/100\n",
            "7628/7628 [==============================] - 27s 4ms/step - loss: 0.0152 - acc: 0.9971 - val_loss: 0.1143 - val_acc: 0.9806\n",
            "Epoch 58/100\n",
            "7628/7628 [==============================] - 27s 4ms/step - loss: 0.0096 - acc: 0.9976 - val_loss: 0.1940 - val_acc: 0.9680\n",
            "Epoch 59/100\n",
            "7628/7628 [==============================] - 27s 4ms/step - loss: 0.0115 - acc: 0.9975 - val_loss: 0.1719 - val_acc: 0.9665\n",
            "Epoch 60/100\n",
            "7628/7628 [==============================] - 27s 4ms/step - loss: 0.0088 - acc: 0.9983 - val_loss: 0.2881 - val_acc: 0.9497\n",
            "Epoch 61/100\n",
            "7628/7628 [==============================] - 27s 4ms/step - loss: 0.0159 - acc: 0.9975 - val_loss: 0.1480 - val_acc: 0.9806\n",
            "Epoch 62/100\n",
            "7628/7628 [==============================] - 27s 3ms/step - loss: 0.0108 - acc: 0.9974 - val_loss: 0.1066 - val_acc: 0.9827\n",
            "Epoch 63/100\n",
            "7628/7628 [==============================] - 27s 4ms/step - loss: 0.0167 - acc: 0.9972 - val_loss: 0.1313 - val_acc: 0.9775\n",
            "Epoch 64/100\n",
            "7628/7628 [==============================] - 27s 4ms/step - loss: 0.0126 - acc: 0.9970 - val_loss: 0.1647 - val_acc: 0.9696\n",
            "Epoch 65/100\n",
            "7628/7628 [==============================] - 27s 4ms/step - loss: 0.0099 - acc: 0.9972 - val_loss: 0.1063 - val_acc: 0.9827\n",
            "Epoch 66/100\n",
            "7628/7628 [==============================] - 27s 4ms/step - loss: 0.0103 - acc: 0.9978 - val_loss: 0.1405 - val_acc: 0.9785\n",
            "Epoch 67/100\n",
            "7628/7628 [==============================] - 27s 3ms/step - loss: 0.0102 - acc: 0.9976 - val_loss: 0.1254 - val_acc: 0.9801\n",
            "Epoch 68/100\n",
            "7628/7628 [==============================] - 27s 3ms/step - loss: 0.0150 - acc: 0.9963 - val_loss: 0.1005 - val_acc: 0.9817\n",
            "Epoch 69/100\n",
            "7628/7628 [==============================] - 27s 3ms/step - loss: 0.0128 - acc: 0.9970 - val_loss: 0.0993 - val_acc: 0.9796\n",
            "Epoch 70/100\n",
            "7628/7628 [==============================] - 27s 4ms/step - loss: 0.0121 - acc: 0.9979 - val_loss: 0.1213 - val_acc: 0.9822\n",
            "Epoch 71/100\n",
            "7628/7628 [==============================] - 27s 4ms/step - loss: 0.0145 - acc: 0.9966 - val_loss: 0.1088 - val_acc: 0.9838\n",
            "Epoch 72/100\n",
            "7628/7628 [==============================] - 27s 4ms/step - loss: 0.0147 - acc: 0.9974 - val_loss: 0.1362 - val_acc: 0.9738\n",
            "Epoch 73/100\n",
            "7628/7628 [==============================] - 27s 4ms/step - loss: 0.0138 - acc: 0.9969 - val_loss: 0.1405 - val_acc: 0.9764\n",
            "Epoch 74/100\n",
            "7628/7628 [==============================] - 27s 3ms/step - loss: 0.0160 - acc: 0.9967 - val_loss: 0.1229 - val_acc: 0.9796\n",
            "Epoch 75/100\n",
            "7628/7628 [==============================] - 27s 4ms/step - loss: 0.0109 - acc: 0.9975 - val_loss: 0.1239 - val_acc: 0.9811\n",
            "Epoch 76/100\n",
            "7628/7628 [==============================] - 27s 4ms/step - loss: 0.0100 - acc: 0.9974 - val_loss: 0.1051 - val_acc: 0.9822\n",
            "Epoch 77/100\n",
            "7628/7628 [==============================] - 27s 4ms/step - loss: 0.0125 - acc: 0.9972 - val_loss: 0.1491 - val_acc: 0.9759\n",
            "Epoch 78/100\n",
            "7628/7628 [==============================] - 27s 4ms/step - loss: 0.0098 - acc: 0.9978 - val_loss: 0.1627 - val_acc: 0.9722\n",
            "Epoch 79/100\n",
            "7628/7628 [==============================] - 27s 3ms/step - loss: 0.0139 - acc: 0.9965 - val_loss: 0.0858 - val_acc: 0.9801\n",
            "Epoch 80/100\n",
            "7628/7628 [==============================] - 27s 3ms/step - loss: 0.0132 - acc: 0.9971 - val_loss: 0.1161 - val_acc: 0.9806\n",
            "Epoch 81/100\n",
            "7628/7628 [==============================] - 27s 3ms/step - loss: 0.0128 - acc: 0.9976 - val_loss: 0.1597 - val_acc: 0.9727\n",
            "Epoch 82/100\n",
            "7628/7628 [==============================] - 27s 3ms/step - loss: 0.0141 - acc: 0.9970 - val_loss: 0.1278 - val_acc: 0.9790\n",
            "Epoch 83/100\n",
            "7628/7628 [==============================] - 27s 3ms/step - loss: 0.0100 - acc: 0.9978 - val_loss: 0.1388 - val_acc: 0.9738\n",
            "Epoch 84/100\n",
            "7628/7628 [==============================] - 27s 3ms/step - loss: 0.0166 - acc: 0.9971 - val_loss: 0.1159 - val_acc: 0.9775\n",
            "Epoch 85/100\n",
            "7628/7628 [==============================] - 27s 4ms/step - loss: 0.0097 - acc: 0.9983 - val_loss: 0.1473 - val_acc: 0.9817\n",
            "Epoch 86/100\n",
            "7628/7628 [==============================] - 27s 4ms/step - loss: 0.0133 - acc: 0.9966 - val_loss: 0.1037 - val_acc: 0.9801\n",
            "Epoch 87/100\n",
            "7628/7628 [==============================] - 27s 3ms/step - loss: 0.0109 - acc: 0.9971 - val_loss: 0.1859 - val_acc: 0.9712\n",
            "Epoch 88/100\n",
            "7628/7628 [==============================] - 27s 4ms/step - loss: 0.0110 - acc: 0.9980 - val_loss: 0.1244 - val_acc: 0.9801\n",
            "Epoch 89/100\n",
            "7628/7628 [==============================] - 27s 4ms/step - loss: 0.0142 - acc: 0.9970 - val_loss: 0.1372 - val_acc: 0.9801\n",
            "Epoch 90/100\n",
            "7628/7628 [==============================] - 27s 3ms/step - loss: 0.0126 - acc: 0.9970 - val_loss: 0.1250 - val_acc: 0.9796\n",
            "Epoch 91/100\n",
            "7628/7628 [==============================] - 27s 4ms/step - loss: 0.0120 - acc: 0.9976 - val_loss: 0.1231 - val_acc: 0.9775\n",
            "Epoch 92/100\n",
            "7628/7628 [==============================] - 27s 4ms/step - loss: 0.0083 - acc: 0.9979 - val_loss: 0.1580 - val_acc: 0.9780\n",
            "Epoch 93/100\n",
            "7628/7628 [==============================] - 27s 3ms/step - loss: 0.0078 - acc: 0.9978 - val_loss: 0.1151 - val_acc: 0.9790\n",
            "Epoch 94/100\n",
            "7628/7628 [==============================] - 27s 4ms/step - loss: 0.0089 - acc: 0.9972 - val_loss: 0.1189 - val_acc: 0.9796\n",
            "Epoch 95/100\n",
            "7628/7628 [==============================] - 27s 4ms/step - loss: 0.0117 - acc: 0.9974 - val_loss: 0.1325 - val_acc: 0.9811\n",
            "Epoch 96/100\n",
            "7628/7628 [==============================] - 27s 4ms/step - loss: 0.0092 - acc: 0.9976 - val_loss: 0.1025 - val_acc: 0.9811\n",
            "Epoch 97/100\n",
            "7628/7628 [==============================] - 27s 3ms/step - loss: 0.0123 - acc: 0.9969 - val_loss: 0.1481 - val_acc: 0.9801\n",
            "Epoch 98/100\n",
            "7628/7628 [==============================] - 27s 3ms/step - loss: 0.0149 - acc: 0.9967 - val_loss: 0.0931 - val_acc: 0.9780\n",
            "Epoch 99/100\n",
            "7628/7628 [==============================] - 27s 4ms/step - loss: 0.0095 - acc: 0.9974 - val_loss: 0.1520 - val_acc: 0.9769\n",
            "Epoch 100/100\n",
            "7628/7628 [==============================] - 27s 3ms/step - loss: 0.0118 - acc: 0.9978 - val_loss: 0.1485 - val_acc: 0.9785\n"
          ],
          "name": "stdout"
        }
      ]
    },
    {
      "cell_type": "code",
      "metadata": {
        "id": "KxZsBEiQc4LL",
        "colab_type": "code",
        "outputId": "710b8b6d-6c76-44f7-e21b-0aff4995e4ca",
        "colab": {
          "base_uri": "https://localhost:8080/",
          "height": 50
        }
      },
      "source": [
        "test_loss, test_acc = FlaNet.evaluate(testImages, testLabels)\n",
        "test_acc"
      ],
      "execution_count": 16,
      "outputs": [
        {
          "output_type": "stream",
          "text": [
            "2384/2384 [==============================] - 3s 1ms/step\n"
          ],
          "name": "stdout"
        },
        {
          "output_type": "execute_result",
          "data": {
            "text/plain": [
              "0.9899328859060402"
            ]
          },
          "metadata": {
            "tags": []
          },
          "execution_count": 16
        }
      ]
    },
    {
      "cell_type": "code",
      "metadata": {
        "id": "Wr2zfuUJUjAc",
        "colab_type": "code",
        "outputId": "ee473c64-267d-410d-b64d-66dd512db2cd",
        "colab": {
          "base_uri": "https://localhost:8080/",
          "height": 34
        }
      },
      "source": [
        "test_loss"
      ],
      "execution_count": 17,
      "outputs": [
        {
          "output_type": "execute_result",
          "data": {
            "text/plain": [
              "0.07130214512182537"
            ]
          },
          "metadata": {
            "tags": []
          },
          "execution_count": 17
        }
      ]
    },
    {
      "cell_type": "markdown",
      "metadata": {
        "id": "7mHIwC2qs8P9",
        "colab_type": "text"
      },
      "source": [
        "# **Confusion matrix**"
      ]
    },
    {
      "cell_type": "code",
      "metadata": {
        "id": "AjtbTfQaY_sW",
        "colab_type": "code",
        "colab": {}
      },
      "source": [
        "test_predict = FlaNet.predict(testImages)\n",
        "##\n",
        "# binary crossentropy\n",
        "predictLabels = [1 * (test_predict[i]>=0.5) for i in range(len(test_predict))]\n",
        "predictLabels = np.array(predictLabels)\n",
        "\n",
        "# categorical crossentropy\n",
        "#predictLabels = np.array([np.argmax(test_predict[i]) for i in range(len(test_predict))])\n",
        "#testLabels = np.array([np.argmax(testLabels[i]) for i in range(len(test_predict))])"
      ],
      "execution_count": 0,
      "outputs": []
    },
    {
      "cell_type": "code",
      "metadata": {
        "id": "hDskpQnTb4j0",
        "colab_type": "code",
        "outputId": "e70a3449-0531-443a-e3e8-c89e08f25744",
        "colab": {
          "base_uri": "https://localhost:8080/",
          "height": 34
        }
      },
      "source": [
        "predictLabels.shape"
      ],
      "execution_count": 19,
      "outputs": [
        {
          "output_type": "execute_result",
          "data": {
            "text/plain": [
              "(2384, 1)"
            ]
          },
          "metadata": {
            "tags": []
          },
          "execution_count": 19
        }
      ]
    },
    {
      "cell_type": "code",
      "metadata": {
        "id": "tuD6uFWVcA5m",
        "colab_type": "code",
        "outputId": "b81e1795-4f9a-4d00-8a66-d76aa69931d8",
        "colab": {
          "base_uri": "https://localhost:8080/",
          "height": 34
        }
      },
      "source": [
        "testLabels.shape"
      ],
      "execution_count": 20,
      "outputs": [
        {
          "output_type": "execute_result",
          "data": {
            "text/plain": [
              "(2384,)"
            ]
          },
          "metadata": {
            "tags": []
          },
          "execution_count": 20
        }
      ]
    },
    {
      "cell_type": "code",
      "metadata": {
        "id": "rxyruJbpY3DO",
        "colab_type": "code",
        "outputId": "0c27cc31-56ed-4c0f-c977-bf78d1c53817",
        "colab": {
          "base_uri": "https://localhost:8080/",
          "height": 394
        }
      },
      "source": [
        "import matplotlib.pyplot as plt\n",
        "import seaborn as sns; sns.set()\n",
        "\n",
        "from sklearn.metrics import confusion_matrix\n",
        "\n",
        "mat = confusion_matrix(predictLabels, testLabels)\n",
        "\n",
        "plt.figure(figsize=(8,6))\n",
        "ax=sns.heatmap(mat, square=False, annot=True, fmt=\"d\", cbar=True)\n",
        "\n",
        "# There is a bug in matplotlib 3.1.1 causing truncated heatmap \n",
        "bottom, top = ax.get_ylim()\n",
        "ax.set_ylim(bottom + 0.5, top - 0.5)\n",
        "\n",
        "plt.xlabel('predicted value')\n",
        "plt.ylabel('true value')\n",
        "\n",
        "plt.show()"
      ],
      "execution_count": 21,
      "outputs": [
        {
          "output_type": "display_data",
          "data": {
            "image/png": "[encoded data removed]",
            "text/plain": [
              "<Figure size 576x432 with 2 Axes>"
            ]
          },
          "metadata": {
            "tags": []
          }
        }
      ]
    },
    {
      "cell_type": "markdown",
      "metadata": {
        "id": "73LSKAucPIcr",
        "colab_type": "text"
      },
      "source": [
        "# **Inspection of overfitting**"
      ]
    },
    {
      "cell_type": "code",
      "metadata": {
        "id": "roGt1QTD9Z4T",
        "colab_type": "code",
        "colab": {}
      },
      "source": [
        "acc = history.history['acc']\n",
        "val_acc = history.history['val_acc']\n",
        "loss = history.history['loss']\n",
        "val_loss = history.history['val_loss']\n",
        "epochs = range(len(acc))"
      ],
      "execution_count": 0,
      "outputs": []
    },
    {
      "cell_type": "code",
      "metadata": {
        "id": "mz6Is2XDO_0X",
        "colab_type": "code",
        "outputId": "0caed19a-9de1-4b97-e196-f12c8c79f914",
        "colab": {
          "base_uri": "https://localhost:8080/",
          "height": 301
        }
      },
      "source": [
        "plt.figure()\n",
        "\n",
        "plt.plot(epochs, acc, 'r', label='Training acc')\n",
        "plt.plot(epochs, val_acc, 'b', label='Validation acc')\n",
        "\n",
        "plt.title('Training and validation accuracy')\n",
        "plt.xlabel('epochs')\n",
        "plt.ylabel('accuracy')\n",
        "plt.legend()\n",
        "\n",
        "plt.show()"
      ],
      "execution_count": 23,
      "outputs": [
        {
          "output_type": "display_data",
          "data": {
            "image/png": "[encoded data removed]",
            "text/plain": [
              "<Figure size 432x288 with 1 Axes>"
            ]
          },
          "metadata": {
            "tags": []
          }
        }
      ]
    },
    {
      "cell_type": "code",
      "metadata": {
        "id": "Brxz60pyPABz",
        "colab_type": "code",
        "outputId": "ae8b757f-4f0b-4dcf-9ff9-8c3cf96a2c56",
        "colab": {
          "base_uri": "https://localhost:8080/",
          "height": 301
        }
      },
      "source": [
        "plt.figure()\n",
        "\n",
        "plt.plot(epochs, loss, 'r', label='Training loss')\n",
        "plt.plot(epochs, val_loss, 'b', label='Validation loss')\n",
        "plt.title('Training and validation loss')\n",
        "plt.xlabel('epochs')\n",
        "plt.ylabel('loss')\n",
        "plt.legend()\n",
        "\n",
        "plt.show()"
      ],
      "execution_count": 24,
      "outputs": [
        {
          "output_type": "display_data",
          "data": {
            "image/png": "[encoded data removed]",
            "text/plain": [
              "<Figure size 432x288 with 1 Axes>"
            ]
          },
          "metadata": {
            "tags": []
          }
        }
      ]
    },
    {
      "cell_type": "markdown",
      "metadata": {
        "id": "5sNC3YEc0IUA",
        "colab_type": "text"
      },
      "source": [
        "#**Save trained network & history**"
      ]
    },
    {
      "cell_type": "code",
      "metadata": {
        "id": "qPBgloYAFNih",
        "colab_type": "code",
        "outputId": "d6e769a5-2cc9-4446-aaf0-e57b19378840",
        "colab": {
          "base_uri": "https://localhost:8080/",
          "height": 34
        }
      },
      "source": [
        "cd /content/gdrive/My Drive/Colab Notebooks/FlaNet/trainingDatasets/"
      ],
      "execution_count": 25,
      "outputs": [
        {
          "output_type": "stream",
          "text": [
            "/content/gdrive/My Drive/Colab Notebooks/FlaNet/trainingDatasets\n"
          ],
          "name": "stdout"
        }
      ]
    },
    {
      "cell_type": "code",
      "metadata": {
        "id": "JNrafT520WLT",
        "colab_type": "code",
        "colab": {}
      },
      "source": [
        "# save trained network\n",
        "FlaNet.save('FlaNet.h5') "
      ],
      "execution_count": 0,
      "outputs": []
    },
    {
      "cell_type": "code",
      "metadata": {
        "id": "cVZAqV0SAVqw",
        "colab_type": "code",
        "colab": {}
      },
      "source": [
        "# save history\n",
        "import pandas as pd\n",
        "   \n",
        "FlaNet_df = pd.DataFrame(history.history) \n",
        "\n",
        "with open('FlaNet.csv', mode='w') as f:\n",
        "    FlaNet_df.to_csv(f)"
      ],
      "execution_count": 0,
      "outputs": []
    }
  ]
}